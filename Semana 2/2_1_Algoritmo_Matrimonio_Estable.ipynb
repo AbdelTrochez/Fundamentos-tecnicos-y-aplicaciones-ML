{
  "nbformat": 4,
  "nbformat_minor": 0,
  "metadata": {
    "colab": {
      "name": "2.1 Algoritmo Matrimonio Estable.ipynb",
      "provenance": [],
      "collapsed_sections": [],
      "toc_visible": true,
      "mount_file_id": "18NwY5B8BQE08wCC4Gwjd6du-PPiwyNST",
      "authorship_tag": "ABX9TyNGv9EjHfAwJo/o6LEh9JdF",
      "include_colab_link": true
    },
    "kernelspec": {
      "name": "python3",
      "display_name": "Python 3"
    }
  },
  "cells": [
    {
      "cell_type": "markdown",
      "metadata": {
        "id": "view-in-github",
        "colab_type": "text"
      },
      "source": [
        "<a href=\"https://colab.research.google.com/github/AnIsAsPe/Fundamentos-tecnicos-y-aplicaciones-ML/blob/main/2_1_Algoritmo_Matrimonio_Estable.ipynb\" target=\"_parent\"><img src=\"https://colab.research.google.com/assets/colab-badge.svg\" alt=\"Open In Colab\"/></a>"
      ]
    },
    {
      "cell_type": "markdown",
      "metadata": {
        "id": "4UzgnO8r9ljm"
      },
      "source": [
        "#Importar bibliotecas"
      ]
    },
    {
      "cell_type": "code",
      "metadata": {
        "id": "6_iLJn4KX-Np"
      },
      "source": [
        "import numpy as np"
      ],
      "execution_count": 28,
      "outputs": []
    },
    {
      "cell_type": "markdown",
      "metadata": {
        "id": "q9PZfNJW9vVk"
      },
      "source": [
        "#Funciones"
      ]
    },
    {
      "cell_type": "markdown",
      "metadata": {
        "id": "obEJJrB1WgvY"
      },
      "source": [
        "### pref_mujeres_h1_sobre_h()"
      ]
    },
    {
      "cell_type": "code",
      "metadata": {
        "id": "A4tbj6L4Vw-Y"
      },
      "source": [
        " \n",
        "def pref_mujeres_h1_sobre_h(preferencia, m, h, h1): \n",
        "  '''Esta función prueba si la mujer 'm' prefiere al hombre 'h1'\n",
        "     sobre el hombre 'h' '''\n",
        "  N = preferencia.shape[1]\n",
        "\n",
        "  for i in range(N): \n",
        "          \n",
        "      # Si h1 está antes de h en la lista de m,  \n",
        "      # entonces la mujer se queda con el hombre h1\n",
        "      if (preferencia[m][i] == h1): \n",
        "          return True\n",
        "  \n",
        "      # En caso contrario m  se queda con h\n",
        "      if (preferencia[m][i] == h): \n",
        "          return False"
      ],
      "execution_count": 29,
      "outputs": []
    },
    {
      "cell_type": "markdown",
      "metadata": {
        "id": "mdIyAM4xXe6_"
      },
      "source": [
        "### stableMarriage()"
      ]
    },
    {
      "cell_type": "code",
      "metadata": {
        "id": "Qp1M9p4LWzZo"
      },
      "source": [
        "def stableMarriage(preferencia, posicion1='hombre', posicion2='mujer'): \n",
        "  '''Regresa una matriz con las parejas formadas en cada renglón.\n",
        "     preferencias: Matriz que guarda las preferencias de dos grupos de actores a \n",
        "     ser emparejados (por ejemplo: hombres y mujeres) \n",
        "     Las preferencias de cada uno de los hombres se encuentran en los\n",
        "     renglones del 0 al N-1.  \n",
        "     Las preferencias de cada una de las mujeres están desde el \n",
        "     el renglón N al 2N-1\n",
        "     referencia: https://www.geeksforgeeks.org/stable-marriage-problem/ '''\n",
        "     \n",
        "  N = preferencia.shape[1]\n",
        "\n",
        "  # La lista muj_pareja guarda la pareja de las mujeres  \n",
        "  # el valor muj_pareja[i] es el valor de la pareja asignada a la mujer N+i\n",
        "  # cuando el valore es -1 indica que la mujer está libre\n",
        "  muj_pareja = [-1 for i in range(N)]  \n",
        "  \n",
        "  # la lista h_comprometido va a guardar el estatus de cada hombre, el\n",
        "  # valor de h_comprometiod[i] es verdadero cuando está comprometido y falso\n",
        "  # cuando está libre. \n",
        "  h_comprometido = [False for i in range(N)] \n",
        "  \n",
        "  libres = N \n",
        "  \n",
        "  #Mientras existan hombres libres\n",
        "  while (libres > 0):  \n",
        "    # Escoje cualquier hombre libre\n",
        "    h = 0\n",
        "    while (h < N): \n",
        "        # si el hombre h está no está comprometido, se rompe el ciclo while\n",
        "        if (h_comprometido[h] == False):         \n",
        "          break\n",
        "        # de otra manera se prueba con el que sigue hasta encontrar uno libre \n",
        "        h += 1      \n",
        "  \n",
        "    # h es entonces un hombre libre y se buscara una mujer de acuerdo con \n",
        "    # sus preferencias \n",
        "    i = 0\n",
        "    while i < N and h_comprometido[h] == False: \n",
        "      m = preferencia[h][i] \n",
        "  \n",
        "      # Si la primera mujer de sus preferencias m está libre,  \n",
        "      # m y h se comprometen (no se casan) \n",
        "      if (muj_pareja[m - N] == -1): \n",
        "          muj_pareja[m - N] = h \n",
        "          h_comprometido[h] = True\n",
        "          libres -= 1  #ser resta uno a los hombres libres\n",
        "\n",
        "      else:\n",
        "                  \n",
        "          # Si la mujer no está libre, se reviza con qué hombre esta comprometida\n",
        "          h1 = muj_pareja[m - N] \n",
        "  \n",
        "          # Se revisa si la mujer prefiere a su compormetido (h1) sobre  h. \n",
        "          if (pref_mujeres_h1_sobre_h(preferencia, m, h, h1) == False): \n",
        "              muj_pareja[m - N] = h \n",
        "              h_comprometido[h] = True\n",
        "              h_comprometido[h1] = False\n",
        "      i += 1 \n",
        "  \n",
        "  hombres = np.array(muj_pareja)\n",
        "  mujeres = np.arange(N, 2*N)\n",
        "  parejas =np.column_stack((mujeres, hombres))\n",
        "\n",
        "  return parejas"
      ],
      "execution_count": 30,
      "outputs": []
    },
    {
      "cell_type": "markdown",
      "metadata": {
        "id": "r0UvasmA-ACV"
      },
      "source": [
        "# Ejemplo 1 Parejas estables entre hombres y mujeres de acuerdo a sus preferencias"
      ]
    },
    {
      "cell_type": "code",
      "metadata": {
        "colab": {
          "base_uri": "https://localhost:8080/"
        },
        "id": "VZ9GdrmP0XC2",
        "outputId": "509e237a-c93c-4f48-8640-5cd267210f45"
      },
      "source": [
        "#Construcción de una matriz de preferencias\n",
        "pref = {}  #inicia dic para guardar las preferencias ordenadas de hombres y mujeres\n",
        "\n",
        "#las preferencias de los hombres se guardaran de la clave 0 a la clave 4\n",
        "for i in range(0, 5): \n",
        "  pref[i] = np.random.choice(range(5,10), 5, replace=False)\n",
        "\n",
        "#las preferencias de las mujeres se guardaran de la clave 5 a la clave 9   \n",
        "for i in range(5,10):\n",
        "  pref[i] = np.random.choice( range(0, 5), 5, replace=False) #genera preferenciaencias de las mujeres\n",
        "  \n",
        "pref"
      ],
      "execution_count": 31,
      "outputs": [
        {
          "output_type": "execute_result",
          "data": {
            "text/plain": [
              "{0: array([6, 5, 8, 7, 9]),\n",
              " 1: array([6, 5, 7, 8, 9]),\n",
              " 2: array([8, 9, 7, 5, 6]),\n",
              " 3: array([5, 9, 6, 8, 7]),\n",
              " 4: array([6, 8, 7, 5, 9]),\n",
              " 5: array([1, 3, 4, 0, 2]),\n",
              " 6: array([0, 3, 1, 2, 4]),\n",
              " 7: array([2, 4, 3, 0, 1]),\n",
              " 8: array([0, 1, 3, 4, 2]),\n",
              " 9: array([2, 0, 4, 3, 1])}"
            ]
          },
          "metadata": {
            "tags": []
          },
          "execution_count": 31
        }
      ]
    },
    {
      "cell_type": "code",
      "metadata": {
        "colab": {
          "base_uri": "https://localhost:8080/"
        },
        "id": "4tkAEl4ZFoWj",
        "outputId": "e85d07e4-4a90-4b50-b2fc-100711c9f7e5"
      },
      "source": [
        "preferencia = np.stack(list(pref.values()), axis=0)\r\n",
        "print(preferencia.shape)\r\n",
        "preferencia"
      ],
      "execution_count": 32,
      "outputs": [
        {
          "output_type": "stream",
          "text": [
            "(10, 5)\n"
          ],
          "name": "stdout"
        },
        {
          "output_type": "execute_result",
          "data": {
            "text/plain": [
              "array([[6, 5, 8, 7, 9],\n",
              "       [6, 5, 7, 8, 9],\n",
              "       [8, 9, 7, 5, 6],\n",
              "       [5, 9, 6, 8, 7],\n",
              "       [6, 8, 7, 5, 9],\n",
              "       [1, 3, 4, 0, 2],\n",
              "       [0, 3, 1, 2, 4],\n",
              "       [2, 4, 3, 0, 1],\n",
              "       [0, 1, 3, 4, 2],\n",
              "       [2, 0, 4, 3, 1]])"
            ]
          },
          "metadata": {
            "tags": []
          },
          "execution_count": 32
        }
      ]
    },
    {
      "cell_type": "code",
      "metadata": {
        "colab": {
          "base_uri": "https://localhost:8080/"
        },
        "id": "T4wTNIcwmrSV",
        "outputId": "fd55c451-2945-498b-a5c8-3af014292f17"
      },
      "source": [
        "parejas = stableMarriage(preferencia, 'hombre', 'mujer')\r\n",
        "parejas"
      ],
      "execution_count": 33,
      "outputs": [
        {
          "output_type": "execute_result",
          "data": {
            "text/plain": [
              "array([[5, 1],\n",
              "       [6, 0],\n",
              "       [7, 4],\n",
              "       [8, 3],\n",
              "       [9, 2]])"
            ]
          },
          "metadata": {
            "tags": []
          },
          "execution_count": 33
        }
      ]
    },
    {
      "cell_type": "markdown",
      "metadata": {
        "id": "EpPliW-2-FwP"
      },
      "source": [
        "# Ejemplo 2 Recomendacion emparejamiento candidatos-empleos"
      ]
    },
    {
      "cell_type": "markdown",
      "metadata": {
        "id": "J5N5W3nMPXyZ"
      },
      "source": [
        "Conjunto de datos generado a partir del [github](https://github.com/AmarSaini/PrivateJobMatch) [2]"
      ]
    },
    {
      "cell_type": "code",
      "metadata": {
        "colab": {
          "base_uri": "https://localhost:8080/"
        },
        "id": "-Y7TftwE-U_V",
        "outputId": "09ec6e44-2379-417d-fab1-f3f0df03ed87"
      },
      "source": [
        "candidatos = np.genfromtxt('https://raw.githubusercontent.com/AnIsAsPe/Fundamentos-tecnicos-y-aplicaciones-ML/main/Datos/dense_candidate_prefs.csv',\n",
        "                           delimiter=',')\n",
        "candidatos.shape"
      ],
      "execution_count": 34,
      "outputs": [
        {
          "output_type": "execute_result",
          "data": {
            "text/plain": [
              "(100, 100)"
            ]
          },
          "metadata": {
            "tags": []
          },
          "execution_count": 34
        }
      ]
    },
    {
      "cell_type": "code",
      "metadata": {
        "colab": {
          "base_uri": "https://localhost:8080/"
        },
        "id": "6H9BrkmA_B3I",
        "outputId": "c49091ae-3dab-4d53-a3a2-42c45e4e8b19"
      },
      "source": [
        "empleadores = np.genfromtxt('https://raw.githubusercontent.com/AnIsAsPe/Fundamentos-tecnicos-y-aplicaciones-ML/main/Datos/dense_employer_prefs.csv',\n",
        "                            delimiter=',')\n",
        "empleadores.shape"
      ],
      "execution_count": 36,
      "outputs": [
        {
          "output_type": "execute_result",
          "data": {
            "text/plain": [
              "(100, 100)"
            ]
          },
          "metadata": {
            "tags": []
          },
          "execution_count": 36
        }
      ]
    },
    {
      "cell_type": "code",
      "metadata": {
        "colab": {
          "base_uri": "https://localhost:8080/"
        },
        "id": "7TMYsAuhFwvb",
        "outputId": "68352168-8401-457d-8580-86a093550e1a"
      },
      "source": [
        "matriz_pref = np.concatenate((candidatos,empleadores), axis=0)\n",
        "matriz_pref = matriz_pref.astype('int64')\n",
        "matriz_pref.shape"
      ],
      "execution_count": 37,
      "outputs": [
        {
          "output_type": "execute_result",
          "data": {
            "text/plain": [
              "(200, 100)"
            ]
          },
          "metadata": {
            "tags": []
          },
          "execution_count": 37
        }
      ]
    },
    {
      "cell_type": "code",
      "metadata": {
        "colab": {
          "base_uri": "https://localhost:8080/"
        },
        "id": "xkAnmp_HGsZw",
        "outputId": "9a24a49c-0bd6-4688-92a8-6b5dbf67d01a"
      },
      "source": [
        "candidatos_empleadores = stableMarriage(matriz_pref, 'candidato', 'empleador')\r\n",
        "candidatos_empleadores.shape"
      ],
      "execution_count": 38,
      "outputs": [
        {
          "output_type": "execute_result",
          "data": {
            "text/plain": [
              "(100, 2)"
            ]
          },
          "metadata": {
            "tags": []
          },
          "execution_count": 38
        }
      ]
    },
    {
      "cell_type": "code",
      "metadata": {
        "colab": {
          "base_uri": "https://localhost:8080/"
        },
        "id": "DPsszTY9LHny",
        "outputId": "7c716e50-a8ee-41e3-8a6b-31f0e47c3ebc"
      },
      "source": [
        "candidatos_empleadores"
      ],
      "execution_count": 39,
      "outputs": [
        {
          "output_type": "execute_result",
          "data": {
            "text/plain": [
              "array([[100,  33],\n",
              "       [101,  54],\n",
              "       [102,  22],\n",
              "       [103,   4],\n",
              "       [104,   3],\n",
              "       [105,  52],\n",
              "       [106,  75],\n",
              "       [107,  26],\n",
              "       [108,  67],\n",
              "       [109,  36],\n",
              "       [110,  71],\n",
              "       [111,  28],\n",
              "       [112,  89],\n",
              "       [113,  95],\n",
              "       [114,   8],\n",
              "       [115,  66],\n",
              "       [116,  63],\n",
              "       [117,  85],\n",
              "       [118,  56],\n",
              "       [119,  43],\n",
              "       [120,  55],\n",
              "       [121,  59],\n",
              "       [122,   2],\n",
              "       [123,  90],\n",
              "       [124,  81],\n",
              "       [125,  72],\n",
              "       [126,  11],\n",
              "       [127,  70],\n",
              "       [128,  19],\n",
              "       [129,  74],\n",
              "       [130,  65],\n",
              "       [131,  45],\n",
              "       [132,  41],\n",
              "       [133,  61],\n",
              "       [134,  37],\n",
              "       [135,   1],\n",
              "       [136,  88],\n",
              "       [137,  34],\n",
              "       [138,  78],\n",
              "       [139,  80],\n",
              "       [140,  27],\n",
              "       [141,  10],\n",
              "       [142,  13],\n",
              "       [143,   7],\n",
              "       [144,  93],\n",
              "       [145,  40],\n",
              "       [146,  92],\n",
              "       [147,  47],\n",
              "       [148,  76],\n",
              "       [149,  42],\n",
              "       [150,  77],\n",
              "       [151,  64],\n",
              "       [152,   5],\n",
              "       [153,  87],\n",
              "       [154,  99],\n",
              "       [155,  32],\n",
              "       [156,  18],\n",
              "       [157,  57],\n",
              "       [158,  16],\n",
              "       [159,  21],\n",
              "       [160,  60],\n",
              "       [161,  12],\n",
              "       [162,  98],\n",
              "       [163,  82],\n",
              "       [164,  51],\n",
              "       [165,  30],\n",
              "       [166,  15],\n",
              "       [167,  49],\n",
              "       [168,  96],\n",
              "       [169,  58],\n",
              "       [170,  29],\n",
              "       [171,  35],\n",
              "       [172,  25],\n",
              "       [173,  97],\n",
              "       [174,  31],\n",
              "       [175,   6],\n",
              "       [176,  48],\n",
              "       [177,  50],\n",
              "       [178,  38],\n",
              "       [179,  20],\n",
              "       [180,  39],\n",
              "       [181,  24],\n",
              "       [182,   0],\n",
              "       [183,  79],\n",
              "       [184,  14],\n",
              "       [185,  17],\n",
              "       [186,  86],\n",
              "       [187,  53],\n",
              "       [188,  69],\n",
              "       [189,  84],\n",
              "       [190,  23],\n",
              "       [191,  83],\n",
              "       [192,  46],\n",
              "       [193,  44],\n",
              "       [194,  94],\n",
              "       [195,  91],\n",
              "       [196,  68],\n",
              "       [197,  73],\n",
              "       [198,  62],\n",
              "       [199,   9]])"
            ]
          },
          "metadata": {
            "tags": []
          },
          "execution_count": 39
        }
      ]
    },
    {
      "cell_type": "markdown",
      "metadata": {
        "id": "vs4zbtbIKiLq"
      },
      "source": [
        "# Referencias:\r\n",
        "\r\n",
        "1. Stable Marriage Problem [Internet]. GeeksforGeeks. 2013 [citado 13 de diciembre de 2020]. Disponible en: https://www.geeksforgeeks.org/stable-marriage-problem/\r\n",
        "\r\n",
        "\r\n",
        "2. Saini A, Rusu F, Johnston A. PrivateJobMatch: a privacy-oriented deferred multi-match recommender system for stable employment. En: Proceedings of the 13th ACM Conference on Recommender Systems [Internet]. Copenhagen Denmark: ACM; 2019 [citado 24 de noviembre de 2020]. p. 87-95. Disponible en: https://dl.acm.org/doi/10.1145/3298689.3346983\r\n"
      ]
    }
  ]
}
