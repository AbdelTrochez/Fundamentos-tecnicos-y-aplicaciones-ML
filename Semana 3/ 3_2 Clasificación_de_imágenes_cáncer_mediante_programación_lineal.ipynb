{
  "nbformat": 4,
  "nbformat_minor": 0,
  "metadata": {
    "kernelspec": {
      "display_name": "Python 3",
      "language": "python",
      "name": "python3"
    },
    "language_info": {
      "codemirror_mode": {
        "name": "ipython",
        "version": 3
      },
      "file_extension": ".py",
      "mimetype": "text/x-python",
      "name": "python",
      "nbconvert_exporter": "python",
      "pygments_lexer": "ipython3",
      "version": "3.8.2"
    },
    "colab": {
      "name": "Clasificación de imágenes cáncer mediante programación lineal.ipynb",
      "provenance": [],
      "toc_visible": true,
      "include_colab_link": true
    }
  },
  "cells": [
    {
      "cell_type": "markdown",
      "metadata": {
        "id": "view-in-github",
        "colab_type": "text"
      },
      "source": [
        "<a href=\"https://colab.research.google.com/github/AnIsAsPe/Fundamentos-tecnicos-y-aplicaciones-ML/blob/main/Semana%203/%203_2%20Clasificaci%C3%B3n_de_im%C3%A1genes_c%C3%A1ncer_mediante_programaci%C3%B3n_lineal.ipynb\" target=\"_parent\"><img src=\"https://colab.research.google.com/assets/colab-badge.svg\" alt=\"Open In Colab\"/></a>"
      ]
    },
    {
      "cell_type": "markdown",
      "metadata": {
        "id": "KwSJYOEUNSBn"
      },
      "source": [
        "# Clasificación de imágenes mediante programación lineal"
      ]
    },
    {
      "cell_type": "markdown",
      "metadata": {
        "id": "sMzLLuBzOtju"
      },
      "source": [
        "## Cargar bibliotecas"
      ]
    },
    {
      "cell_type": "code",
      "metadata": {
        "id": "w1bhq4X-qyq6",
        "colab": {
          "base_uri": "https://localhost:8080/"
        },
        "outputId": "d758ae45-3e36-4103-d9e5-f866222171aa"
      },
      "source": [
        "!pip install --upgrade --user ortools\r\n",
        "#https://developers.google.com/optimization/reference/python/linear_solver/pywraplp"
      ],
      "execution_count": 1,
      "outputs": [
        {
          "output_type": "stream",
          "text": [
            "Requirement already up-to-date: ortools in /root/.local/lib/python3.6/site-packages (8.1.8487)\n",
            "Requirement already satisfied, skipping upgrade: protobuf>=3.14.0 in /root/.local/lib/python3.6/site-packages (from ortools) (3.14.0)\n",
            "Requirement already satisfied, skipping upgrade: absl-py>=0.11 in /root/.local/lib/python3.6/site-packages (from ortools) (0.11.0)\n",
            "Requirement already satisfied, skipping upgrade: six>=1.9 in /usr/local/lib/python3.6/dist-packages (from protobuf>=3.14.0->ortools) (1.15.0)\n"
          ],
          "name": "stdout"
        }
      ]
    },
    {
      "cell_type": "code",
      "metadata": {
        "id": "kcVJjCGbNmcf"
      },
      "source": [
        "import numpy as np   #librería para manejar matrices y operaciones de matrices \n",
        "import pandas as pd  #librería para manejar tablas de datos\n",
        "\n",
        "                                       #Skimage (Scikit-image): librería para procesamiento de imagenes\n",
        "from skimage import io                 #Modulo para leer una imagen (librería para procesamiento de imagenes)\n",
        "from skimage.transform import rescale  #Función dentro del modulo transform, para cambiar el tamaño de una imagen \n",
        "\n",
        "\n",
        "import matplotlib.pyplot as plt        #Para graficar y visualizar\n",
        "import seaborn as sns\n",
        "\n",
        "from ortools.linear_solver import pywraplp\n",
        "\n",
        "# para especificar que queremos las graficas en linea sin necesidad de usar plt.show()\n",
        "%matplotlib inline      "
      ],
      "execution_count": 1,
      "outputs": []
    },
    {
      "cell_type": "markdown",
      "metadata": {
        "id": "ORsKY9asr6W5"
      },
      "source": [
        "## Funciones\r\n"
      ]
    },
    {
      "cell_type": "markdown",
      "metadata": {
        "id": "Nn6FL7yk5d-m"
      },
      "source": [
        "#### clasificacion_pl()"
      ]
    },
    {
      "cell_type": "code",
      "metadata": {
        "id": "Iq05IKTtxDJV"
      },
      "source": [
        "#Modificada por mi\n",
        "\n",
        "\n",
        "def clasificacion_pl(A,B):\n",
        "  ya = 1\n",
        "  yb = -1\n",
        "\n",
        "  d = A.shape[1]\n",
        "  N_a = A.shape[0]\n",
        "  N_b = B.shape[0]\n",
        "\n",
        "  # 1. Declaramos el 'solver'\n",
        "\n",
        "  solver =  pywraplp.Solver('Clasificador', pywraplp.Solver.GLOP_LINEAR_PROGRAMMING)\n",
        "\n",
        "  # 2. Creamos las variables (1 z  por c/imagen de C, \n",
        "  #                           1 a por c/imagen de S, y\n",
        "  #                           1 beta por cada coeficiente + Bo)\n",
        "\n",
        "  infinito = solver.infinity()\n",
        "  za = [solver.NumVar(0, infinito, 'ya'+str(i)) for i in range(N_a)] \n",
        "  zb = [solver.NumVar(0, infinito, 'ya'+str(i)) for i in range(N_b)] \n",
        "  beta = [solver.NumVar(-infinito, infinito,'B'+str(i)) for i in range(d+1)] \n",
        "\n",
        "  print('cantidad de variables =', solver.NumVariables())\n",
        "\n",
        "  # 3. Definimos las restricciones: \n",
        "\n",
        "  for i in range(N_a):\n",
        "    solver.Add(0 >=  -1* za[i] + 1 - ya * solver.Sum((((beta[j] * A[i][j])+ beta[d]) for j in range(d))))\n",
        "  for i in range(N_b):\n",
        "    solver.Add(0 >=  -1* zb[i] + 1 - yb * solver.Sum((((beta[j] * B[i][j])+ beta[d]) for j in range(d))))\n",
        "\n",
        "  print('Cantidad de restricciones =', solver.NumConstraints())\n",
        "\n",
        "  # 4. Definimos la función objetivo\n",
        "  Agap = solver.Sum(za[i] for i in range(N_a))\n",
        "  Bgap = solver.Sum(zb[i] for i in range(N_b))\n",
        "\n",
        "  solver.Minimize( Agap + Bgap)\n",
        "\n",
        "  # 5. Solucionamos el problema\n",
        "  status = solver.Solve()\n",
        "  if status  == pywraplp.Solver.OPTIMAL:\n",
        "    print('Solución:')\n",
        "    print('Valor objetivo =', solver.Objective().Value())\n",
        "\n",
        "    Bs = []\n",
        "    for bt in beta:\n",
        "      b = bt.solution_value()\n",
        "      Bs.append(b)\n",
        "  else:\n",
        "    raise Exception('The problem does not have an optimal solution.')\n",
        "  return np.array(Bs)\n",
        "\n",
        "  "
      ],
      "execution_count": 2,
      "outputs": []
    },
    {
      "cell_type": "markdown",
      "metadata": {
        "id": "VY5YvILvPFZO"
      },
      "source": [
        "## Lectura y exploración de datos"
      ]
    },
    {
      "cell_type": "code",
      "metadata": {
        "colab": {
          "base_uri": "https://localhost:8080/",
          "height": 255
        },
        "id": "3uZJtN35NtAH",
        "outputId": "e956f6d8-e6c9-4829-8e59-5e3c9b6b6f8c"
      },
      "source": [
        "df = pd.read_csv(('/content/drive/MyDrive/Datos/img_cancer_26x26pixeles_con_etiqueta.csv'))\r\n",
        "print(df.shape)\r\n",
        "df.head()"
      ],
      "execution_count": 3,
      "outputs": [
        {
          "output_type": "stream",
          "text": [
            "(5063, 677)\n"
          ],
          "name": "stdout"
        },
        {
          "output_type": "execute_result",
          "data": {
            "text/html": [
              "<div>\n",
              "<style scoped>\n",
              "    .dataframe tbody tr th:only-of-type {\n",
              "        vertical-align: middle;\n",
              "    }\n",
              "\n",
              "    .dataframe tbody tr th {\n",
              "        vertical-align: top;\n",
              "    }\n",
              "\n",
              "    .dataframe thead th {\n",
              "        text-align: right;\n",
              "    }\n",
              "</style>\n",
              "<table border=\"1\" class=\"dataframe\">\n",
              "  <thead>\n",
              "    <tr style=\"text-align: right;\">\n",
              "      <th></th>\n",
              "      <th>0</th>\n",
              "      <th>1</th>\n",
              "      <th>2</th>\n",
              "      <th>3</th>\n",
              "      <th>4</th>\n",
              "      <th>5</th>\n",
              "      <th>6</th>\n",
              "      <th>7</th>\n",
              "      <th>8</th>\n",
              "      <th>9</th>\n",
              "      <th>10</th>\n",
              "      <th>11</th>\n",
              "      <th>12</th>\n",
              "      <th>13</th>\n",
              "      <th>14</th>\n",
              "      <th>15</th>\n",
              "      <th>16</th>\n",
              "      <th>17</th>\n",
              "      <th>18</th>\n",
              "      <th>19</th>\n",
              "      <th>20</th>\n",
              "      <th>21</th>\n",
              "      <th>22</th>\n",
              "      <th>23</th>\n",
              "      <th>24</th>\n",
              "      <th>25</th>\n",
              "      <th>26</th>\n",
              "      <th>27</th>\n",
              "      <th>28</th>\n",
              "      <th>29</th>\n",
              "      <th>30</th>\n",
              "      <th>31</th>\n",
              "      <th>32</th>\n",
              "      <th>33</th>\n",
              "      <th>34</th>\n",
              "      <th>35</th>\n",
              "      <th>36</th>\n",
              "      <th>37</th>\n",
              "      <th>38</th>\n",
              "      <th>39</th>\n",
              "      <th>...</th>\n",
              "      <th>637</th>\n",
              "      <th>638</th>\n",
              "      <th>639</th>\n",
              "      <th>640</th>\n",
              "      <th>641</th>\n",
              "      <th>642</th>\n",
              "      <th>643</th>\n",
              "      <th>644</th>\n",
              "      <th>645</th>\n",
              "      <th>646</th>\n",
              "      <th>647</th>\n",
              "      <th>648</th>\n",
              "      <th>649</th>\n",
              "      <th>650</th>\n",
              "      <th>651</th>\n",
              "      <th>652</th>\n",
              "      <th>653</th>\n",
              "      <th>654</th>\n",
              "      <th>655</th>\n",
              "      <th>656</th>\n",
              "      <th>657</th>\n",
              "      <th>658</th>\n",
              "      <th>659</th>\n",
              "      <th>660</th>\n",
              "      <th>661</th>\n",
              "      <th>662</th>\n",
              "      <th>663</th>\n",
              "      <th>664</th>\n",
              "      <th>665</th>\n",
              "      <th>666</th>\n",
              "      <th>667</th>\n",
              "      <th>668</th>\n",
              "      <th>669</th>\n",
              "      <th>670</th>\n",
              "      <th>671</th>\n",
              "      <th>672</th>\n",
              "      <th>673</th>\n",
              "      <th>674</th>\n",
              "      <th>675</th>\n",
              "      <th>clase</th>\n",
              "    </tr>\n",
              "  </thead>\n",
              "  <tbody>\n",
              "    <tr>\n",
              "      <th>0</th>\n",
              "      <td>0.083223</td>\n",
              "      <td>0.083223</td>\n",
              "      <td>0.083223</td>\n",
              "      <td>0.083225</td>\n",
              "      <td>0.083405</td>\n",
              "      <td>0.086613</td>\n",
              "      <td>0.094121</td>\n",
              "      <td>0.095760</td>\n",
              "      <td>0.095939</td>\n",
              "      <td>0.095679</td>\n",
              "      <td>0.095800</td>\n",
              "      <td>0.096059</td>\n",
              "      <td>0.095816</td>\n",
              "      <td>0.097095</td>\n",
              "      <td>0.099579</td>\n",
              "      <td>0.104371</td>\n",
              "      <td>0.121509</td>\n",
              "      <td>0.151148</td>\n",
              "      <td>0.166485</td>\n",
              "      <td>0.142229</td>\n",
              "      <td>0.100965</td>\n",
              "      <td>0.084538</td>\n",
              "      <td>0.083237</td>\n",
              "      <td>0.083223</td>\n",
              "      <td>0.083223</td>\n",
              "      <td>0.083223</td>\n",
              "      <td>0.083223</td>\n",
              "      <td>0.083223</td>\n",
              "      <td>0.083240</td>\n",
              "      <td>0.084179</td>\n",
              "      <td>0.092702</td>\n",
              "      <td>0.113767</td>\n",
              "      <td>0.125615</td>\n",
              "      <td>0.128518</td>\n",
              "      <td>0.128971</td>\n",
              "      <td>0.129441</td>\n",
              "      <td>0.130263</td>\n",
              "      <td>0.130819</td>\n",
              "      <td>0.130473</td>\n",
              "      <td>0.130028</td>\n",
              "      <td>...</td>\n",
              "      <td>0.188656</td>\n",
              "      <td>0.188316</td>\n",
              "      <td>0.192373</td>\n",
              "      <td>0.195840</td>\n",
              "      <td>0.194437</td>\n",
              "      <td>0.196929</td>\n",
              "      <td>0.193218</td>\n",
              "      <td>0.175780</td>\n",
              "      <td>0.128152</td>\n",
              "      <td>0.089850</td>\n",
              "      <td>0.083352</td>\n",
              "      <td>0.083223</td>\n",
              "      <td>0.083223</td>\n",
              "      <td>0.083223</td>\n",
              "      <td>0.083223</td>\n",
              "      <td>0.083223</td>\n",
              "      <td>0.083259</td>\n",
              "      <td>0.085485</td>\n",
              "      <td>0.109178</td>\n",
              "      <td>0.145949</td>\n",
              "      <td>0.147400</td>\n",
              "      <td>0.147373</td>\n",
              "      <td>0.153215</td>\n",
              "      <td>0.136331</td>\n",
              "      <td>0.128650</td>\n",
              "      <td>0.127448</td>\n",
              "      <td>0.124526</td>\n",
              "      <td>0.123044</td>\n",
              "      <td>0.123262</td>\n",
              "      <td>0.126940</td>\n",
              "      <td>0.126231</td>\n",
              "      <td>0.126898</td>\n",
              "      <td>0.121795</td>\n",
              "      <td>0.099420</td>\n",
              "      <td>0.084719</td>\n",
              "      <td>0.083252</td>\n",
              "      <td>0.083223</td>\n",
              "      <td>0.083223</td>\n",
              "      <td>0.083223</td>\n",
              "      <td>0</td>\n",
              "    </tr>\n",
              "    <tr>\n",
              "      <th>1</th>\n",
              "      <td>0.083223</td>\n",
              "      <td>0.083223</td>\n",
              "      <td>0.083223</td>\n",
              "      <td>0.083241</td>\n",
              "      <td>0.084892</td>\n",
              "      <td>0.112470</td>\n",
              "      <td>0.192035</td>\n",
              "      <td>0.219843</td>\n",
              "      <td>0.187999</td>\n",
              "      <td>0.180500</td>\n",
              "      <td>0.186738</td>\n",
              "      <td>0.186549</td>\n",
              "      <td>0.189735</td>\n",
              "      <td>0.188186</td>\n",
              "      <td>0.190577</td>\n",
              "      <td>0.193022</td>\n",
              "      <td>0.192217</td>\n",
              "      <td>0.186904</td>\n",
              "      <td>0.186196</td>\n",
              "      <td>0.171629</td>\n",
              "      <td>0.112510</td>\n",
              "      <td>0.085044</td>\n",
              "      <td>0.083240</td>\n",
              "      <td>0.083223</td>\n",
              "      <td>0.083223</td>\n",
              "      <td>0.083223</td>\n",
              "      <td>0.083223</td>\n",
              "      <td>0.083223</td>\n",
              "      <td>0.083305</td>\n",
              "      <td>0.089308</td>\n",
              "      <td>0.159444</td>\n",
              "      <td>0.323082</td>\n",
              "      <td>0.435133</td>\n",
              "      <td>0.479868</td>\n",
              "      <td>0.425607</td>\n",
              "      <td>0.406373</td>\n",
              "      <td>0.416591</td>\n",
              "      <td>0.418254</td>\n",
              "      <td>0.416060</td>\n",
              "      <td>0.420284</td>\n",
              "      <td>...</td>\n",
              "      <td>0.350737</td>\n",
              "      <td>0.328330</td>\n",
              "      <td>0.313045</td>\n",
              "      <td>0.315160</td>\n",
              "      <td>0.312431</td>\n",
              "      <td>0.316695</td>\n",
              "      <td>0.318328</td>\n",
              "      <td>0.278893</td>\n",
              "      <td>0.166274</td>\n",
              "      <td>0.092502</td>\n",
              "      <td>0.083354</td>\n",
              "      <td>0.083223</td>\n",
              "      <td>0.083223</td>\n",
              "      <td>0.083223</td>\n",
              "      <td>0.083223</td>\n",
              "      <td>0.083223</td>\n",
              "      <td>0.083301</td>\n",
              "      <td>0.089128</td>\n",
              "      <td>0.159247</td>\n",
              "      <td>0.262119</td>\n",
              "      <td>0.234541</td>\n",
              "      <td>0.216824</td>\n",
              "      <td>0.201565</td>\n",
              "      <td>0.194039</td>\n",
              "      <td>0.190225</td>\n",
              "      <td>0.190590</td>\n",
              "      <td>0.191628</td>\n",
              "      <td>0.185784</td>\n",
              "      <td>0.175968</td>\n",
              "      <td>0.180713</td>\n",
              "      <td>0.180095</td>\n",
              "      <td>0.184120</td>\n",
              "      <td>0.171356</td>\n",
              "      <td>0.119763</td>\n",
              "      <td>0.086424</td>\n",
              "      <td>0.083276</td>\n",
              "      <td>0.083223</td>\n",
              "      <td>0.083223</td>\n",
              "      <td>0.083223</td>\n",
              "      <td>0</td>\n",
              "    </tr>\n",
              "    <tr>\n",
              "      <th>2</th>\n",
              "      <td>0.083223</td>\n",
              "      <td>0.083223</td>\n",
              "      <td>0.083223</td>\n",
              "      <td>0.083240</td>\n",
              "      <td>0.084891</td>\n",
              "      <td>0.108390</td>\n",
              "      <td>0.155804</td>\n",
              "      <td>0.162704</td>\n",
              "      <td>0.179060</td>\n",
              "      <td>0.174836</td>\n",
              "      <td>0.160696</td>\n",
              "      <td>0.163860</td>\n",
              "      <td>0.181359</td>\n",
              "      <td>0.174879</td>\n",
              "      <td>0.160358</td>\n",
              "      <td>0.162727</td>\n",
              "      <td>0.175161</td>\n",
              "      <td>0.189507</td>\n",
              "      <td>0.215191</td>\n",
              "      <td>0.226223</td>\n",
              "      <td>0.136367</td>\n",
              "      <td>0.086611</td>\n",
              "      <td>0.083256</td>\n",
              "      <td>0.083223</td>\n",
              "      <td>0.083223</td>\n",
              "      <td>0.083223</td>\n",
              "      <td>0.083223</td>\n",
              "      <td>0.083223</td>\n",
              "      <td>0.083272</td>\n",
              "      <td>0.087915</td>\n",
              "      <td>0.154537</td>\n",
              "      <td>0.309475</td>\n",
              "      <td>0.352005</td>\n",
              "      <td>0.328503</td>\n",
              "      <td>0.358213</td>\n",
              "      <td>0.373566</td>\n",
              "      <td>0.346785</td>\n",
              "      <td>0.339945</td>\n",
              "      <td>0.390837</td>\n",
              "      <td>0.392600</td>\n",
              "      <td>...</td>\n",
              "      <td>0.332288</td>\n",
              "      <td>0.331581</td>\n",
              "      <td>0.343050</td>\n",
              "      <td>0.345295</td>\n",
              "      <td>0.330323</td>\n",
              "      <td>0.323152</td>\n",
              "      <td>0.320105</td>\n",
              "      <td>0.279885</td>\n",
              "      <td>0.169279</td>\n",
              "      <td>0.092595</td>\n",
              "      <td>0.083367</td>\n",
              "      <td>0.083223</td>\n",
              "      <td>0.083223</td>\n",
              "      <td>0.083223</td>\n",
              "      <td>0.083223</td>\n",
              "      <td>0.083223</td>\n",
              "      <td>0.083344</td>\n",
              "      <td>0.091139</td>\n",
              "      <td>0.171438</td>\n",
              "      <td>0.296291</td>\n",
              "      <td>0.282717</td>\n",
              "      <td>0.251271</td>\n",
              "      <td>0.217253</td>\n",
              "      <td>0.197555</td>\n",
              "      <td>0.193422</td>\n",
              "      <td>0.184207</td>\n",
              "      <td>0.180436</td>\n",
              "      <td>0.170264</td>\n",
              "      <td>0.177799</td>\n",
              "      <td>0.194378</td>\n",
              "      <td>0.195019</td>\n",
              "      <td>0.178956</td>\n",
              "      <td>0.169096</td>\n",
              "      <td>0.118785</td>\n",
              "      <td>0.086534</td>\n",
              "      <td>0.083280</td>\n",
              "      <td>0.083223</td>\n",
              "      <td>0.083223</td>\n",
              "      <td>0.083223</td>\n",
              "      <td>0</td>\n",
              "    </tr>\n",
              "    <tr>\n",
              "      <th>3</th>\n",
              "      <td>0.083223</td>\n",
              "      <td>0.083223</td>\n",
              "      <td>0.083223</td>\n",
              "      <td>0.083241</td>\n",
              "      <td>0.084968</td>\n",
              "      <td>0.108683</td>\n",
              "      <td>0.163460</td>\n",
              "      <td>0.192673</td>\n",
              "      <td>0.178441</td>\n",
              "      <td>0.165327</td>\n",
              "      <td>0.172069</td>\n",
              "      <td>0.186495</td>\n",
              "      <td>0.178956</td>\n",
              "      <td>0.167983</td>\n",
              "      <td>0.162857</td>\n",
              "      <td>0.169700</td>\n",
              "      <td>0.184739</td>\n",
              "      <td>0.207286</td>\n",
              "      <td>0.224597</td>\n",
              "      <td>0.247589</td>\n",
              "      <td>0.140882</td>\n",
              "      <td>0.086850</td>\n",
              "      <td>0.083257</td>\n",
              "      <td>0.083223</td>\n",
              "      <td>0.083223</td>\n",
              "      <td>0.083223</td>\n",
              "      <td>0.083223</td>\n",
              "      <td>0.083223</td>\n",
              "      <td>0.083273</td>\n",
              "      <td>0.088753</td>\n",
              "      <td>0.156897</td>\n",
              "      <td>0.300279</td>\n",
              "      <td>0.347244</td>\n",
              "      <td>0.385530</td>\n",
              "      <td>0.391457</td>\n",
              "      <td>0.352362</td>\n",
              "      <td>0.352138</td>\n",
              "      <td>0.404086</td>\n",
              "      <td>0.410804</td>\n",
              "      <td>0.362560</td>\n",
              "      <td>...</td>\n",
              "      <td>0.364815</td>\n",
              "      <td>0.359175</td>\n",
              "      <td>0.341390</td>\n",
              "      <td>0.352469</td>\n",
              "      <td>0.337021</td>\n",
              "      <td>0.346255</td>\n",
              "      <td>0.342502</td>\n",
              "      <td>0.302029</td>\n",
              "      <td>0.177949</td>\n",
              "      <td>0.093565</td>\n",
              "      <td>0.083382</td>\n",
              "      <td>0.083223</td>\n",
              "      <td>0.083223</td>\n",
              "      <td>0.083223</td>\n",
              "      <td>0.083223</td>\n",
              "      <td>0.083223</td>\n",
              "      <td>0.083307</td>\n",
              "      <td>0.089709</td>\n",
              "      <td>0.165956</td>\n",
              "      <td>0.278964</td>\n",
              "      <td>0.248794</td>\n",
              "      <td>0.222636</td>\n",
              "      <td>0.206214</td>\n",
              "      <td>0.199162</td>\n",
              "      <td>0.194352</td>\n",
              "      <td>0.190506</td>\n",
              "      <td>0.195654</td>\n",
              "      <td>0.206230</td>\n",
              "      <td>0.195324</td>\n",
              "      <td>0.191298</td>\n",
              "      <td>0.182867</td>\n",
              "      <td>0.184448</td>\n",
              "      <td>0.180449</td>\n",
              "      <td>0.122997</td>\n",
              "      <td>0.086934</td>\n",
              "      <td>0.083285</td>\n",
              "      <td>0.083223</td>\n",
              "      <td>0.083223</td>\n",
              "      <td>0.083223</td>\n",
              "      <td>0</td>\n",
              "    </tr>\n",
              "    <tr>\n",
              "      <th>4</th>\n",
              "      <td>0.083223</td>\n",
              "      <td>0.083223</td>\n",
              "      <td>0.083223</td>\n",
              "      <td>0.083243</td>\n",
              "      <td>0.085150</td>\n",
              "      <td>0.125502</td>\n",
              "      <td>0.223968</td>\n",
              "      <td>0.188510</td>\n",
              "      <td>0.181894</td>\n",
              "      <td>0.181329</td>\n",
              "      <td>0.172335</td>\n",
              "      <td>0.169007</td>\n",
              "      <td>0.173832</td>\n",
              "      <td>0.184832</td>\n",
              "      <td>0.188771</td>\n",
              "      <td>0.204627</td>\n",
              "      <td>0.220360</td>\n",
              "      <td>0.238141</td>\n",
              "      <td>0.270100</td>\n",
              "      <td>0.229637</td>\n",
              "      <td>0.128614</td>\n",
              "      <td>0.086290</td>\n",
              "      <td>0.083253</td>\n",
              "      <td>0.083223</td>\n",
              "      <td>0.083223</td>\n",
              "      <td>0.083223</td>\n",
              "      <td>0.083223</td>\n",
              "      <td>0.083223</td>\n",
              "      <td>0.083290</td>\n",
              "      <td>0.089593</td>\n",
              "      <td>0.165005</td>\n",
              "      <td>0.366662</td>\n",
              "      <td>0.548632</td>\n",
              "      <td>0.433108</td>\n",
              "      <td>0.428869</td>\n",
              "      <td>0.439226</td>\n",
              "      <td>0.422466</td>\n",
              "      <td>0.382484</td>\n",
              "      <td>0.364961</td>\n",
              "      <td>0.389379</td>\n",
              "      <td>...</td>\n",
              "      <td>0.356768</td>\n",
              "      <td>0.350259</td>\n",
              "      <td>0.345512</td>\n",
              "      <td>0.349427</td>\n",
              "      <td>0.360185</td>\n",
              "      <td>0.365872</td>\n",
              "      <td>0.349878</td>\n",
              "      <td>0.325673</td>\n",
              "      <td>0.188289</td>\n",
              "      <td>0.094558</td>\n",
              "      <td>0.083407</td>\n",
              "      <td>0.083223</td>\n",
              "      <td>0.083223</td>\n",
              "      <td>0.083223</td>\n",
              "      <td>0.083223</td>\n",
              "      <td>0.083223</td>\n",
              "      <td>0.083289</td>\n",
              "      <td>0.087291</td>\n",
              "      <td>0.130107</td>\n",
              "      <td>0.201024</td>\n",
              "      <td>0.221397</td>\n",
              "      <td>0.227356</td>\n",
              "      <td>0.207675</td>\n",
              "      <td>0.190300</td>\n",
              "      <td>0.199108</td>\n",
              "      <td>0.204295</td>\n",
              "      <td>0.192606</td>\n",
              "      <td>0.190277</td>\n",
              "      <td>0.187772</td>\n",
              "      <td>0.186235</td>\n",
              "      <td>0.187462</td>\n",
              "      <td>0.198557</td>\n",
              "      <td>0.191787</td>\n",
              "      <td>0.125617</td>\n",
              "      <td>0.087338</td>\n",
              "      <td>0.083290</td>\n",
              "      <td>0.083223</td>\n",
              "      <td>0.083223</td>\n",
              "      <td>0.083223</td>\n",
              "      <td>0</td>\n",
              "    </tr>\n",
              "  </tbody>\n",
              "</table>\n",
              "<p>5 rows × 677 columns</p>\n",
              "</div>"
            ],
            "text/plain": [
              "          0         1         2         3  ...       673       674       675  clase\n",
              "0  0.083223  0.083223  0.083223  0.083225  ...  0.083223  0.083223  0.083223      0\n",
              "1  0.083223  0.083223  0.083223  0.083241  ...  0.083223  0.083223  0.083223      0\n",
              "2  0.083223  0.083223  0.083223  0.083240  ...  0.083223  0.083223  0.083223      0\n",
              "3  0.083223  0.083223  0.083223  0.083241  ...  0.083223  0.083223  0.083223      0\n",
              "4  0.083223  0.083223  0.083223  0.083243  ...  0.083223  0.083223  0.083223      0\n",
              "\n",
              "[5 rows x 677 columns]"
            ]
          },
          "metadata": {
            "tags": []
          },
          "execution_count": 3
        }
      ]
    },
    {
      "cell_type": "code",
      "metadata": {
        "colab": {
          "base_uri": "https://localhost:8080/"
        },
        "id": "Ni83Pk8hO_gT",
        "outputId": "72d1afcc-42e6-46f5-8114-d277a98e8c2a"
      },
      "source": [
        "df['clase'].value_counts()"
      ],
      "execution_count": 4,
      "outputs": [
        {
          "output_type": "execute_result",
          "data": {
            "text/plain": [
              "1    3594\n",
              "0    1469\n",
              "Name: clase, dtype: int64"
            ]
          },
          "metadata": {
            "tags": []
          },
          "execution_count": 4
        }
      ]
    },
    {
      "cell_type": "code",
      "metadata": {
        "colab": {
          "base_uri": "https://localhost:8080/"
        },
        "id": "QGegG9JxPpsS",
        "outputId": "9d4d2d66-a365-4f4c-ffdc-c7b41c47ec1e"
      },
      "source": [
        "df.loc[df['clase']==0,'clase']=-1\r\n",
        "df['clase'].value_counts()"
      ],
      "execution_count": 5,
      "outputs": [
        {
          "output_type": "execute_result",
          "data": {
            "text/plain": [
              " 1    3594\n",
              "-1    1469\n",
              "Name: clase, dtype: int64"
            ]
          },
          "metadata": {
            "tags": []
          },
          "execution_count": 5
        }
      ]
    },
    {
      "cell_type": "code",
      "metadata": {
        "colab": {
          "base_uri": "https://localhost:8080/"
        },
        "id": "9H6gCpEJuOUf",
        "outputId": "5b243966-98df-4cf2-b539-c36151c18ce8"
      },
      "source": [
        "#El método GroupBy de Pandas separa un data frame en varios data frames\r\n",
        "por_clase =df.groupby('clase')\r\n",
        "\r\n",
        "#trabajaremos con la misma cantidad de datos de una clase que de otra\r\n",
        "S = por_clase.get_group(-1)\r\n",
        "C = por_clase.get_group(1).sample(n = len(S), random_state=3)\r\n",
        "datos = pd.concat([S, C])\r\n",
        "\r\n",
        "datos['clase'].value_counts()"
      ],
      "execution_count": 6,
      "outputs": [
        {
          "output_type": "execute_result",
          "data": {
            "text/plain": [
              " 1    1469\n",
              "-1    1469\n",
              "Name: clase, dtype: int64"
            ]
          },
          "metadata": {
            "tags": []
          },
          "execution_count": 6
        }
      ]
    },
    {
      "cell_type": "code",
      "metadata": {
        "colab": {
          "base_uri": "https://localhost:8080/"
        },
        "id": "3a9EZ87MJiou",
        "outputId": "6e4342a9-7e4e-472c-f4ab-ff6b0edd7eb2"
      },
      "source": [
        "# Separar en conjunto de entrenamiento y conjunto de prueba\r\n",
        "prueba = datos.sample(frac=.3, random_state=3)\r\n",
        "\r\n",
        "entrenamiento = pd.concat([datos,prueba]).drop_duplicates(keep=False).reset_index(drop=True)\r\n",
        "prueba = prueba.reset_index(drop=True)\r\n",
        "\r\n",
        "for dat in [prueba, entrenamiento]:\r\n",
        "  print(dat.shape)\r\n",
        "  print(dat['clase'].value_counts(),'\\n')"
      ],
      "execution_count": 7,
      "outputs": [
        {
          "output_type": "stream",
          "text": [
            "(881, 677)\n",
            " 1    453\n",
            "-1    428\n",
            "Name: clase, dtype: int64 \n",
            "\n",
            "(2057, 677)\n",
            "-1    1041\n",
            " 1    1016\n",
            "Name: clase, dtype: int64 \n",
            "\n"
          ],
          "name": "stdout"
        }
      ]
    },
    {
      "cell_type": "code",
      "metadata": {
        "colab": {
          "base_uri": "https://localhost:8080/"
        },
        "id": "TncwVK71YCDR",
        "outputId": "f9e00c89-ebaa-4f78-b618-0eb4b58db1c7"
      },
      "source": [
        "  #El método GroupBy de Pandas separa un data frame en varios data frames\r\n",
        "  por_clase =entrenamiento.groupby('clase')\r\n",
        "\r\n",
        "  #separamos los dataframes de acuerdo a la clase \r\n",
        "  #eliminamos la etiqueta\r\n",
        "  #lo convertimos de regreso a una matriz de numpy\r\n",
        "\r\n",
        "  S = por_clase.get_group(-1).iloc[:,:-1].to_numpy()  #conjunto de imágenes de tejido cáncerígeno\r\n",
        "  C = por_clase.get_group(1).iloc[:,:-1].to_numpy()  #conjunto de imágenes de tejido sano\r\n",
        "\r\n",
        "print(type(C), type(S), '\\n')\r\n",
        "print(C.shape,  S.shape )"
      ],
      "execution_count": 8,
      "outputs": [
        {
          "output_type": "stream",
          "text": [
            "<class 'numpy.ndarray'> <class 'numpy.ndarray'> \n",
            "\n",
            "(1016, 676) (1041, 676)\n"
          ],
          "name": "stdout"
        }
      ]
    },
    {
      "cell_type": "markdown",
      "metadata": {
        "id": "2V57f2dVp4TI"
      },
      "source": [
        "# Clasificación de imágenes con programación lineal"
      ]
    },
    {
      "cell_type": "markdown",
      "metadata": {
        "id": "7B7TJZZ3qr7p"
      },
      "source": [
        "## Desarrollo de la solución"
      ]
    },
    {
      "cell_type": "code",
      "metadata": {
        "colab": {
          "base_uri": "https://localhost:8080/"
        },
        "id": "zNqpHEUZ1spZ",
        "outputId": "ec79ee38-0e13-4479-a4fe-53951eb8915f"
      },
      "source": [
        "A = C  \r\n",
        "B = S \r\n",
        "ya = 1\r\n",
        "yb = -1\r\n",
        "\r\n",
        "d = A.shape[1]\r\n",
        "N_a = A.shape[0]\r\n",
        "N_b = B.shape[0]\r\n",
        "\r\n",
        "# 1. Declaramos el 'solver'\r\n",
        "\r\n",
        "solver =  pywraplp.Solver('Clasificador', pywraplp.Solver.GLOP_LINEAR_PROGRAMMING)\r\n",
        "\r\n",
        "# 2. Creamos las variables (1 z  por c/imagen de C, \r\n",
        "#                           1 a por c/imagen de S, y\r\n",
        "#                           1 beta por cada coeficiente + Bo)\r\n",
        "\r\n",
        "infinito = solver.infinity()\r\n",
        "za = [solver.NumVar(0, infinito, 'ya'+str(i)) for i in range(N_a)] \r\n",
        "zb = [solver.NumVar(0, infinito, 'ya'+str(i)) for i in range(N_b)] \r\n",
        "beta = [solver.NumVar(-infinito, infinito,'B'+str(i)) for i in range(d+1)] \r\n",
        "\r\n",
        "print('cantidad de variables =', solver.NumVariables())\r\n",
        "\r\n",
        "# 3. Definimos las restricciones: \r\n",
        "\r\n",
        "for i in range(N_a):\r\n",
        "  solver.Add(0 >=  -1* za[i] + 1 - ya * solver.Sum((((beta[j] * A[i][j])+ beta[d]) for j in range(d))))\r\n",
        "for i in range(N_b):\r\n",
        "  solver.Add(0 >=  -1* zb[i] + 1 - yb * solver.Sum((((beta[j] * B[i][j])+ beta[d]) for j in range(d))))\r\n",
        "\r\n",
        "print('Cantidad de restricciones =', solver.NumConstraints())"
      ],
      "execution_count": 188,
      "outputs": [
        {
          "output_type": "stream",
          "text": [
            "cantidad de variables = 2141\n",
            "Cantidad de restricciones = 1464\n"
          ],
          "name": "stdout"
        }
      ]
    },
    {
      "cell_type": "code",
      "metadata": {
        "id": "gTwEgVBvKtt8"
      },
      "source": [
        "  \r\n",
        "# 5. Definimos la función objetivo\r\n",
        "Agap = solver.Sum(za[i] for i in range(N_a))\r\n",
        "Bgap = solver.Sum(zb[i] for i in range(N_b))\r\n",
        "\r\n",
        "solver.Minimize(Agap + Bgap)"
      ],
      "execution_count": 189,
      "outputs": []
    },
    {
      "cell_type": "code",
      "metadata": {
        "colab": {
          "base_uri": "https://localhost:8080/"
        },
        "id": "87hTNOpr7CC5",
        "outputId": "41b9c43e-e092-44fe-d458-d1a1d8e3df2d"
      },
      "source": [
        "%%time\r\n",
        "status = solver.Solve()\r\n",
        "status"
      ],
      "execution_count": 190,
      "outputs": [
        {
          "output_type": "stream",
          "text": [
            "CPU times: user 22.1 s, sys: 53.8 ms, total: 22.2 s\n",
            "Wall time: 22.1 s\n"
          ],
          "name": "stdout"
        }
      ]
    },
    {
      "cell_type": "code",
      "metadata": {
        "colab": {
          "base_uri": "https://localhost:8080/"
        },
        "id": "nRo_rBzuU4rO",
        "outputId": "6e666934-0c33-41c7-d6dc-fa891a971d6d"
      },
      "source": [
        "status"
      ],
      "execution_count": 191,
      "outputs": [
        {
          "output_type": "execute_result",
          "data": {
            "text/plain": [
              "0"
            ]
          },
          "metadata": {
            "tags": []
          },
          "execution_count": 191
        }
      ]
    },
    {
      "cell_type": "code",
      "metadata": {
        "colab": {
          "base_uri": "https://localhost:8080/"
        },
        "id": "7l1zF032aale",
        "outputId": "8efb177b-0528-4084-ee53-2705c8efc590"
      },
      "source": [
        "pywraplp.Solver.OPTIMAL"
      ],
      "execution_count": 192,
      "outputs": [
        {
          "output_type": "execute_result",
          "data": {
            "text/plain": [
              "0"
            ]
          },
          "metadata": {
            "tags": []
          },
          "execution_count": 192
        }
      ]
    },
    {
      "cell_type": "code",
      "metadata": {
        "colab": {
          "base_uri": "https://localhost:8080/"
        },
        "id": "QD2QL3x8mBqe",
        "outputId": "4e8a2556-7ba4-4eac-8696-b95a07707760"
      },
      "source": [
        "if status == pywraplp.Solver.OPTIMAL:\r\n",
        "  print('Solution:')\r\n",
        "  print('Objective value =', solver.Objective().Value())\r\n",
        "  Bs = []\r\n",
        "  for bt in beta:\r\n",
        "    b = bt.solution_value( )\r\n",
        "    Bs.append(b)\r\n",
        "else:\r\n",
        "  print('The problem does not have an optimal solution.')"
      ],
      "execution_count": 193,
      "outputs": [
        {
          "output_type": "stream",
          "text": [
            "Solution:\n",
            "Objective value = 0.0\n"
          ],
          "name": "stdout"
        }
      ]
    },
    {
      "cell_type": "code",
      "metadata": {
        "id": "AfLdk7pQ8GEG"
      },
      "source": [
        "Bs = []\r\n",
        "for bt in beta:\r\n",
        "  b = bt.solution_value( )\r\n",
        "  Bs.append(b)\r\n"
      ],
      "execution_count": 63,
      "outputs": []
    },
    {
      "cell_type": "code",
      "metadata": {
        "colab": {
          "base_uri": "https://localhost:8080/"
        },
        "id": "scNC3_mt-Sa4",
        "outputId": "b77f72fc-174f-483e-a139-9b2021eddc7b"
      },
      "source": [
        "betas = np.array(Bs)\r\n",
        "len(betas)  #una beta por cada dimensión + B_0\r\n"
      ],
      "execution_count": 202,
      "outputs": [
        {
          "output_type": "execute_result",
          "data": {
            "text/plain": [
              "array([ 0.00000000e+00,  0.00000000e+00,  0.00000000e+00,  0.00000000e+00,\n",
              "        0.00000000e+00, -4.23193602e+02,  7.22806047e+01, -5.91883068e+01,\n",
              "        5.23715439e+01, -4.49846382e+01,  1.09717882e+01, -6.95146523e+00,\n",
              "        4.00236329e+00, -5.94508980e+00,  1.75131536e+01, -2.18193191e+01,\n",
              "        3.39291752e+01, -2.30728038e+01,  2.84692680e+00,  7.02790979e+01,\n",
              "       -1.07639254e+02,  0.00000000e+00,  0.00000000e+00,  0.00000000e+00,\n",
              "        0.00000000e+00,  0.00000000e+00,  0.00000000e+00,  0.00000000e+00,\n",
              "        0.00000000e+00,  3.11370952e+03, -2.13249820e+02,  6.16643071e+01,\n",
              "        3.10807939e+00,  5.64543298e+00,  0.00000000e+00, -7.75507155e+00,\n",
              "        3.11082583e+01, -4.54714908e+01,  4.58661079e+01, -1.88852099e+01,\n",
              "        0.00000000e+00,  4.44227170e+00,  1.10477071e+01, -2.71410381e+01,\n",
              "        2.95183833e+01, -5.35290147e+01,  3.07674521e+01, -4.26743691e+01,\n",
              "        7.53314150e+02,  0.00000000e+00,  0.00000000e+00,  0.00000000e+00,\n",
              "        0.00000000e+00,  0.00000000e+00, -4.31041520e+02,  1.94333470e+01,\n",
              "       -4.51732967e+01,  2.99372864e+01, -3.77486261e+01,  2.04656911e+01,\n",
              "       -2.87660477e+01,  2.48151662e+01, -9.22260727e+00,  3.84179408e+01,\n",
              "       -4.67451584e+01,  5.28932904e+01, -2.80305677e+01,  3.93822020e+00,\n",
              "       -2.10344072e+01,  2.65159191e+01, -2.00839743e+01,  3.33366255e+01,\n",
              "       -5.42481572e+01,  4.82345455e+01, -1.71930229e+02,  0.00000000e+00,\n",
              "        0.00000000e+00,  0.00000000e+00,  0.00000000e+00,  7.45236463e+01,\n",
              "        2.74849219e+01, -2.32448495e+01,  2.86899150e+01, -1.83043271e+01,\n",
              "        1.26024104e+01,  3.27505425e-01,  1.90245341e+01, -5.67062612e+01,\n",
              "        2.78007344e+01, -2.82552492e+01,  3.05048444e+01, -4.52388477e+01,\n",
              "        1.60347332e+01, -8.99532212e+00, -8.34899158e+00,  6.79761992e-01,\n",
              "       -9.51451762e-01, -3.08985395e+01,  6.44647327e+01, -2.17905396e+01,\n",
              "        5.15600462e+01, -6.03062389e+01, -2.25101787e+03,  0.00000000e+00,\n",
              "        0.00000000e+00,  9.57757947e+00, -8.14162823e+00,  1.23762721e+01,\n",
              "       -3.32664707e+01,  1.86741550e+01, -2.96980233e+01,  4.16281713e+01,\n",
              "       -2.40614531e+01,  4.17024723e+01, -2.82319732e+01,  2.04194821e+01,\n",
              "       -2.16084474e+01,  2.44228112e+01,  2.10653578e+01,  1.42192730e+01,\n",
              "       -2.63557919e+00, -5.84873366e+00,  2.66757743e+01,  2.88537162e+01,\n",
              "       -5.44364324e+01,  1.60581228e+01, -2.14394332e+01,  1.01801405e+02,\n",
              "        1.30823021e+01,  0.00000000e+00,  1.03992360e+02, -5.52602653e+01,\n",
              "        2.83668229e+01, -2.93845290e+01,  1.54963694e+01,  4.28079358e+01,\n",
              "       -4.11976713e+01,  2.82384189e+01, -4.35607139e+01,  1.44069234e+00,\n",
              "        1.23423874e+01, -1.59554611e+01,  6.91494039e+00,  3.72390490e+00,\n",
              "       -5.90104047e+01,  9.03306699e+00, -5.94904713e+00, -5.65377709e+00,\n",
              "       -2.04586539e+01, -1.57409276e+01,  4.68218911e+01, -3.97813000e+01,\n",
              "        3.28223030e+01, -3.47347867e+01, -5.99853207e+01,  1.98679379e+02,\n",
              "       -5.79190551e+01,  4.42719047e+01, -2.57397567e+01,  1.87964026e+01,\n",
              "        1.45487005e+01, -5.30806984e+01,  5.01094618e+01, -4.08738020e+01,\n",
              "        6.06734891e+01, -1.40575846e+01, -1.13811258e+01,  1.98701807e-01,\n",
              "        1.25071779e+01, -1.34247317e+01,  7.73480152e+01, -1.62493763e+01,\n",
              "        2.76650169e+01, -1.09436607e+01,  1.24507298e+01,  4.33357342e+01,\n",
              "       -7.40946003e+01,  4.25050466e+01, -1.41988423e+01, -5.75145585e+00,\n",
              "        5.96001633e+01, -2.69281105e+01,  4.67513703e+01, -5.14087779e+01,\n",
              "        3.98221861e+01,  0.00000000e+00, -2.50047636e+01,  4.78270971e+01,\n",
              "       -5.85341746e+01,  2.10638641e+01, -2.37449797e+01,  8.59250934e+00,\n",
              "        1.00962930e+00, -5.55161934e+00,  2.26941277e+01, -1.16882922e+01,\n",
              "       -3.23920223e+01, -7.33286606e+00, -2.71786632e+01, -1.20295245e+01,\n",
              "        2.09727450e+01, -4.54881660e+01,  7.30856188e+01, -5.81708308e+00,\n",
              "        1.48009682e+01, -2.70795222e+01, -4.30982755e+01,  9.09585563e+00,\n",
              "        6.07536735e+00, -2.30402749e+00, -3.00856683e+00, -2.61174572e+01,\n",
              "        1.19684944e+01, -1.95008939e+01,  1.39190953e+01,  2.78358699e+01,\n",
              "       -2.27478057e+01,  4.03485971e+01, -2.77672267e+01,  1.49909284e+01,\n",
              "       -1.52395422e+01,  1.37887981e+01, -8.83107544e+00,  1.46230831e+01,\n",
              "        2.10973635e+01,  6.62478796e-02,  4.06559176e+00,  3.47304682e+01,\n",
              "       -4.94852019e+01, -3.58088504e+01,  8.57972741e+00,  1.13562492e+00,\n",
              "        3.87533305e+01,  3.86833523e+00,  1.78808747e+00, -8.75594724e+00,\n",
              "       -5.02057209e+01,  1.07162812e+02, -5.18990341e+01,  9.84458998e+00,\n",
              "        7.84226960e+00, -1.40032324e+01,  1.16792510e+00,  3.51297853e+00,\n",
              "       -1.97519776e+01,  1.90797480e+01, -3.78782945e+01,  9.97649180e+00,\n",
              "        1.06730793e+00,  2.27318803e+01, -9.45014166e+00, -1.67217604e+01,\n",
              "       -1.24791277e+01, -1.63568497e+00,  1.27294803e+00,  2.93619752e+01,\n",
              "        2.44913261e+01, -2.85660037e+01, -1.58075238e+01, -2.52781511e+01,\n",
              "       -4.23603140e+01,  1.36909787e+01,  7.48502378e+01, -1.15236145e+02,\n",
              "        5.36240875e+01,  9.22863176e+00, -1.03748573e+01, -3.88465825e+00,\n",
              "        7.91132660e+00, -2.96268389e+00,  2.71925072e+00, -2.52777717e+00,\n",
              "        1.21886558e+01,  1.78302885e+01, -5.30540428e+01,  9.65907659e+00,\n",
              "        8.50331376e+00, -1.60039343e+00,  9.48907504e+00, -2.25631587e+01,\n",
              "       -4.63270301e+00, -4.99942940e+00, -1.68522408e+00, -1.49298392e+01,\n",
              "        2.93255104e+01,  2.66268815e+01,  1.04063980e+01,  1.85689955e+01,\n",
              "       -4.53009962e+01,  6.15200373e+01, -6.38719443e+01,  4.13690550e+01,\n",
              "       -2.85648769e+01,  3.97468923e+00,  2.99789758e+00, -3.17942088e-01,\n",
              "        1.69808586e+01, -1.76555465e+01,  2.40179053e+01, -1.92183209e+01,\n",
              "        3.91762433e+01,  1.35698056e+00,  1.60074863e+01, -3.99813137e+01,\n",
              "        5.51487877e+00,  2.07175579e+01,  1.92699551e+01, -1.70509085e+01,\n",
              "       -4.94596236e+00,  4.37797464e+00,  3.22588323e+00, -2.67747612e+01,\n",
              "        3.61783750e+01, -5.45251840e+01,  5.57189586e+01, -3.79455327e+01,\n",
              "        2.97708497e+01, -2.53663571e+01,  5.35504818e+00,  1.61104748e+01,\n",
              "       -2.61706145e+00, -9.66377325e+00, -2.50339398e+01,  4.72445196e+01,\n",
              "       -3.47274969e+01,  1.41828114e+00, -3.29252074e+01, -1.79244404e+01,\n",
              "       -6.39614582e-01,  3.33244550e+01,  1.22667182e+01, -3.45433779e+00,\n",
              "       -1.67395804e+01, -5.36794117e+01,  7.97036107e+01, -6.30534802e+01,\n",
              "        4.81438641e+01, -2.47927802e+00, -2.89104652e+01,  4.28674034e+01,\n",
              "       -4.69626290e+01,  1.46045064e+01, -8.29671997e+00,  5.50782115e+00,\n",
              "       -1.29843985e+01, -1.30007903e+00, -1.96227909e+01, -1.06873651e+00,\n",
              "        4.38176117e+01, -5.75297270e+01,  3.02705114e+01,  9.94886988e+00,\n",
              "        1.93527869e+01,  1.05202740e+01,  3.00440972e+01, -2.01597669e+01,\n",
              "       -2.69660828e+01, -1.60136784e+00,  4.93885978e+01,  4.81434311e+01,\n",
              "       -4.55311594e+01,  2.45748114e+01, -4.77085156e+01,  1.72775521e+01,\n",
              "        6.03130213e+01, -7.04130183e+01,  6.98036325e+01, -1.46342961e+01,\n",
              "        1.13058667e+01,  2.72077326e+01,  1.16793005e+01, -8.06784799e+00,\n",
              "        2.05667522e+00,  2.83620962e+01, -3.61746632e+01,  2.36522941e+01,\n",
              "       -3.44489643e+00,  2.52626209e+00, -3.88646877e+01,  8.29980326e+00,\n",
              "       -3.38133367e+01, -7.13445058e+00,  5.79203170e+01, -6.11447414e+00,\n",
              "       -3.42021296e+01, -2.51107682e+01,  1.40574216e+01, -1.89017345e+01,\n",
              "        4.07654189e+01, -1.24918021e+01, -2.12854533e+01,  1.02356995e+01,\n",
              "       -4.55178418e+01,  2.72783608e+01, -1.35289391e+01, -4.07513645e+01,\n",
              "       -1.83374237e+01,  2.50984691e+01, -1.73373794e+00, -1.85846840e+01,\n",
              "        8.53226903e+00,  2.39567540e+01, -3.78829055e+01,  2.81824754e+01,\n",
              "        2.29058300e+01, -1.24042501e+01,  2.27467624e+01,  1.43327181e+01,\n",
              "       -5.13967724e+01,  2.29102768e-01, -1.29136969e+01,  4.70713760e+01,\n",
              "       -6.33882224e+01,  5.00766428e+01, -8.69142305e+00, -1.56830195e+01,\n",
              "       -3.38013842e+01,  3.43653868e+01,  2.78403481e+01, -8.43558536e+01,\n",
              "        9.10452774e+01, -3.90373312e+01,  4.47838602e+01, -3.96400578e+01,\n",
              "        2.13195940e+01,  2.08500380e+01, -3.20974530e+01, -5.91547620e+00,\n",
              "       -2.28337821e+00,  1.40608301e+01, -2.52459187e+01,  6.33657161e+00,\n",
              "       -5.31099743e+00, -3.04889875e+01, -1.25736517e+01,  5.68550434e+01,\n",
              "       -3.74277617e+01,  6.87807360e+00,  3.28231669e+01, -2.97537530e+01,\n",
              "       -2.49137647e+01,  2.13575272e+01,  8.18944270e+00, -5.83299911e+00,\n",
              "       -1.17446725e+01,  8.00487269e+01, -1.05503242e+02,  8.46110250e+01,\n",
              "       -6.13754754e+01,  1.37869307e+00, -3.44098798e+00, -3.24715014e+01,\n",
              "        4.79348744e+01,  4.34468697e+00, -6.18368354e+00,  4.03708086e+00,\n",
              "       -4.39228096e+00,  9.79383809e+00,  5.66574693e+00,  2.38874466e+01,\n",
              "        1.71711235e+01,  4.09886881e+00,  2.06238673e+01, -3.28662440e+00,\n",
              "       -2.44716205e+01,  2.01308210e+01,  3.87781292e+01, -3.60983536e+01,\n",
              "        3.42423177e+01, -5.86285580e+01,  7.79268086e+01, -8.54796393e+01,\n",
              "        8.20748388e+01, -7.03335847e+01,  4.51719802e+01,  7.28489547e+00,\n",
              "        2.23933496e+01, -1.11334286e+01,  8.26318293e+00, -4.32100685e+01,\n",
              "        3.46392635e+01, -3.61814057e+01,  6.31486957e+01, -3.85229253e+01,\n",
              "       -5.80713061e+01,  9.33579458e+01, -6.90598198e+01, -3.28242786e+01,\n",
              "        2.52425665e+01, -5.48715776e+01,  6.47557627e+01, -5.42938517e+01,\n",
              "        1.24554176e+01, -1.15839659e+01, -9.94254870e+01,  8.31681417e+01,\n",
              "       -7.36813642e+01,  4.93300219e+01, -2.60480641e+01,  1.80077323e+01,\n",
              "       -1.28320621e+00, -3.59004303e+00, -1.61716565e+01,  7.39135195e+00,\n",
              "       -2.35776323e+01,  4.25857998e+01, -2.49357352e+01,  6.41603726e+00,\n",
              "       -3.95113824e+01,  9.39853114e+00,  8.75890043e+01, -1.09678904e+02,\n",
              "        6.43863345e+01,  5.57482380e+00,  4.15977550e+01, -8.70616934e+00,\n",
              "       -2.78645602e+01,  5.44494266e+01, -4.25347838e+01,  5.70208660e+01,\n",
              "        1.83549051e+02, -5.17175714e+01,  4.04414298e+00, -2.52706063e+01,\n",
              "        1.07069832e-01, -4.68466957e+00,  7.89228448e+00, -1.60848257e+01,\n",
              "        5.76303368e+00,  7.80119852e+00, -4.79227389e+00, -3.17584769e+01,\n",
              "        4.17755046e+01,  1.16893065e+01, -2.66232996e+01,  7.18247462e+00,\n",
              "       -4.08221389e+01,  5.77155168e+01, -1.05540007e+01, -2.51763346e+01,\n",
              "       -3.35398196e+01,  3.37328452e+01, -1.10334393e+01, -3.57593572e+01,\n",
              "        1.09809658e+01,  1.44782414e+02,  8.81617399e+02,  2.71944743e+01,\n",
              "        5.96341598e+01, -2.00287496e+01,  3.95786456e+01, -1.35778468e+01,\n",
              "        2.07296189e+01, -3.87540803e+00,  4.36982473e+00, -1.67103045e+01,\n",
              "        3.78051060e+01,  1.26387132e+01, -4.79551265e+01, -3.47850073e+00,\n",
              "        6.14821613e+01, -2.70730374e+01,  2.95852766e+01, -6.09681473e+01,\n",
              "        3.70286884e+01, -2.03609287e+01,  3.49712591e+01, -2.18745938e+01,\n",
              "        1.42074921e+01,  2.75909988e+01, -2.06644412e+01, -6.07831032e+02,\n",
              "        0.00000000e+00, -1.29571346e+03, -6.29598822e+00, -1.34671387e+01,\n",
              "       -3.74504778e+01,  9.05728347e+00, -3.43852991e+01,  6.10695944e+00,\n",
              "        2.85371683e+01, -3.92077797e+01,  7.71977196e+00, -2.56083206e+01,\n",
              "        2.81206195e+01, -3.99070936e+01, -1.26117907e+01,  2.98000224e+01,\n",
              "        9.74230974e+00,  8.91438967e+00, -2.82940288e+01, -1.23074426e+01,\n",
              "        1.00621541e+01,  2.77632408e+00, -1.93313959e+01, -7.01268539e+01,\n",
              "        4.43374091e+02,  0.00000000e+00,  0.00000000e+00,  0.00000000e+00,\n",
              "        8.63739570e+02, -4.39027402e+01,  5.94945091e+01, -1.75545246e+01,\n",
              "        3.09959095e+01, -8.77984734e+00, -2.84249136e+01,  3.61543712e+01,\n",
              "        6.43964442e+00,  3.81614347e+00, -3.34105372e+00,  5.00210715e+01,\n",
              "       -8.93933404e-01, -3.46022366e+01, -1.81750744e+01,  1.16317422e+01,\n",
              "       -1.21270843e+01,  6.03843073e+01, -3.45715640e+01,  2.36190784e+01,\n",
              "        8.55486627e+01,  1.58300928e+02,  0.00000000e+00,  0.00000000e+00,\n",
              "        0.00000000e+00,  0.00000000e+00,  0.00000000e+00,  4.16301606e+01,\n",
              "       -9.56402135e+01,  2.25162137e+01, -1.68031215e+01, -1.98357309e+01,\n",
              "        3.73210856e+01, -1.69473075e+01, -3.07450306e+00, -2.48423632e+01,\n",
              "        4.01681355e+01, -6.72062213e+01,  2.03271575e+01, -1.99730333e+00,\n",
              "        3.79427844e+01, -1.62454536e+01,  2.16685697e+00, -7.28412629e-01,\n",
              "       -1.06238376e+02,  1.80692544e+02, -1.77265399e+03,  0.00000000e+00,\n",
              "        0.00000000e+00,  0.00000000e+00,  0.00000000e+00,  0.00000000e+00,\n",
              "        0.00000000e+00,  0.00000000e+00,  0.00000000e+00,  1.13657158e+01,\n",
              "       -1.12213914e+01,  3.97077135e+01, -5.44841013e+01,  2.59716800e+01,\n",
              "        5.62522679e+00,  9.10729210e+00, -2.94225060e+01,  2.75060212e+01,\n",
              "       -1.28287712e+01,  1.43467360e+01, -2.76665051e+01,  3.79458442e+00,\n",
              "        8.83644579e+00, -3.71153600e+00,  2.71590933e+02,  0.00000000e+00,\n",
              "        0.00000000e+00,  0.00000000e+00,  0.00000000e+00,  0.00000000e+00,\n",
              "        0.00000000e+00])"
            ]
          },
          "metadata": {
            "tags": []
          },
          "execution_count": 202
        }
      ]
    },
    {
      "cell_type": "markdown",
      "metadata": {
        "id": "JItkmeIqASBd"
      },
      "source": [
        "## Todo junto"
      ]
    },
    {
      "cell_type": "code",
      "metadata": {
        "id": "Y74IY--7-wr2",
        "colab": {
          "base_uri": "https://localhost:8080/"
        },
        "outputId": "ac037ec3-3bb5-4c9b-ccbe-ac74342a1ff6"
      },
      "source": [
        "\r\n",
        "%time betas = clasificacion_pl(C,S)"
      ],
      "execution_count": 9,
      "outputs": [
        {
          "output_type": "stream",
          "text": [
            "cantidad de variables = 2734\n",
            "Cantidad de restricciones = 2057\n",
            "Solución:\n",
            "Valor objetivo = 0.0\n",
            "CPU times: user 1min 24s, sys: 381 ms, total: 1min 24s\n",
            "Wall time: 1min 24s\n"
          ],
          "name": "stdout"
        }
      ]
    },
    {
      "cell_type": "code",
      "metadata": {
        "colab": {
          "base_uri": "https://localhost:8080/"
        },
        "id": "bIVD1SjKqz9h",
        "outputId": "f30ca760-ed55-486f-b7b8-c431d577491a"
      },
      "source": [
        "\r\n",
        "len(betas)"
      ],
      "execution_count": 12,
      "outputs": [
        {
          "output_type": "execute_result",
          "data": {
            "text/plain": [
              "677"
            ]
          },
          "metadata": {
            "tags": []
          },
          "execution_count": 12
        }
      ]
    },
    {
      "cell_type": "code",
      "metadata": {
        "colab": {
          "base_uri": "https://localhost:8080/"
        },
        "id": "hbPF5qjirCoo",
        "outputId": "1b227291-5d0a-4a30-ff29-2cbbb9b6362d"
      },
      "source": [
        "betas[660:670]"
      ],
      "execution_count": 13,
      "outputs": [
        {
          "output_type": "execute_result",
          "data": {
            "text/plain": [
              "array([ -24.40361868,  -17.70807669,    8.92183345,  -13.94207934,\n",
              "        -10.43483874,   -3.40342777,   71.39822103, -103.79356172,\n",
              "         84.45223116,   29.90739932])"
            ]
          },
          "metadata": {
            "tags": []
          },
          "execution_count": 13
        }
      ]
    },
    {
      "cell_type": "markdown",
      "metadata": {
        "id": "u33W0HMxAm9r"
      },
      "source": [
        "## Predicción y evaluación del modelo\r\n",
        "\r\n",
        "* La imágen se clasifica como tejido cancerígeno (-1) si:\r\n",
        "\r\n",
        "$~~~~~~~~~~~~~~~~~~~~~~~~~~~~~~~~~~~~~~~~~~~~~~~~~~~~~~~~~~~~~~~~~~~~~~~~~~~~~~~~~~~~~~~\\langle x_{i},~ \\beta~ \\rangle+\\beta_{0}<0$\r\n",
        "* La imágen se clasifica como tejido sano (1) si :\r\n",
        "$~~~~~~~~~~~~~~~~~~~~~~~~~~~~~~~~~~~~~~~~~~~~~~~~~~~~~~~~~~~~~~~~~~~~~~~~~~~~~~~\\langle x_{i},~ \\beta~ \\rangle+\\beta_{0}>0$"
      ]
    },
    {
      "cell_type": "code",
      "metadata": {
        "colab": {
          "base_uri": "https://localhost:8080/",
          "height": 133
        },
        "id": "4YYp-nqRMr-T",
        "outputId": "e809927c-c010-49db-bca3-9695ca5fae56"
      },
      "source": [
        "entrenamiento['prediccion'] = np.where((entrenamiento.iloc[:,0:675].dot(betas[0:675])+betas[-1])<0,-1,1)\r\n",
        "pd.crosstab(entrenamiento['clase'], entrenamiento['prediccion'])"
      ],
      "execution_count": 15,
      "outputs": [
        {
          "output_type": "execute_result",
          "data": {
            "text/html": [
              "<div>\n",
              "<style scoped>\n",
              "    .dataframe tbody tr th:only-of-type {\n",
              "        vertical-align: middle;\n",
              "    }\n",
              "\n",
              "    .dataframe tbody tr th {\n",
              "        vertical-align: top;\n",
              "    }\n",
              "\n",
              "    .dataframe thead th {\n",
              "        text-align: right;\n",
              "    }\n",
              "</style>\n",
              "<table border=\"1\" class=\"dataframe\">\n",
              "  <thead>\n",
              "    <tr style=\"text-align: right;\">\n",
              "      <th>prediccion</th>\n",
              "      <th>-1</th>\n",
              "      <th>1</th>\n",
              "    </tr>\n",
              "    <tr>\n",
              "      <th>clase</th>\n",
              "      <th></th>\n",
              "      <th></th>\n",
              "    </tr>\n",
              "  </thead>\n",
              "  <tbody>\n",
              "    <tr>\n",
              "      <th>-1</th>\n",
              "      <td>1041</td>\n",
              "      <td>0</td>\n",
              "    </tr>\n",
              "    <tr>\n",
              "      <th>1</th>\n",
              "      <td>0</td>\n",
              "      <td>1016</td>\n",
              "    </tr>\n",
              "  </tbody>\n",
              "</table>\n",
              "</div>"
            ],
            "text/plain": [
              "prediccion    -1     1\n",
              "clase                 \n",
              "-1          1041     0\n",
              " 1             0  1016"
            ]
          },
          "metadata": {
            "tags": []
          },
          "execution_count": 15
        }
      ]
    },
    {
      "cell_type": "code",
      "metadata": {
        "colab": {
          "base_uri": "https://localhost:8080/",
          "height": 133
        },
        "id": "p2e0EMlUFMNR",
        "outputId": "c7c92e7a-e21d-4452-fe7d-6f98536c065e"
      },
      "source": [
        "prueba['prediccion'] = np.where(((prueba.iloc[:,0:675].dot(betas[0:675]))+betas[-1])<0,-1,1)\r\n",
        "matriz_confusion = pd.crosstab(prueba['clase'], prueba['prediccion'])\r\n",
        "matriz_confusion"
      ],
      "execution_count": 22,
      "outputs": [
        {
          "output_type": "execute_result",
          "data": {
            "text/html": [
              "<div>\n",
              "<style scoped>\n",
              "    .dataframe tbody tr th:only-of-type {\n",
              "        vertical-align: middle;\n",
              "    }\n",
              "\n",
              "    .dataframe tbody tr th {\n",
              "        vertical-align: top;\n",
              "    }\n",
              "\n",
              "    .dataframe thead th {\n",
              "        text-align: right;\n",
              "    }\n",
              "</style>\n",
              "<table border=\"1\" class=\"dataframe\">\n",
              "  <thead>\n",
              "    <tr style=\"text-align: right;\">\n",
              "      <th>prediccion</th>\n",
              "      <th>-1</th>\n",
              "      <th>1</th>\n",
              "    </tr>\n",
              "    <tr>\n",
              "      <th>clase</th>\n",
              "      <th></th>\n",
              "      <th></th>\n",
              "    </tr>\n",
              "  </thead>\n",
              "  <tbody>\n",
              "    <tr>\n",
              "      <th>-1</th>\n",
              "      <td>311</td>\n",
              "      <td>117</td>\n",
              "    </tr>\n",
              "    <tr>\n",
              "      <th>1</th>\n",
              "      <td>164</td>\n",
              "      <td>289</td>\n",
              "    </tr>\n",
              "  </tbody>\n",
              "</table>\n",
              "</div>"
            ],
            "text/plain": [
              "prediccion   -1    1\n",
              "clase               \n",
              "-1          311  117\n",
              " 1          164  289"
            ]
          },
          "metadata": {
            "tags": []
          },
          "execution_count": 22
        }
      ]
    }
  ]
}