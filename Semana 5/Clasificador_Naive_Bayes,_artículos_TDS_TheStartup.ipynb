{
  "nbformat": 4,
  "nbformat_minor": 0,
  "metadata": {
    "colab": {
      "name": "Clasificador Naive-Bayes, artículos TDS TheStartup.ipynb",
      "provenance": [],
      "collapsed_sections": [],
      "toc_visible": true,
      "mount_file_id": "1fZKfMPIIp31ULXvjQLHBfyaAEtPVqEg-",
      "authorship_tag": "ABX9TyPIZHkHMOHbeNva2tJNR4/o",
      "include_colab_link": true
    },
    "kernelspec": {
      "name": "python3",
      "display_name": "Python 3"
    }
  },
  "cells": [
    {
      "cell_type": "markdown",
      "metadata": {
        "id": "view-in-github",
        "colab_type": "text"
      },
      "source": [
        "<a href=\"https://colab.research.google.com/github/AnIsAsPe/Fundamentos-tecnicos-y-aplicaciones-ML/blob/main/Clasificador_Naive_Bayes%2C_art%C3%ADculos_TDS_TheStartup.ipynb\" target=\"_parent\"><img src=\"https://colab.research.google.com/assets/colab-badge.svg\" alt=\"Open In Colab\"/></a>"
      ]
    },
    {
      "cell_type": "markdown",
      "metadata": {
        "id": "cNP750bn_0gk"
      },
      "source": [
        "## Leer csv con los articulos guardados de todo 2020"
      ]
    },
    {
      "cell_type": "code",
      "metadata": {
        "colab": {
          "base_uri": "https://localhost:8080/"
        },
        "id": "ITYX_7WmN2CO",
        "outputId": "7f191ddf-4a14-44e1-ced7-fafc17b464c8"
      },
      "source": [
        "import numpy as np\r\n",
        "import pandas as pd\r\n",
        "\r\n",
        "#preprocesar texto\r\n",
        "import nltk\r\n",
        "from nltk.corpus import stopwords\r\n",
        "from nltk import SnowballStemmer\r\n",
        "import re\r\n",
        "\r\n",
        "from sklearn.feature_extraction.text import CountVectorizer, TfidfVectorizer \r\n",
        "from sklearn.model_selection import train_test_split \r\n",
        "from sklearn.naive_bayes import MultinomialNB  \r\n",
        "\r\n",
        "\r\n",
        "nltk.download('stopwords')\r\n",
        "nltk.download('punkt')\r\n",
        "\r\n",
        "import matplotlib.pyplot as plt        #Para graficar y visualizar\r\n",
        "import seaborn as sns"
      ],
      "execution_count": 17,
      "outputs": [
        {
          "output_type": "stream",
          "text": [
            "[nltk_data] Downloading package stopwords to /root/nltk_data...\n",
            "[nltk_data]   Package stopwords is already up-to-date!\n",
            "[nltk_data] Downloading package punkt to /root/nltk_data...\n",
            "[nltk_data]   Package punkt is already up-to-date!\n"
          ],
          "name": "stdout"
        }
      ]
    },
    {
      "cell_type": "code",
      "metadata": {
        "colab": {
          "base_uri": "https://localhost:8080/",
          "height": 159
        },
        "id": "sA_lYwA3_4hk",
        "outputId": "e68ccbf9-a246-48e2-cf22-68a387a0ec24"
      },
      "source": [
        "#leemos el conjunto de datos de los articulos de Towards Data Science\r\n",
        "df_tds = pd.read_csv('/content/drive/MyDrive/Datos/Scraping/TowardsDataScience_articulos_muestra_2020.csv',\r\n",
        "                 usecols=['titulo', 'subtitulo',])\r\n",
        "\r\n",
        "#¿cuántos renglones y cuántas columnas tienen el conjunto de datos?\r\n",
        "print(df_tds.shape) \r\n",
        "\r\n",
        "df_tds.head(3)"
      ],
      "execution_count": 18,
      "outputs": [
        {
          "output_type": "stream",
          "text": [
            "(1334, 2)\n"
          ],
          "name": "stdout"
        },
        {
          "output_type": "execute_result",
          "data": {
            "text/html": [
              "<div>\n",
              "<style scoped>\n",
              "    .dataframe tbody tr th:only-of-type {\n",
              "        vertical-align: middle;\n",
              "    }\n",
              "\n",
              "    .dataframe tbody tr th {\n",
              "        vertical-align: top;\n",
              "    }\n",
              "\n",
              "    .dataframe thead th {\n",
              "        text-align: right;\n",
              "    }\n",
              "</style>\n",
              "<table border=\"1\" class=\"dataframe\">\n",
              "  <thead>\n",
              "    <tr style=\"text-align: right;\">\n",
              "      <th></th>\n",
              "      <th>titulo</th>\n",
              "      <th>subtitulo</th>\n",
              "    </tr>\n",
              "  </thead>\n",
              "  <tbody>\n",
              "    <tr>\n",
              "      <th>0</th>\n",
              "      <td>10 Smooth Python Tricks For Python Gods</td>\n",
              "      <td>10 Tricks that will individualize and better y...</td>\n",
              "    </tr>\n",
              "    <tr>\n",
              "      <th>1</th>\n",
              "      <td>How to process a DataFrame with billions of ro...</td>\n",
              "      <td>Yet another Python library for Data…</td>\n",
              "    </tr>\n",
              "    <tr>\n",
              "      <th>2</th>\n",
              "      <td>SPY vs. VOO: Is there any difference?</td>\n",
              "      <td>Analysis and comparison of two popular S&amp;P 500...</td>\n",
              "    </tr>\n",
              "  </tbody>\n",
              "</table>\n",
              "</div>"
            ],
            "text/plain": [
              "                                              titulo                                          subtitulo\n",
              "0            10 Smooth Python Tricks For Python Gods  10 Tricks that will individualize and better y...\n",
              "1  How to process a DataFrame with billions of ro...               Yet another Python library for Data…\n",
              "2              SPY vs. VOO: Is there any difference?  Analysis and comparison of two popular S&P 500..."
            ]
          },
          "metadata": {
            "tags": []
          },
          "execution_count": 18
        }
      ]
    },
    {
      "cell_type": "code",
      "metadata": {
        "colab": {
          "base_uri": "https://localhost:8080/",
          "height": 159
        },
        "id": "ENtZMsSASNiR",
        "outputId": "4c3b6da3-9a74-4ec5-fdc4-f872318198df"
      },
      "source": [
        "#leemos el conjunto de datos de los articulos de The Startup\r\n",
        "df_startup = pd.read_csv('/content/drive/MyDrive/Datos/Scraping/TheStartup_articulos_muestra_2020.csv',\r\n",
        "                 usecols=[ 'titulo', 'subtitulo'])\r\n",
        "\r\n",
        "#¿cuántos renglones y cuántas columnas tienen el conjunto de datos?\r\n",
        "print(df_startup.shape) \r\n",
        "\r\n",
        "df_startup.head(3)"
      ],
      "execution_count": 19,
      "outputs": [
        {
          "output_type": "stream",
          "text": [
            "(1537, 2)\n"
          ],
          "name": "stdout"
        },
        {
          "output_type": "execute_result",
          "data": {
            "text/html": [
              "<div>\n",
              "<style scoped>\n",
              "    .dataframe tbody tr th:only-of-type {\n",
              "        vertical-align: middle;\n",
              "    }\n",
              "\n",
              "    .dataframe tbody tr th {\n",
              "        vertical-align: top;\n",
              "    }\n",
              "\n",
              "    .dataframe thead th {\n",
              "        text-align: right;\n",
              "    }\n",
              "</style>\n",
              "<table border=\"1\" class=\"dataframe\">\n",
              "  <thead>\n",
              "    <tr style=\"text-align: right;\">\n",
              "      <th></th>\n",
              "      <th>titulo</th>\n",
              "      <th>subtitulo</th>\n",
              "    </tr>\n",
              "  </thead>\n",
              "  <tbody>\n",
              "    <tr>\n",
              "      <th>0</th>\n",
              "      <td>AWS API Gateway private integration with HTTP ...</td>\n",
              "      <td>Tutorial</td>\n",
              "    </tr>\n",
              "    <tr>\n",
              "      <th>1</th>\n",
              "      <td>Experimenting with generics in Go</td>\n",
              "      <td>-</td>\n",
              "    </tr>\n",
              "    <tr>\n",
              "      <th>2</th>\n",
              "      <td>Understanding Java Streams</td>\n",
              "      <td>-</td>\n",
              "    </tr>\n",
              "  </tbody>\n",
              "</table>\n",
              "</div>"
            ],
            "text/plain": [
              "                                              titulo subtitulo\n",
              "0  AWS API Gateway private integration with HTTP ...  Tutorial\n",
              "1                  Experimenting with generics in Go         -\n",
              "2                         Understanding Java Streams         -"
            ]
          },
          "metadata": {
            "tags": []
          },
          "execution_count": 19
        }
      ]
    },
    {
      "cell_type": "code",
      "metadata": {
        "colab": {
          "base_uri": "https://localhost:8080/",
          "height": 221
        },
        "id": "abqUdJtBTxlZ",
        "outputId": "cf964919-20cc-444f-b1d5-218365a6f370"
      },
      "source": [
        "datos = pd.concat([df_tds, df_startup], keys=['tds','startup'])\r\n",
        "datos = datos.reset_index(level=0)\r\n",
        "datos.columns = ['publicacion','titulo','subtitulo']\r\n",
        "datos= datos.reset_index(drop=True)\r\n",
        "print(datos.shape)\r\n",
        "datos.head()"
      ],
      "execution_count": 20,
      "outputs": [
        {
          "output_type": "stream",
          "text": [
            "(2871, 3)\n"
          ],
          "name": "stdout"
        },
        {
          "output_type": "execute_result",
          "data": {
            "text/html": [
              "<div>\n",
              "<style scoped>\n",
              "    .dataframe tbody tr th:only-of-type {\n",
              "        vertical-align: middle;\n",
              "    }\n",
              "\n",
              "    .dataframe tbody tr th {\n",
              "        vertical-align: top;\n",
              "    }\n",
              "\n",
              "    .dataframe thead th {\n",
              "        text-align: right;\n",
              "    }\n",
              "</style>\n",
              "<table border=\"1\" class=\"dataframe\">\n",
              "  <thead>\n",
              "    <tr style=\"text-align: right;\">\n",
              "      <th></th>\n",
              "      <th>publicacion</th>\n",
              "      <th>titulo</th>\n",
              "      <th>subtitulo</th>\n",
              "    </tr>\n",
              "  </thead>\n",
              "  <tbody>\n",
              "    <tr>\n",
              "      <th>0</th>\n",
              "      <td>tds</td>\n",
              "      <td>10 Smooth Python Tricks For Python Gods</td>\n",
              "      <td>10 Tricks that will individualize and better y...</td>\n",
              "    </tr>\n",
              "    <tr>\n",
              "      <th>1</th>\n",
              "      <td>tds</td>\n",
              "      <td>How to process a DataFrame with billions of ro...</td>\n",
              "      <td>Yet another Python library for Data…</td>\n",
              "    </tr>\n",
              "    <tr>\n",
              "      <th>2</th>\n",
              "      <td>tds</td>\n",
              "      <td>SPY vs. VOO: Is there any difference?</td>\n",
              "      <td>Analysis and comparison of two popular S&amp;P 500...</td>\n",
              "    </tr>\n",
              "    <tr>\n",
              "      <th>3</th>\n",
              "      <td>tds</td>\n",
              "      <td>You Want to Learn Rust but You Don’t Know Wher...</td>\n",
              "      <td>A Complete Resource for Rust Beginners</td>\n",
              "    </tr>\n",
              "    <tr>\n",
              "      <th>4</th>\n",
              "      <td>tds</td>\n",
              "      <td>Customer Segmentation in Python</td>\n",
              "      <td>UNSUPERVISED LEARNING</td>\n",
              "    </tr>\n",
              "  </tbody>\n",
              "</table>\n",
              "</div>"
            ],
            "text/plain": [
              "  publicacion  ...                                          subtitulo\n",
              "0         tds  ...  10 Tricks that will individualize and better y...\n",
              "1         tds  ...               Yet another Python library for Data…\n",
              "2         tds  ...  Analysis and comparison of two popular S&P 500...\n",
              "3         tds  ...             A Complete Resource for Rust Beginners\n",
              "4         tds  ...                              UNSUPERVISED LEARNING\n",
              "\n",
              "[5 rows x 3 columns]"
            ]
          },
          "metadata": {
            "tags": []
          },
          "execution_count": 20
        }
      ]
    },
    {
      "cell_type": "code",
      "metadata": {
        "colab": {
          "base_uri": "https://localhost:8080/",
          "height": 204
        },
        "id": "3ASKHdAlQyWY",
        "outputId": "7e7a335a-46e0-48e7-cd37-f0e6a014b173"
      },
      "source": [
        "datos.tail()"
      ],
      "execution_count": 21,
      "outputs": [
        {
          "output_type": "execute_result",
          "data": {
            "text/html": [
              "<div>\n",
              "<style scoped>\n",
              "    .dataframe tbody tr th:only-of-type {\n",
              "        vertical-align: middle;\n",
              "    }\n",
              "\n",
              "    .dataframe tbody tr th {\n",
              "        vertical-align: top;\n",
              "    }\n",
              "\n",
              "    .dataframe thead th {\n",
              "        text-align: right;\n",
              "    }\n",
              "</style>\n",
              "<table border=\"1\" class=\"dataframe\">\n",
              "  <thead>\n",
              "    <tr style=\"text-align: right;\">\n",
              "      <th></th>\n",
              "      <th>publicacion</th>\n",
              "      <th>titulo</th>\n",
              "      <th>subtitulo</th>\n",
              "    </tr>\n",
              "  </thead>\n",
              "  <tbody>\n",
              "    <tr>\n",
              "      <th>2866</th>\n",
              "      <td>startup</td>\n",
              "      <td>Experimental Studies</td>\n",
              "      <td>-</td>\n",
              "    </tr>\n",
              "    <tr>\n",
              "      <th>2867</th>\n",
              "      <td>startup</td>\n",
              "      <td>Ensemble Learning- An Integral Aspect of Machi...</td>\n",
              "      <td>-</td>\n",
              "    </tr>\n",
              "    <tr>\n",
              "      <th>2868</th>\n",
              "      <td>startup</td>\n",
              "      <td>Overview of the TIFIA Program</td>\n",
              "      <td>Analyzing a program without easily downloadabl...</td>\n",
              "    </tr>\n",
              "    <tr>\n",
              "      <th>2869</th>\n",
              "      <td>startup</td>\n",
              "      <td>Sequelize Database Migrations and Models With ...</td>\n",
              "      <td>-</td>\n",
              "    </tr>\n",
              "    <tr>\n",
              "      <th>2870</th>\n",
              "      <td>startup</td>\n",
              "      <td>Steps to achieve the Perfect Way to move forwa...</td>\n",
              "      <td>-</td>\n",
              "    </tr>\n",
              "  </tbody>\n",
              "</table>\n",
              "</div>"
            ],
            "text/plain": [
              "     publicacion  ...                                          subtitulo\n",
              "2866     startup  ...                                                  -\n",
              "2867     startup  ...                                                  -\n",
              "2868     startup  ...  Analyzing a program without easily downloadabl...\n",
              "2869     startup  ...                                                  -\n",
              "2870     startup  ...                                                  -\n",
              "\n",
              "[5 rows x 3 columns]"
            ]
          },
          "metadata": {
            "tags": []
          },
          "execution_count": 21
        }
      ]
    },
    {
      "cell_type": "code",
      "metadata": {
        "colab": {
          "base_uri": "https://localhost:8080/",
          "height": 979
        },
        "id": "1b58psKdQ3_A",
        "outputId": "4db5ac84-31c8-43df-babd-a5eb48341373"
      },
      "source": [
        "datos.sample(30)"
      ],
      "execution_count": 22,
      "outputs": [
        {
          "output_type": "execute_result",
          "data": {
            "text/html": [
              "<div>\n",
              "<style scoped>\n",
              "    .dataframe tbody tr th:only-of-type {\n",
              "        vertical-align: middle;\n",
              "    }\n",
              "\n",
              "    .dataframe tbody tr th {\n",
              "        vertical-align: top;\n",
              "    }\n",
              "\n",
              "    .dataframe thead th {\n",
              "        text-align: right;\n",
              "    }\n",
              "</style>\n",
              "<table border=\"1\" class=\"dataframe\">\n",
              "  <thead>\n",
              "    <tr style=\"text-align: right;\">\n",
              "      <th></th>\n",
              "      <th>publicacion</th>\n",
              "      <th>titulo</th>\n",
              "      <th>subtitulo</th>\n",
              "    </tr>\n",
              "  </thead>\n",
              "  <tbody>\n",
              "    <tr>\n",
              "      <th>1729</th>\n",
              "      <td>startup</td>\n",
              "      <td>Roulette: The House Always Wins (Python Simula...</td>\n",
              "      <td>-</td>\n",
              "    </tr>\n",
              "    <tr>\n",
              "      <th>792</th>\n",
              "      <td>tds</td>\n",
              "      <td>How powerful can an ensemble of linear models be?</td>\n",
              "      <td>How an ensemble of linear models got in the to...</td>\n",
              "    </tr>\n",
              "    <tr>\n",
              "      <th>2740</th>\n",
              "      <td>startup</td>\n",
              "      <td>An Exceptional Company Should Also Have Except...</td>\n",
              "      <td>Unfortunately, that isn’t always the case…</td>\n",
              "    </tr>\n",
              "    <tr>\n",
              "      <th>23</th>\n",
              "      <td>tds</td>\n",
              "      <td>Statistical pitfalls in data science</td>\n",
              "      <td>How stereotypical results can alter data distr...</td>\n",
              "    </tr>\n",
              "    <tr>\n",
              "      <th>613</th>\n",
              "      <td>tds</td>\n",
              "      <td>K-means Clustering on Ordinal Data</td>\n",
              "      <td>Using a mapping to uncover the numeric-like be...</td>\n",
              "    </tr>\n",
              "    <tr>\n",
              "      <th>21</th>\n",
              "      <td>tds</td>\n",
              "      <td>Git-Flow is the Source of Productivity, Not Co...</td>\n",
              "      <td>Nuts and bolts of the two most essential…</td>\n",
              "    </tr>\n",
              "    <tr>\n",
              "      <th>103</th>\n",
              "      <td>tds</td>\n",
              "      <td>A Complete Guide to Using TensorBoard with PyT...</td>\n",
              "      <td>-</td>\n",
              "    </tr>\n",
              "    <tr>\n",
              "      <th>1544</th>\n",
              "      <td>startup</td>\n",
              "      <td>Surprised That Big Tech Failed Us? Here Is How...</td>\n",
              "      <td>While the recent headlines about…</td>\n",
              "    </tr>\n",
              "    <tr>\n",
              "      <th>109</th>\n",
              "      <td>tds</td>\n",
              "      <td>Monte Carlo Tree Search: Implementing Reinforc...</td>\n",
              "      <td>-</td>\n",
              "    </tr>\n",
              "    <tr>\n",
              "      <th>2095</th>\n",
              "      <td>startup</td>\n",
              "      <td>Two Writing Styles That Every Business Author ...</td>\n",
              "      <td>-</td>\n",
              "    </tr>\n",
              "    <tr>\n",
              "      <th>1211</th>\n",
              "      <td>tds</td>\n",
              "      <td>It’s Our Fault Covid Death Forecasts Keep Chan...</td>\n",
              "      <td>So many flaws, so little time</td>\n",
              "    </tr>\n",
              "    <tr>\n",
              "      <th>187</th>\n",
              "      <td>tds</td>\n",
              "      <td>Deep Contextualized Word Representations — A n...</td>\n",
              "      <td>-</td>\n",
              "    </tr>\n",
              "    <tr>\n",
              "      <th>370</th>\n",
              "      <td>tds</td>\n",
              "      <td>Deep learning on a combination of time series ...</td>\n",
              "      <td>-</td>\n",
              "    </tr>\n",
              "    <tr>\n",
              "      <th>2014</th>\n",
              "      <td>startup</td>\n",
              "      <td>Authenticity Matters — The Truth Behind Terrib...</td>\n",
              "      <td>-</td>\n",
              "    </tr>\n",
              "    <tr>\n",
              "      <th>1961</th>\n",
              "      <td>startup</td>\n",
              "      <td>Demystifying Spark’s Stream-Stream OUTER Join</td>\n",
              "      <td>-</td>\n",
              "    </tr>\n",
              "    <tr>\n",
              "      <th>972</th>\n",
              "      <td>tds</td>\n",
              "      <td>New Actuaries Must Know About Machine Learning</td>\n",
              "      <td>The profession is evolving</td>\n",
              "    </tr>\n",
              "    <tr>\n",
              "      <th>798</th>\n",
              "      <td>tds</td>\n",
              "      <td>Who are the unbanked in Morocco?</td>\n",
              "      <td>Insights from a 2017 World Bank survey using s...</td>\n",
              "    </tr>\n",
              "    <tr>\n",
              "      <th>1630</th>\n",
              "      <td>startup</td>\n",
              "      <td>Your 3-Step, Uncomplicated Formula for a More ...</td>\n",
              "      <td>-</td>\n",
              "    </tr>\n",
              "    <tr>\n",
              "      <th>2757</th>\n",
              "      <td>startup</td>\n",
              "      <td>How Workaholic Leaders Are Bad for the Whole Team</td>\n",
              "      <td>-</td>\n",
              "    </tr>\n",
              "    <tr>\n",
              "      <th>1109</th>\n",
              "      <td>tds</td>\n",
              "      <td>A juypter notebook extension for graphical pub...</td>\n",
              "      <td>-</td>\n",
              "    </tr>\n",
              "    <tr>\n",
              "      <th>339</th>\n",
              "      <td>tds</td>\n",
              "      <td>5 Steps to Create a Basic Machine Learning Mod...</td>\n",
              "      <td>Machine Learning</td>\n",
              "    </tr>\n",
              "    <tr>\n",
              "      <th>1490</th>\n",
              "      <td>startup</td>\n",
              "      <td>Types of Dependency Injection in Swift — with ...</td>\n",
              "      <td>-</td>\n",
              "    </tr>\n",
              "    <tr>\n",
              "      <th>1542</th>\n",
              "      <td>startup</td>\n",
              "      <td>An Autopsy of the Investor Mindset</td>\n",
              "      <td>INSIGHTS</td>\n",
              "    </tr>\n",
              "    <tr>\n",
              "      <th>1974</th>\n",
              "      <td>startup</td>\n",
              "      <td>5 Destructive Lies Guys Tell Themselves</td>\n",
              "      <td>Tor Constantino peels back a few of the damaging…</td>\n",
              "    </tr>\n",
              "    <tr>\n",
              "      <th>1845</th>\n",
              "      <td>startup</td>\n",
              "      <td>How Adults Build Products</td>\n",
              "      <td>Applying the cognitive development of children...</td>\n",
              "    </tr>\n",
              "    <tr>\n",
              "      <th>1423</th>\n",
              "      <td>startup</td>\n",
              "      <td>How (And Why) to Budget Now for Strategic Fore...</td>\n",
              "      <td>-</td>\n",
              "    </tr>\n",
              "    <tr>\n",
              "      <th>2029</th>\n",
              "      <td>startup</td>\n",
              "      <td>The Connection Between Resilient Entrepreneurs...</td>\n",
              "      <td>Winning equation: resilience +…</td>\n",
              "    </tr>\n",
              "    <tr>\n",
              "      <th>180</th>\n",
              "      <td>tds</td>\n",
              "      <td>Head Pruning in Transformer Models!</td>\n",
              "      <td>In this article, we are going to look at pruni...</td>\n",
              "    </tr>\n",
              "    <tr>\n",
              "      <th>1419</th>\n",
              "      <td>startup</td>\n",
              "      <td>Function Overloading in Rust</td>\n",
              "      <td>Why you shouldn’t even think about doing it</td>\n",
              "    </tr>\n",
              "    <tr>\n",
              "      <th>542</th>\n",
              "      <td>tds</td>\n",
              "      <td>Silhouette or Elbow? That is the Question.</td>\n",
              "      <td>A deeper look into the most common questions i...</td>\n",
              "    </tr>\n",
              "  </tbody>\n",
              "</table>\n",
              "</div>"
            ],
            "text/plain": [
              "     publicacion  ...                                          subtitulo\n",
              "1729     startup  ...                                                  -\n",
              "792          tds  ...  How an ensemble of linear models got in the to...\n",
              "2740     startup  ...         Unfortunately, that isn’t always the case…\n",
              "23           tds  ...  How stereotypical results can alter data distr...\n",
              "613          tds  ...  Using a mapping to uncover the numeric-like be...\n",
              "21           tds  ...          Nuts and bolts of the two most essential…\n",
              "103          tds  ...                                                  -\n",
              "1544     startup  ...                  While the recent headlines about…\n",
              "109          tds  ...                                                  -\n",
              "2095     startup  ...                                                  -\n",
              "1211         tds  ...                      So many flaws, so little time\n",
              "187          tds  ...                                                  -\n",
              "370          tds  ...                                                  -\n",
              "2014     startup  ...                                                  -\n",
              "1961     startup  ...                                                  -\n",
              "972          tds  ...                         The profession is evolving\n",
              "798          tds  ...  Insights from a 2017 World Bank survey using s...\n",
              "1630     startup  ...                                                  -\n",
              "2757     startup  ...                                                  -\n",
              "1109         tds  ...                                                  -\n",
              "339          tds  ...                                   Machine Learning\n",
              "1490     startup  ...                                                  -\n",
              "1542     startup  ...                                           INSIGHTS\n",
              "1974     startup  ...  Tor Constantino peels back a few of the damaging…\n",
              "1845     startup  ...  Applying the cognitive development of children...\n",
              "1423     startup  ...                                                  -\n",
              "2029     startup  ...                    Winning equation: resilience +…\n",
              "180          tds  ...  In this article, we are going to look at pruni...\n",
              "1419     startup  ...        Why you shouldn’t even think about doing it\n",
              "542          tds  ...  A deeper look into the most common questions i...\n",
              "\n",
              "[30 rows x 3 columns]"
            ]
          },
          "metadata": {
            "tags": []
          },
          "execution_count": 22
        }
      ]
    },
    {
      "cell_type": "markdown",
      "metadata": {
        "id": "cBUsJdVy3r1n"
      },
      "source": [
        "## Preprocesamiento"
      ]
    },
    {
      "cell_type": "markdown",
      "metadata": {
        "id": "qPobLekcKN6j"
      },
      "source": [
        "###Juntar todo titulos y subtitulos en nueva variable \"descripción"
      ]
    },
    {
      "cell_type": "code",
      "metadata": {
        "colab": {
          "base_uri": "https://localhost:8080/",
          "height": 142
        },
        "id": "P54laWwhKc5u",
        "outputId": "02afb51a-6f91-4980-b753-cafbd6f5408d"
      },
      "source": [
        "datos['descripcion'] = datos['titulo'].str.cat(datos['subtitulo'], sep = \". \")\r\n",
        "datos = datos.drop(['titulo','subtitulo'], axis=1)\r\n",
        "datos.head(3)"
      ],
      "execution_count": 23,
      "outputs": [
        {
          "output_type": "execute_result",
          "data": {
            "text/html": [
              "<div>\n",
              "<style scoped>\n",
              "    .dataframe tbody tr th:only-of-type {\n",
              "        vertical-align: middle;\n",
              "    }\n",
              "\n",
              "    .dataframe tbody tr th {\n",
              "        vertical-align: top;\n",
              "    }\n",
              "\n",
              "    .dataframe thead th {\n",
              "        text-align: right;\n",
              "    }\n",
              "</style>\n",
              "<table border=\"1\" class=\"dataframe\">\n",
              "  <thead>\n",
              "    <tr style=\"text-align: right;\">\n",
              "      <th></th>\n",
              "      <th>publicacion</th>\n",
              "      <th>descripcion</th>\n",
              "    </tr>\n",
              "  </thead>\n",
              "  <tbody>\n",
              "    <tr>\n",
              "      <th>0</th>\n",
              "      <td>tds</td>\n",
              "      <td>10 Smooth Python Tricks For Python Gods. 10 Tr...</td>\n",
              "    </tr>\n",
              "    <tr>\n",
              "      <th>1</th>\n",
              "      <td>tds</td>\n",
              "      <td>How to process a DataFrame with billions of ro...</td>\n",
              "    </tr>\n",
              "    <tr>\n",
              "      <th>2</th>\n",
              "      <td>tds</td>\n",
              "      <td>SPY vs. VOO: Is there any difference?. Analysi...</td>\n",
              "    </tr>\n",
              "  </tbody>\n",
              "</table>\n",
              "</div>"
            ],
            "text/plain": [
              "  publicacion                                        descripcion\n",
              "0         tds  10 Smooth Python Tricks For Python Gods. 10 Tr...\n",
              "1         tds  How to process a DataFrame with billions of ro...\n",
              "2         tds  SPY vs. VOO: Is there any difference?. Analysi..."
            ]
          },
          "metadata": {
            "tags": []
          },
          "execution_count": 23
        }
      ]
    },
    {
      "cell_type": "markdown",
      "metadata": {
        "id": "lZaFlbVNOGQv"
      },
      "source": [
        "## Preprocesamiento de texto"
      ]
    },
    {
      "cell_type": "code",
      "metadata": {
        "id": "7k_x2WD3-iZ6"
      },
      "source": [
        "def preprocesar(texto):\n",
        "  #convierte a minúsculas\n",
        "  texto = texto.lower()\n",
        "\n",
        "  #elimina stopwords\n",
        "  stop = re.compile(r'\\b(' + r'|'.join(stopwords.words('english')) + r')\\b\\s*')\n",
        "  texto = stop.sub('', texto) \n",
        "\n",
        "  #stemmer \n",
        "  tokens =  nltk.word_tokenize(texto)\n",
        "  stemmer = SnowballStemmer(\"english\")\n",
        "\n",
        "  stems = [stemmer.stem(token) for token in tokens]\n",
        "  texto=' '.join(stems) \n",
        "\n",
        "  #quita direcciones html\n",
        "  borrar = re.compile('<.*?>')\n",
        "  texto= re.sub(borrar, '', texto)\n",
        "\n",
        "  #quita puntuaciones y todo lo que no sea letra y números\n",
        "  texto = re.sub('[^A-ZÜÖÄa-z0-9]+', ' ', texto)\n",
        "\n",
        "  #quita numeros\n",
        "  texto = re.sub(\" \\d+\", \" \", texto)\n",
        "  \n",
        "  return(texto)"
      ],
      "execution_count": 24,
      "outputs": []
    },
    {
      "cell_type": "code",
      "metadata": {
        "colab": {
          "base_uri": "https://localhost:8080/"
        },
        "id": "BqA2FEq_K7nl",
        "outputId": "fce7dc49-b6fe-4f30-d294-a57bab37a706"
      },
      "source": [
        "datos['descripcion'].str.len().describe()"
      ],
      "execution_count": 25,
      "outputs": [
        {
          "output_type": "execute_result",
          "data": {
            "text/plain": [
              "count    2871.000000\n",
              "mean       82.010101\n",
              "std        24.651132\n",
              "min         4.000000\n",
              "25%        63.000000\n",
              "50%        92.000000\n",
              "75%       101.000000\n",
              "max       204.000000\n",
              "Name: descripcion, dtype: float64"
            ]
          },
          "metadata": {
            "tags": []
          },
          "execution_count": 25
        }
      ]
    },
    {
      "cell_type": "code",
      "metadata": {
        "colab": {
          "base_uri": "https://localhost:8080/",
          "height": 52
        },
        "id": "9I18vMcWLXZF",
        "outputId": "59dd75e3-a42a-4df7-ad5a-e074afb3417a"
      },
      "source": [
        "# Explorar título más largo\r\n",
        "idx = datos['descripcion'].index[datos['descripcion'].str.len() == 204][0]\r\n",
        "desc_max = datos.loc[idx,'descripcion']\r\n",
        "desc_max"
      ],
      "execution_count": 11,
      "outputs": [
        {
          "output_type": "execute_result",
          "data": {
            "application/vnd.google.colaboratory.intrinsic+json": {
              "type": "string"
            },
            "text/plain": [
              "'Regression-based decision trees: Predicting Average Daily Rates for\\xa0Hotels. The purpose of a decision tree is to visualise features of a model by means of a tree-like graph, and infer the importance (and…'"
            ]
          },
          "metadata": {
            "tags": []
          },
          "execution_count": 11
        }
      ]
    },
    {
      "cell_type": "code",
      "metadata": {
        "colab": {
          "base_uri": "https://localhost:8080/",
          "height": 52
        },
        "id": "5qmORh1jNXC_",
        "outputId": "cdf46958-69e9-4280-995d-e0d9777cba1d"
      },
      "source": [
        "preprocesar(desc_max)"
      ],
      "execution_count": 26,
      "outputs": [
        {
          "output_type": "execute_result",
          "data": {
            "application/vnd.google.colaboratory.intrinsic+json": {
              "type": "string"
            },
            "text/plain": [
              "'regression bas decis tree predict averag daili rate hotel purpos decis tree visualis featur model mean tree lik graph infer import '"
            ]
          },
          "metadata": {
            "tags": []
          },
          "execution_count": 26
        }
      ]
    },
    {
      "cell_type": "markdown",
      "metadata": {
        "id": "eil_vYsMOqUM"
      },
      "source": [
        "Lo hacemos para todos los titulos, utilizando el método  ```.apply()```"
      ]
    },
    {
      "cell_type": "code",
      "metadata": {
        "id": "UUwZG-oCNikl"
      },
      "source": [
        "datos['descripcion_pp'] = datos['descripcion'].apply(preprocesar)"
      ],
      "execution_count": 27,
      "outputs": []
    },
    {
      "cell_type": "code",
      "metadata": {
        "colab": {
          "base_uri": "https://localhost:8080/",
          "height": 359
        },
        "id": "Vog71EK6oXi3",
        "outputId": "87d5962e-060b-475f-9ff1-d0c1f32ba569"
      },
      "source": [
        "datos.sample(10)"
      ],
      "execution_count": 28,
      "outputs": [
        {
          "output_type": "execute_result",
          "data": {
            "text/html": [
              "<div>\n",
              "<style scoped>\n",
              "    .dataframe tbody tr th:only-of-type {\n",
              "        vertical-align: middle;\n",
              "    }\n",
              "\n",
              "    .dataframe tbody tr th {\n",
              "        vertical-align: top;\n",
              "    }\n",
              "\n",
              "    .dataframe thead th {\n",
              "        text-align: right;\n",
              "    }\n",
              "</style>\n",
              "<table border=\"1\" class=\"dataframe\">\n",
              "  <thead>\n",
              "    <tr style=\"text-align: right;\">\n",
              "      <th></th>\n",
              "      <th>publicacion</th>\n",
              "      <th>descripcion</th>\n",
              "      <th>descripcion_pp</th>\n",
              "    </tr>\n",
              "  </thead>\n",
              "  <tbody>\n",
              "    <tr>\n",
              "      <th>779</th>\n",
              "      <td>tds</td>\n",
              "      <td>How to Formulate Good Research Question for Da...</td>\n",
              "      <td>formul good research question data analysi lea...</td>\n",
              "    </tr>\n",
              "    <tr>\n",
              "      <th>1951</th>\n",
              "      <td>startup</td>\n",
              "      <td>Probability Sampling with R. R for Probability...</td>\n",
              "      <td>probabl sampl r r probabl statist</td>\n",
              "    </tr>\n",
              "    <tr>\n",
              "      <th>2597</th>\n",
              "      <td>startup</td>\n",
              "      <td>Look for the Helpers. Building excellence is a...</td>\n",
              "      <td>look helper build excel simpl look helper work</td>\n",
              "    </tr>\n",
              "    <tr>\n",
              "      <th>908</th>\n",
              "      <td>tds</td>\n",
              "      <td>Unfolding AlphaFold. DeepMind AlphaFold Algori...</td>\n",
              "      <td>unfold alphafold deepmind alphafold algorithm ...</td>\n",
              "    </tr>\n",
              "    <tr>\n",
              "      <th>1094</th>\n",
              "      <td>tds</td>\n",
              "      <td>7 Statistical Distributions that every Data Sc...</td>\n",
              "      <td>7 statist distribut everi data scientist know ...</td>\n",
              "    </tr>\n",
              "    <tr>\n",
              "      <th>945</th>\n",
              "      <td>tds</td>\n",
              "      <td>Reducing Number of Features for Inference. Spr...</td>\n",
              "      <td>reduc number featur infer spread data across f...</td>\n",
              "    </tr>\n",
              "    <tr>\n",
              "      <th>946</th>\n",
              "      <td>tds</td>\n",
              "      <td>React &amp; D3: Preparing The Data With D3.Nest. -</td>\n",
              "      <td>react d3 prepar data d3 nest</td>\n",
              "    </tr>\n",
              "    <tr>\n",
              "      <th>354</th>\n",
              "      <td>tds</td>\n",
              "      <td>Publish Python Project Documentation on Conflu...</td>\n",
              "      <td>publish python project document confluence htm...</td>\n",
              "    </tr>\n",
              "    <tr>\n",
              "      <th>2302</th>\n",
              "      <td>startup</td>\n",
              "      <td>Forget New Year’s Resolutions, Do These Things...</td>\n",
              "      <td>forget new year resolut thing build better hab...</td>\n",
              "    </tr>\n",
              "    <tr>\n",
              "      <th>733</th>\n",
              "      <td>tds</td>\n",
              "      <td>A Machine Predicts My Next Sentence. Using Doc...</td>\n",
              "      <td>machin predict next sentenc use docker tensorf...</td>\n",
              "    </tr>\n",
              "  </tbody>\n",
              "</table>\n",
              "</div>"
            ],
            "text/plain": [
              "     publicacion  ...                                     descripcion_pp\n",
              "779          tds  ...  formul good research question data analysi lea...\n",
              "1951     startup  ...                  probabl sampl r r probabl statist\n",
              "2597     startup  ...    look helper build excel simpl look helper work \n",
              "908          tds  ...  unfold alphafold deepmind alphafold algorithm ...\n",
              "1094         tds  ...  7 statist distribut everi data scientist know ...\n",
              "945          tds  ...  reduc number featur infer spread data across f...\n",
              "946          tds  ...                      react d3 prepar data d3 nest \n",
              "354          tds  ...  publish python project document confluence htm...\n",
              "2302     startup  ...  forget new year resolut thing build better hab...\n",
              "733          tds  ...  machin predict next sentenc use docker tensorf...\n",
              "\n",
              "[10 rows x 3 columns]"
            ]
          },
          "metadata": {
            "tags": []
          },
          "execution_count": 28
        }
      ]
    },
    {
      "cell_type": "markdown",
      "metadata": {
        "id": "DKLyPvsbIC_A"
      },
      "source": [
        "###Vectorizar texto (X)"
      ]
    },
    {
      "cell_type": "code",
      "metadata": {
        "id": "06vSZ7mc7KSX",
        "colab": {
          "base_uri": "https://localhost:8080/",
          "height": 208
        },
        "outputId": "41dadd3c-f0e3-4de3-a647-a28afea034eb"
      },
      "source": [
        "#Vectorizar texto\n",
        "cv = CountVectorizer()\n",
        "mdt_frec = cv.fit_transform(datos['descripcion_pp']) \n",
        "terminos= cv.get_feature_names()\n",
        "mdt = pd.DataFrame(mdt_frec.todense(), \n",
        "                              index=datos.index, \n",
        "                              columns=terminos)\n",
        "print(mdt.shape)  \n",
        "\n",
        "mdt.head(3)"
      ],
      "execution_count": 29,
      "outputs": [
        {
          "output_type": "stream",
          "text": [
            "(2871, 4729)\n"
          ],
          "name": "stdout"
        },
        {
          "output_type": "execute_result",
          "data": {
            "text/html": [
              "<div>\n",
              "<style scoped>\n",
              "    .dataframe tbody tr th:only-of-type {\n",
              "        vertical-align: middle;\n",
              "    }\n",
              "\n",
              "    .dataframe tbody tr th {\n",
              "        vertical-align: top;\n",
              "    }\n",
              "\n",
              "    .dataframe thead th {\n",
              "        text-align: right;\n",
              "    }\n",
              "</style>\n",
              "<table border=\"1\" class=\"dataframe\">\n",
              "  <thead>\n",
              "    <tr style=\"text-align: right;\">\n",
              "      <th></th>\n",
              "      <th>10</th>\n",
              "      <th>11</th>\n",
              "      <th>12</th>\n",
              "      <th>15</th>\n",
              "      <th>16</th>\n",
              "      <th>17</th>\n",
              "      <th>18</th>\n",
              "      <th>20</th>\n",
              "      <th>2020</th>\n",
              "      <th>25</th>\n",
              "      <th>26</th>\n",
              "      <th>30</th>\n",
              "      <th>3d</th>\n",
              "      <th>5g</th>\n",
              "      <th>ab</th>\n",
              "      <th>abandon</th>\n",
              "      <th>abil</th>\n",
              "      <th>abl</th>\n",
              "      <th>abnorm</th>\n",
              "      <th>abroad</th>\n",
              "      <th>abrupt</th>\n",
              "      <th>absolut</th>\n",
              "      <th>abstract</th>\n",
              "      <th>acceler</th>\n",
              "      <th>accelerate</th>\n",
              "      <th>acceleromet</th>\n",
              "      <th>accent</th>\n",
              "      <th>accept</th>\n",
              "      <th>access</th>\n",
              "      <th>accomplish</th>\n",
              "      <th>accord</th>\n",
              "      <th>account</th>\n",
              "      <th>accur</th>\n",
              "      <th>accuraci</th>\n",
              "      <th>achiev</th>\n",
              "      <th>achill</th>\n",
              "      <th>acknowledg</th>\n",
              "      <th>acm</th>\n",
              "      <th>acquisit</th>\n",
              "      <th>across</th>\n",
              "      <th>...</th>\n",
              "      <th>xlm</th>\n",
              "      <th>xlnet</th>\n",
              "      <th>xml</th>\n",
              "      <th>xor</th>\n",
              "      <th>xpath</th>\n",
              "      <th>xss</th>\n",
              "      <th>yahoo</th>\n",
              "      <th>yann</th>\n",
              "      <th>yatzi</th>\n",
              "      <th>ycombin</th>\n",
              "      <th>ye</th>\n",
              "      <th>yea</th>\n",
              "      <th>year</th>\n",
              "      <th>years</th>\n",
              "      <th>yeast</th>\n",
              "      <th>yelp</th>\n",
              "      <th>yes</th>\n",
              "      <th>yet</th>\n",
              "      <th>yield</th>\n",
              "      <th>yml</th>\n",
              "      <th>yoda</th>\n",
              "      <th>yoga</th>\n",
              "      <th>yolo</th>\n",
              "      <th>yolov3</th>\n",
              "      <th>york</th>\n",
              "      <th>young</th>\n",
              "      <th>younger</th>\n",
              "      <th>youngl</th>\n",
              "      <th>youtub</th>\n",
              "      <th>z3r0trust</th>\n",
              "      <th>z3score</th>\n",
              "      <th>zaharia</th>\n",
              "      <th>zealand</th>\n",
              "      <th>zen</th>\n",
              "      <th>zero</th>\n",
              "      <th>zier</th>\n",
              "      <th>zip</th>\n",
              "      <th>zoom</th>\n",
              "      <th>zsh</th>\n",
              "      <th>zuckerberg</th>\n",
              "    </tr>\n",
              "  </thead>\n",
              "  <tbody>\n",
              "    <tr>\n",
              "      <th>0</th>\n",
              "      <td>1</td>\n",
              "      <td>0</td>\n",
              "      <td>0</td>\n",
              "      <td>0</td>\n",
              "      <td>0</td>\n",
              "      <td>0</td>\n",
              "      <td>0</td>\n",
              "      <td>0</td>\n",
              "      <td>0</td>\n",
              "      <td>0</td>\n",
              "      <td>0</td>\n",
              "      <td>0</td>\n",
              "      <td>0</td>\n",
              "      <td>0</td>\n",
              "      <td>0</td>\n",
              "      <td>0</td>\n",
              "      <td>0</td>\n",
              "      <td>0</td>\n",
              "      <td>0</td>\n",
              "      <td>0</td>\n",
              "      <td>0</td>\n",
              "      <td>0</td>\n",
              "      <td>0</td>\n",
              "      <td>0</td>\n",
              "      <td>0</td>\n",
              "      <td>0</td>\n",
              "      <td>0</td>\n",
              "      <td>0</td>\n",
              "      <td>0</td>\n",
              "      <td>0</td>\n",
              "      <td>0</td>\n",
              "      <td>0</td>\n",
              "      <td>0</td>\n",
              "      <td>0</td>\n",
              "      <td>0</td>\n",
              "      <td>0</td>\n",
              "      <td>0</td>\n",
              "      <td>0</td>\n",
              "      <td>0</td>\n",
              "      <td>0</td>\n",
              "      <td>...</td>\n",
              "      <td>0</td>\n",
              "      <td>0</td>\n",
              "      <td>0</td>\n",
              "      <td>0</td>\n",
              "      <td>0</td>\n",
              "      <td>0</td>\n",
              "      <td>0</td>\n",
              "      <td>0</td>\n",
              "      <td>0</td>\n",
              "      <td>0</td>\n",
              "      <td>0</td>\n",
              "      <td>0</td>\n",
              "      <td>0</td>\n",
              "      <td>0</td>\n",
              "      <td>0</td>\n",
              "      <td>0</td>\n",
              "      <td>0</td>\n",
              "      <td>0</td>\n",
              "      <td>0</td>\n",
              "      <td>0</td>\n",
              "      <td>0</td>\n",
              "      <td>0</td>\n",
              "      <td>0</td>\n",
              "      <td>0</td>\n",
              "      <td>0</td>\n",
              "      <td>0</td>\n",
              "      <td>0</td>\n",
              "      <td>0</td>\n",
              "      <td>0</td>\n",
              "      <td>0</td>\n",
              "      <td>0</td>\n",
              "      <td>0</td>\n",
              "      <td>0</td>\n",
              "      <td>0</td>\n",
              "      <td>0</td>\n",
              "      <td>0</td>\n",
              "      <td>0</td>\n",
              "      <td>0</td>\n",
              "      <td>0</td>\n",
              "      <td>0</td>\n",
              "    </tr>\n",
              "    <tr>\n",
              "      <th>1</th>\n",
              "      <td>0</td>\n",
              "      <td>0</td>\n",
              "      <td>0</td>\n",
              "      <td>0</td>\n",
              "      <td>0</td>\n",
              "      <td>0</td>\n",
              "      <td>0</td>\n",
              "      <td>0</td>\n",
              "      <td>0</td>\n",
              "      <td>0</td>\n",
              "      <td>0</td>\n",
              "      <td>0</td>\n",
              "      <td>0</td>\n",
              "      <td>0</td>\n",
              "      <td>0</td>\n",
              "      <td>0</td>\n",
              "      <td>0</td>\n",
              "      <td>0</td>\n",
              "      <td>0</td>\n",
              "      <td>0</td>\n",
              "      <td>0</td>\n",
              "      <td>0</td>\n",
              "      <td>0</td>\n",
              "      <td>0</td>\n",
              "      <td>0</td>\n",
              "      <td>0</td>\n",
              "      <td>0</td>\n",
              "      <td>0</td>\n",
              "      <td>0</td>\n",
              "      <td>0</td>\n",
              "      <td>0</td>\n",
              "      <td>0</td>\n",
              "      <td>0</td>\n",
              "      <td>0</td>\n",
              "      <td>0</td>\n",
              "      <td>0</td>\n",
              "      <td>0</td>\n",
              "      <td>0</td>\n",
              "      <td>0</td>\n",
              "      <td>0</td>\n",
              "      <td>...</td>\n",
              "      <td>0</td>\n",
              "      <td>0</td>\n",
              "      <td>0</td>\n",
              "      <td>0</td>\n",
              "      <td>0</td>\n",
              "      <td>0</td>\n",
              "      <td>0</td>\n",
              "      <td>0</td>\n",
              "      <td>0</td>\n",
              "      <td>0</td>\n",
              "      <td>0</td>\n",
              "      <td>0</td>\n",
              "      <td>0</td>\n",
              "      <td>0</td>\n",
              "      <td>0</td>\n",
              "      <td>0</td>\n",
              "      <td>0</td>\n",
              "      <td>1</td>\n",
              "      <td>0</td>\n",
              "      <td>0</td>\n",
              "      <td>0</td>\n",
              "      <td>0</td>\n",
              "      <td>0</td>\n",
              "      <td>0</td>\n",
              "      <td>0</td>\n",
              "      <td>0</td>\n",
              "      <td>0</td>\n",
              "      <td>0</td>\n",
              "      <td>0</td>\n",
              "      <td>0</td>\n",
              "      <td>0</td>\n",
              "      <td>0</td>\n",
              "      <td>0</td>\n",
              "      <td>0</td>\n",
              "      <td>0</td>\n",
              "      <td>0</td>\n",
              "      <td>0</td>\n",
              "      <td>0</td>\n",
              "      <td>0</td>\n",
              "      <td>0</td>\n",
              "    </tr>\n",
              "    <tr>\n",
              "      <th>2</th>\n",
              "      <td>0</td>\n",
              "      <td>0</td>\n",
              "      <td>0</td>\n",
              "      <td>0</td>\n",
              "      <td>0</td>\n",
              "      <td>0</td>\n",
              "      <td>0</td>\n",
              "      <td>0</td>\n",
              "      <td>0</td>\n",
              "      <td>0</td>\n",
              "      <td>0</td>\n",
              "      <td>0</td>\n",
              "      <td>0</td>\n",
              "      <td>0</td>\n",
              "      <td>0</td>\n",
              "      <td>0</td>\n",
              "      <td>0</td>\n",
              "      <td>0</td>\n",
              "      <td>0</td>\n",
              "      <td>0</td>\n",
              "      <td>0</td>\n",
              "      <td>0</td>\n",
              "      <td>0</td>\n",
              "      <td>0</td>\n",
              "      <td>0</td>\n",
              "      <td>0</td>\n",
              "      <td>0</td>\n",
              "      <td>0</td>\n",
              "      <td>0</td>\n",
              "      <td>0</td>\n",
              "      <td>0</td>\n",
              "      <td>0</td>\n",
              "      <td>0</td>\n",
              "      <td>0</td>\n",
              "      <td>0</td>\n",
              "      <td>0</td>\n",
              "      <td>0</td>\n",
              "      <td>0</td>\n",
              "      <td>0</td>\n",
              "      <td>0</td>\n",
              "      <td>...</td>\n",
              "      <td>0</td>\n",
              "      <td>0</td>\n",
              "      <td>0</td>\n",
              "      <td>0</td>\n",
              "      <td>0</td>\n",
              "      <td>0</td>\n",
              "      <td>0</td>\n",
              "      <td>0</td>\n",
              "      <td>0</td>\n",
              "      <td>0</td>\n",
              "      <td>0</td>\n",
              "      <td>0</td>\n",
              "      <td>0</td>\n",
              "      <td>0</td>\n",
              "      <td>0</td>\n",
              "      <td>0</td>\n",
              "      <td>0</td>\n",
              "      <td>0</td>\n",
              "      <td>0</td>\n",
              "      <td>0</td>\n",
              "      <td>0</td>\n",
              "      <td>0</td>\n",
              "      <td>0</td>\n",
              "      <td>0</td>\n",
              "      <td>0</td>\n",
              "      <td>0</td>\n",
              "      <td>0</td>\n",
              "      <td>0</td>\n",
              "      <td>0</td>\n",
              "      <td>0</td>\n",
              "      <td>0</td>\n",
              "      <td>0</td>\n",
              "      <td>0</td>\n",
              "      <td>0</td>\n",
              "      <td>0</td>\n",
              "      <td>0</td>\n",
              "      <td>0</td>\n",
              "      <td>0</td>\n",
              "      <td>0</td>\n",
              "      <td>0</td>\n",
              "    </tr>\n",
              "  </tbody>\n",
              "</table>\n",
              "<p>3 rows × 4729 columns</p>\n",
              "</div>"
            ],
            "text/plain": [
              "   10  11  12  15  16  17  18  ...  zen  zero  zier  zip  zoom  zsh  zuckerberg\n",
              "0   1   0   0   0   0   0   0  ...    0     0     0    0     0    0           0\n",
              "1   0   0   0   0   0   0   0  ...    0     0     0    0     0    0           0\n",
              "2   0   0   0   0   0   0   0  ...    0     0     0    0     0    0           0\n",
              "\n",
              "[3 rows x 4729 columns]"
            ]
          },
          "metadata": {
            "tags": []
          },
          "execution_count": 29
        }
      ]
    },
    {
      "cell_type": "code",
      "metadata": {
        "id": "DCmQVgwnJ8E-"
      },
      "source": [
        "X = mdt\r\n",
        "y = datos['publicacion']"
      ],
      "execution_count": 30,
      "outputs": []
    },
    {
      "cell_type": "markdown",
      "metadata": {
        "id": "XuONGctRIWA5"
      },
      "source": [
        "## Separar conjunto de entrenamiento y prueba"
      ]
    },
    {
      "cell_type": "code",
      "metadata": {
        "id": "YuWndxTSIVI4",
        "colab": {
          "base_uri": "https://localhost:8080/"
        },
        "outputId": "7d915dfb-d72d-476b-84d7-a528050614f3"
      },
      "source": [
        "X_train, X_test , y_train, y_test = train_test_split(X, y, test_size=0.3, \n",
        "                                                     random_state=3, shuffle=True)\n",
        "\n",
        "print('titulos totales: {}'.format(datos.shape[0]))\n",
        "print('titulos en el conjunto de entrenamiento: {}'.format(X_train.shape[0]))\n",
        "print('titulos en el conjunto de prueba: {}'.format(X_test.shape[0]))"
      ],
      "execution_count": 32,
      "outputs": [
        {
          "output_type": "stream",
          "text": [
            "titulos totales: 2871\n",
            "titulos en el conjunto de entrenamiento: 2009\n",
            "titulos en el conjunto de prueba: 862\n"
          ],
          "name": "stdout"
        }
      ]
    },
    {
      "cell_type": "code",
      "metadata": {
        "id": "lVZb1RTlKYxP",
        "colab": {
          "base_uri": "https://localhost:8080/"
        },
        "outputId": "4d8742cb-5b46-4b08-f179-07e8b159f36e"
      },
      "source": [
        "#proporción de emails por clase en el conjunto de entrenamiento\n",
        "y_train.value_counts(normalize=True)"
      ],
      "execution_count": 33,
      "outputs": [
        {
          "output_type": "execute_result",
          "data": {
            "text/plain": [
              "startup    0.532603\n",
              "tds        0.467397\n",
              "Name: publicacion, dtype: float64"
            ]
          },
          "metadata": {
            "tags": []
          },
          "execution_count": 33
        }
      ]
    },
    {
      "cell_type": "code",
      "metadata": {
        "id": "0ITSWAHwKUm7",
        "colab": {
          "base_uri": "https://localhost:8080/"
        },
        "outputId": "949b8a54-ad3c-4b1e-b361-7c6a3e097871"
      },
      "source": [
        "#proporción de emails por clases en el conjunto de prueba\n",
        "y_test.value_counts(normalize=True)"
      ],
      "execution_count": 34,
      "outputs": [
        {
          "output_type": "execute_result",
          "data": {
            "text/plain": [
              "startup    0.541763\n",
              "tds        0.458237\n",
              "Name: publicacion, dtype: float64"
            ]
          },
          "metadata": {
            "tags": []
          },
          "execution_count": 34
        }
      ]
    },
    {
      "cell_type": "markdown",
      "metadata": {
        "id": "3z9UIEanP74U"
      },
      "source": [
        "##  Clasificador Naive-Bayes \n"
      ]
    },
    {
      "cell_type": "markdown",
      "metadata": {
        "id": "RqWX-tZKLF0P"
      },
      "source": [
        "####Entrenamiento"
      ]
    },
    {
      "cell_type": "code",
      "metadata": {
        "id": "LyJPMYeWK-lg",
        "colab": {
          "base_uri": "https://localhost:8080/"
        },
        "outputId": "35890acc-4218-48ec-ca5d-56d2e5c0cd8d"
      },
      "source": [
        "#https://scikit-learn.org/stable/modules/naive_bayes.html#multinomial-naive-bayes\n",
        "clasificador = MultinomialNB()\n",
        "clasificador.fit(X_train, y_train)"
      ],
      "execution_count": 35,
      "outputs": [
        {
          "output_type": "execute_result",
          "data": {
            "text/plain": [
              "MultinomialNB(alpha=1.0, class_prior=None, fit_prior=True)"
            ]
          },
          "metadata": {
            "tags": []
          },
          "execution_count": 35
        }
      ]
    },
    {
      "cell_type": "code",
      "metadata": {
        "colab": {
          "base_uri": "https://localhost:8080/"
        },
        "id": "mYzUVgqGpG7c",
        "outputId": "6e5cdc0b-902d-4f85-8b20-245165844ee3"
      },
      "source": [
        "clasificador.classes_"
      ],
      "execution_count": 36,
      "outputs": [
        {
          "output_type": "execute_result",
          "data": {
            "text/plain": [
              "array(['startup', 'tds'], dtype='<U7')"
            ]
          },
          "metadata": {
            "tags": []
          },
          "execution_count": 36
        }
      ]
    },
    {
      "cell_type": "markdown",
      "metadata": {
        "id": "vtduvGeprYPv"
      },
      "source": [
        "\r\n",
        "El atributo ```feature_count_``` devuelve un vector, por cada clase,  con la frecuencia de aparición de cada uno de los términos\r\n",
        "\r\n",
        "\r\n",
        "\r\n"
      ]
    },
    {
      "cell_type": "code",
      "metadata": {
        "colab": {
          "base_uri": "https://localhost:8080/"
        },
        "id": "LqS1KiiLpPbV",
        "outputId": "139fde4c-2f16-404a-99b1-dfac2acc45cf"
      },
      "source": [
        "print(clasificador.feature_count_.shape)\r\n",
        "clasificador.feature_count_"
      ],
      "execution_count": 37,
      "outputs": [
        {
          "output_type": "stream",
          "text": [
            "(2, 4729)\n"
          ],
          "name": "stdout"
        },
        {
          "output_type": "execute_result",
          "data": {
            "text/plain": [
              "array([[3., 0., 0., ..., 2., 0., 1.],\n",
              "       [5., 0., 1., ..., 0., 0., 0.]])"
            ]
          },
          "metadata": {
            "tags": []
          },
          "execution_count": 37
        }
      ]
    },
    {
      "cell_type": "markdown",
      "metadata": {
        "id": "VIH18FJpryiw"
      },
      "source": [
        "\r\n",
        "El atributo ```feature_log_prob_``` devuelve un vector, por cada clase,  con la probabilidad en escala logaritmica de cada término\r\n",
        "\r\n",
        "\r\n",
        "\r\n"
      ]
    },
    {
      "cell_type": "code",
      "metadata": {
        "colab": {
          "base_uri": "https://localhost:8080/"
        },
        "id": "OB7Af_ihqcau",
        "outputId": "4a888499-ffb4-4a54-eaa6-c58710f70637"
      },
      "source": [
        "print(clasificador.feature_log_prob_.shape)\r\n",
        "clasificador.feature_log_prob_"
      ],
      "execution_count": 38,
      "outputs": [
        {
          "output_type": "stream",
          "text": [
            "(2, 4729)\n"
          ],
          "name": "stdout"
        },
        {
          "output_type": "execute_result",
          "data": {
            "text/plain": [
              "array([[-8.04694953, -9.43324389, -9.43324389, ..., -8.33463161,\n",
              "        -9.43324389, -8.74009671],\n",
              "       [-7.71266742, -9.50442689, -8.81127971, ..., -9.50442689,\n",
              "        -9.50442689, -9.50442689]])"
            ]
          },
          "metadata": {
            "tags": []
          },
          "execution_count": 38
        }
      ]
    },
    {
      "cell_type": "markdown",
      "metadata": {
        "id": "M_Nx5Yn1IsDX"
      },
      "source": [
        "***fijarse como siempre que aparece un 0 en la frecuencia de cada palabra por clase, obtenemos la misma log probabilidad, en cada clase***"
      ]
    },
    {
      "cell_type": "code",
      "metadata": {
        "colab": {
          "base_uri": "https://localhost:8080/"
        },
        "id": "mcM9ZbE0Ji5H",
        "outputId": "2920cd98-9991-44e3-96ab-a07b012d6102"
      },
      "source": [
        "#probabilidad cuando hay frecuencia 0 en la clase  0('no spam')\r\n",
        "sum_palabras_startup = np.sum(clasificador.feature_count_, axis=1)[0]\r\n",
        "\r\n",
        "np.log(1/(sum_palabras_startup+ len(terminos)))"
      ],
      "execution_count": 39,
      "outputs": [
        {
          "output_type": "execute_result",
          "data": {
            "text/plain": [
              "-9.433243894485784"
            ]
          },
          "metadata": {
            "tags": []
          },
          "execution_count": 39
        }
      ]
    },
    {
      "cell_type": "code",
      "metadata": {
        "colab": {
          "base_uri": "https://localhost:8080/"
        },
        "id": "57SQXfhXMMHp",
        "outputId": "2127e06f-33a5-4f68-bc70-93ff7dd53d88"
      },
      "source": [
        "#probabilidad cuando hay frecuencia 0 en la clase  1('spam')\r\n",
        "sum_palabras_tds = np.sum(clasificador.feature_count_, axis=1)[1]\r\n",
        "\r\n",
        "np.log(1/(sum_palabras_tds + len(terminos)))"
      ],
      "execution_count": 40,
      "outputs": [
        {
          "output_type": "execute_result",
          "data": {
            "text/plain": [
              "-9.504426892100957"
            ]
          },
          "metadata": {
            "tags": []
          },
          "execution_count": 40
        }
      ]
    },
    {
      "cell_type": "code",
      "metadata": {
        "colab": {
          "base_uri": "https://localhost:8080/"
        },
        "id": "eGspdrUvsv5X",
        "outputId": "26677d07-193b-41f8-816d-59f190fe4ff1"
      },
      "source": [
        "#terminos con más peso para clasificar en startup\r\n",
        "for p in clasificador.feature_log_prob_.argsort()[0,-10:]:\r\n",
        "  print(terminos[p])"
      ],
      "execution_count": 41,
      "outputs": [
        {
          "output_type": "stream",
          "text": [
            "product\n",
            "get\n",
            "make\n",
            "build\n",
            "work\n",
            "creat\n",
            "learn\n",
            "data\n",
            "write\n",
            "use\n"
          ],
          "name": "stdout"
        }
      ]
    },
    {
      "cell_type": "code",
      "metadata": {
        "colab": {
          "base_uri": "https://localhost:8080/"
        },
        "id": "YqHijCbcvT51",
        "outputId": "f1244775-0d7b-4ba8-a5a7-3002fe7ae100"
      },
      "source": [
        "#terminos con más peso para clasificar en tds\r\n",
        "for p in clasificador.feature_log_prob_.argsort()[1,-10:]:\r\n",
        "  print(terminos[p])"
      ],
      "execution_count": 42,
      "outputs": [
        {
          "output_type": "stream",
          "text": [
            "analysi\n",
            "ai\n",
            "build\n",
            "model\n",
            "scienc\n",
            "machin\n",
            "python\n",
            "use\n",
            "learn\n",
            "data\n"
          ],
          "name": "stdout"
        }
      ]
    },
    {
      "cell_type": "markdown",
      "metadata": {
        "id": "cZNLTJ9sLaZ_"
      },
      "source": [
        "#### Evaluación del modelo"
      ]
    },
    {
      "cell_type": "code",
      "metadata": {
        "id": "yLn2Rs0sLKpv"
      },
      "source": [
        "y_pred = clasificador.predict(X_test)"
      ],
      "execution_count": 44,
      "outputs": []
    },
    {
      "cell_type": "code",
      "metadata": {
        "id": "vTHr7xK4LlDV",
        "colab": {
          "base_uri": "https://localhost:8080/",
          "height": 279
        },
        "outputId": "474e2d80-ea2a-4329-9f51-f45e35cb44fc"
      },
      "source": [
        "data = {'Y_Real':  y_test,\n",
        "        'Y_Prediccion':y_pred\n",
        "        }\n",
        "\n",
        "df = pd.DataFrame(data, columns=['Y_Real','Y_Prediccion'])\n",
        "confusion_matrix = pd.crosstab(df['Y_Real'], df['Y_Prediccion'], rownames=['Real'], colnames=['Predicted'])\n",
        "\n",
        "sns.heatmap(confusion_matrix, annot=True, fmt='g')\n",
        "plt.show()"
      ],
      "execution_count": 45,
      "outputs": [
        {
          "output_type": "display_data",
          "data": {
            "image/png": "[encoded data removed]",
            "text/plain": [
              "<Figure size 432x288 with 2 Axes>"
            ]
          },
          "metadata": {
            "tags": [],
            "needs_background": "light"
          }
        }
      ]
    },
    {
      "cell_type": "code",
      "metadata": {
        "colab": {
          "base_uri": "https://localhost:8080/",
          "height": 142
        },
        "id": "50EPoZecaY8o",
        "outputId": "261c7fe5-b7a8-4243-838e-01636540f1f6"
      },
      "source": [
        "resultados_prediccion = pd.merge(df, datos['descripcion'], how='left', \r\n",
        "                                 left_index=True, right_index= True)\r\n",
        "resultados_prediccion.head(3)"
      ],
      "execution_count": 48,
      "outputs": [
        {
          "output_type": "execute_result",
          "data": {
            "text/html": [
              "<div>\n",
              "<style scoped>\n",
              "    .dataframe tbody tr th:only-of-type {\n",
              "        vertical-align: middle;\n",
              "    }\n",
              "\n",
              "    .dataframe tbody tr th {\n",
              "        vertical-align: top;\n",
              "    }\n",
              "\n",
              "    .dataframe thead th {\n",
              "        text-align: right;\n",
              "    }\n",
              "</style>\n",
              "<table border=\"1\" class=\"dataframe\">\n",
              "  <thead>\n",
              "    <tr style=\"text-align: right;\">\n",
              "      <th></th>\n",
              "      <th>Y_Real</th>\n",
              "      <th>Y_Prediccion</th>\n",
              "      <th>descripcion</th>\n",
              "    </tr>\n",
              "  </thead>\n",
              "  <tbody>\n",
              "    <tr>\n",
              "      <th>2079</th>\n",
              "      <td>startup</td>\n",
              "      <td>tds</td>\n",
              "      <td>Heterogeneous Database Replication to TiDB. Au...</td>\n",
              "    </tr>\n",
              "    <tr>\n",
              "      <th>2159</th>\n",
              "      <td>startup</td>\n",
              "      <td>startup</td>\n",
              "      <td>“Why do You Want to be a Product Manager?”. A ...</td>\n",
              "    </tr>\n",
              "    <tr>\n",
              "      <th>1844</th>\n",
              "      <td>startup</td>\n",
              "      <td>startup</td>\n",
              "      <td>Habits of Successful People. What is it that s...</td>\n",
              "    </tr>\n",
              "  </tbody>\n",
              "</table>\n",
              "</div>"
            ],
            "text/plain": [
              "       Y_Real Y_Prediccion                                        descripcion\n",
              "2079  startup          tds  Heterogeneous Database Replication to TiDB. Au...\n",
              "2159  startup      startup  “Why do You Want to be a Product Manager?”. A ...\n",
              "1844  startup      startup  Habits of Successful People. What is it that s..."
            ]
          },
          "metadata": {
            "tags": []
          },
          "execution_count": 48
        }
      ]
    },
    {
      "cell_type": "code",
      "metadata": {
        "colab": {
          "base_uri": "https://localhost:8080/",
          "height": 419
        },
        "id": "uF-zwU43capC",
        "outputId": "d27caafe-407f-488c-a6f7-2090f916775e"
      },
      "source": [
        "#artículos mal clasificados\r\n",
        "resultados_prediccion[resultados_prediccion['Y_Real']!=resultados_prediccion['Y_Prediccion']]"
      ],
      "execution_count": 49,
      "outputs": [
        {
          "output_type": "execute_result",
          "data": {
            "text/html": [
              "<div>\n",
              "<style scoped>\n",
              "    .dataframe tbody tr th:only-of-type {\n",
              "        vertical-align: middle;\n",
              "    }\n",
              "\n",
              "    .dataframe tbody tr th {\n",
              "        vertical-align: top;\n",
              "    }\n",
              "\n",
              "    .dataframe thead th {\n",
              "        text-align: right;\n",
              "    }\n",
              "</style>\n",
              "<table border=\"1\" class=\"dataframe\">\n",
              "  <thead>\n",
              "    <tr style=\"text-align: right;\">\n",
              "      <th></th>\n",
              "      <th>Y_Real</th>\n",
              "      <th>Y_Prediccion</th>\n",
              "      <th>descripcion</th>\n",
              "    </tr>\n",
              "  </thead>\n",
              "  <tbody>\n",
              "    <tr>\n",
              "      <th>2079</th>\n",
              "      <td>startup</td>\n",
              "      <td>tds</td>\n",
              "      <td>Heterogeneous Database Replication to TiDB. Au...</td>\n",
              "    </tr>\n",
              "    <tr>\n",
              "      <th>724</th>\n",
              "      <td>tds</td>\n",
              "      <td>startup</td>\n",
              "      <td>Why it’s difficult to sell AI-driven solutions...</td>\n",
              "    </tr>\n",
              "    <tr>\n",
              "      <th>2619</th>\n",
              "      <td>startup</td>\n",
              "      <td>tds</td>\n",
              "      <td>Making Space Again. -</td>\n",
              "    </tr>\n",
              "    <tr>\n",
              "      <th>250</th>\n",
              "      <td>tds</td>\n",
              "      <td>startup</td>\n",
              "      <td>Introduction to Robotic Control Systems. -</td>\n",
              "    </tr>\n",
              "    <tr>\n",
              "      <th>403</th>\n",
              "      <td>tds</td>\n",
              "      <td>startup</td>\n",
              "      <td>How Google Search Might Exist Forever. SOFTWAR...</td>\n",
              "    </tr>\n",
              "    <tr>\n",
              "      <th>...</th>\n",
              "      <td>...</td>\n",
              "      <td>...</td>\n",
              "      <td>...</td>\n",
              "    </tr>\n",
              "    <tr>\n",
              "      <th>942</th>\n",
              "      <td>tds</td>\n",
              "      <td>startup</td>\n",
              "      <td>Clinical Notes — The “Negative” Story. -</td>\n",
              "    </tr>\n",
              "    <tr>\n",
              "      <th>1990</th>\n",
              "      <td>startup</td>\n",
              "      <td>tds</td>\n",
              "      <td>Magic Python: mixing magics. -</td>\n",
              "    </tr>\n",
              "    <tr>\n",
              "      <th>2523</th>\n",
              "      <td>startup</td>\n",
              "      <td>tds</td>\n",
              "      <td>Data Personhood. How to solve the wealth trans...</td>\n",
              "    </tr>\n",
              "    <tr>\n",
              "      <th>1958</th>\n",
              "      <td>startup</td>\n",
              "      <td>tds</td>\n",
              "      <td>Getting Sentimental. -</td>\n",
              "    </tr>\n",
              "    <tr>\n",
              "      <th>2144</th>\n",
              "      <td>startup</td>\n",
              "      <td>tds</td>\n",
              "      <td>OLS method of Linear Regression using C++. -</td>\n",
              "    </tr>\n",
              "  </tbody>\n",
              "</table>\n",
              "<p>202 rows × 3 columns</p>\n",
              "</div>"
            ],
            "text/plain": [
              "       Y_Real Y_Prediccion                                        descripcion\n",
              "2079  startup          tds  Heterogeneous Database Replication to TiDB. Au...\n",
              "724       tds      startup  Why it’s difficult to sell AI-driven solutions...\n",
              "2619  startup          tds                              Making Space Again. -\n",
              "250       tds      startup         Introduction to Robotic Control Systems. -\n",
              "403       tds      startup  How Google Search Might Exist Forever. SOFTWAR...\n",
              "...       ...          ...                                                ...\n",
              "942       tds      startup           Clinical Notes — The “Negative” Story. -\n",
              "1990  startup          tds                     Magic Python: mixing magics. -\n",
              "2523  startup          tds  Data Personhood. How to solve the wealth trans...\n",
              "1958  startup          tds                             Getting Sentimental. -\n",
              "2144  startup          tds       OLS method of Linear Regression using C++. -\n",
              "\n",
              "[202 rows x 3 columns]"
            ]
          },
          "metadata": {
            "tags": []
          },
          "execution_count": 49
        }
      ]
    },
    {
      "cell_type": "code",
      "metadata": {
        "colab": {
          "base_uri": "https://localhost:8080/",
          "height": 35
        },
        "id": "ZeBlh5M5n85-",
        "outputId": "c2969cb2-bb4c-484a-dabf-92af8f79618c"
      },
      "source": [
        "resultados_prediccion.loc[2682,'descripcion']"
      ],
      "execution_count": 50,
      "outputs": [
        {
          "output_type": "execute_result",
          "data": {
            "application/vnd.google.colaboratory.intrinsic+json": {
              "type": "string"
            },
            "text/plain": [
              "'When Blockchain Meets Artificial Intelligence. The convergence of Blockchain and AI can enhance\\xa0machine…'"
            ]
          },
          "metadata": {
            "tags": []
          },
          "execution_count": 50
        }
      ]
    },
    {
      "cell_type": "markdown",
      "metadata": {
        "id": "bedjWLyK9KeY"
      },
      "source": [
        "#Referencias: \r\n",
        "\r\n",
        "1. Synced. Applying Multinomial Naive Bayes to NLP Problems: A Practical Explanation [Internet]. Medium. 2017 [citado 5 de enero de 2021]. Disponible en: https://medium.com/syncedreview/applying-multinomial-naive-bayes-to-nlp-problems-a-practical-explanation-4f5271768ebf\r\n",
        "2. srosassm_textclassification [Internet]. [citado 5 de enero de 2021]. Disponible en: http://cs.wellesley.edu/~srosassm/cs234/digital/srosassm_textclassification.html\r\n"
      ]
    }
  ]
}
