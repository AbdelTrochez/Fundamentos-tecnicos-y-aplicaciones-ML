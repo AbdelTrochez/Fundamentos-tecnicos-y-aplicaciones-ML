{
  "nbformat": 4,
  "nbformat_minor": 0,
  "metadata": {
    "colab": {
      "name": "Clasificador Naive-Bayes, artículos TDS TheStartup.ipynb",
      "provenance": [],
      "collapsed_sections": [],
      "toc_visible": true,
      "mount_file_id": "1fZKfMPIIp31ULXvjQLHBfyaAEtPVqEg-",
      "authorship_tag": "ABX9TyNesN8Ex+Pr3rgOrM5Q1JbE",
      "include_colab_link": true
    },
    "kernelspec": {
      "name": "python3",
      "display_name": "Python 3"
    }
  },
  "cells": [
    {
      "cell_type": "markdown",
      "metadata": {
        "id": "view-in-github",
        "colab_type": "text"
      },
      "source": [
        "<a href=\"https://colab.research.google.com/github/AnIsAsPe/Fundamentos-tecnicos-y-aplicaciones-ML/blob/main/Semana%205/Clasificador_Naive_Bayes%2C_art%C3%ADculos_TDS_TheStartup.ipynb\" target=\"_parent\"><img src=\"https://colab.research.google.com/assets/colab-badge.svg\" alt=\"Open In Colab\"/></a>"
      ]
    },
    {
      "cell_type": "markdown",
      "metadata": {
        "id": "cNP750bn_0gk"
      },
      "source": [
        "## Leer csv con los articulos guardados de todo 2020"
      ]
    },
    {
      "cell_type": "code",
      "metadata": {
        "colab": {
          "base_uri": "https://localhost:8080/"
        },
        "id": "ITYX_7WmN2CO",
        "outputId": "cc327be6-6592-4f78-d586-20330a1ab0c6"
      },
      "source": [
        "import numpy as np\r\n",
        "import pandas as pd\r\n",
        "\r\n",
        "#preprocesar texto\r\n",
        "import nltk\r\n",
        "from nltk.corpus import stopwords\r\n",
        "from nltk import SnowballStemmer\r\n",
        "import re\r\n",
        "\r\n",
        "from sklearn.feature_extraction.text import CountVectorizer, TfidfVectorizer \r\n",
        "from sklearn.model_selection import train_test_split \r\n",
        "from sklearn.naive_bayes import MultinomialNB  \r\n",
        "\r\n",
        "nltk.download('stopwords')\r\n",
        "nltk.download('punkt')\r\n",
        "\r\n",
        "import matplotlib.pyplot as plt        #Para graficar y visualizar\r\n",
        "import seaborn as sns"
      ],
      "execution_count": 1,
      "outputs": [
        {
          "output_type": "stream",
          "text": [
            "[nltk_data] Downloading package stopwords to /root/nltk_data...\n",
            "[nltk_data]   Package stopwords is already up-to-date!\n",
            "[nltk_data] Downloading package punkt to /root/nltk_data...\n",
            "[nltk_data]   Package punkt is already up-to-date!\n"
          ],
          "name": "stdout"
        }
      ]
    },
    {
      "cell_type": "code",
      "metadata": {
        "colab": {
          "base_uri": "https://localhost:8080/",
          "height": 159
        },
        "id": "sA_lYwA3_4hk",
        "outputId": "7f91ebef-e30c-4c3f-e1c1-3b84c28326d3"
      },
      "source": [
        "#leemos el conjunto de datos de los articulos de Towards Data Science\r\n",
        "df_tds = pd.read_csv('https://raw.githubusercontent.com/AnIsAsPe/Fundamentos-tecnicos-y-aplicaciones-ML/main/Datos/TowardsDataScience_articulos_muestra_2020.csv',\r\n",
        "                     usecols=['titulo', 'subtitulo',])\r\n",
        "\r\n",
        "#¿cuántos renglones y cuántas columnas tienen el conjunto de datos?\r\n",
        "print(df_tds.shape) \r\n",
        "\r\n",
        "df_tds.head(3)"
      ],
      "execution_count": 2,
      "outputs": [
        {
          "output_type": "stream",
          "text": [
            "(1334, 2)\n"
          ],
          "name": "stdout"
        },
        {
          "output_type": "execute_result",
          "data": {
            "text/html": [
              "<div>\n",
              "<style scoped>\n",
              "    .dataframe tbody tr th:only-of-type {\n",
              "        vertical-align: middle;\n",
              "    }\n",
              "\n",
              "    .dataframe tbody tr th {\n",
              "        vertical-align: top;\n",
              "    }\n",
              "\n",
              "    .dataframe thead th {\n",
              "        text-align: right;\n",
              "    }\n",
              "</style>\n",
              "<table border=\"1\" class=\"dataframe\">\n",
              "  <thead>\n",
              "    <tr style=\"text-align: right;\">\n",
              "      <th></th>\n",
              "      <th>titulo</th>\n",
              "      <th>subtitulo</th>\n",
              "    </tr>\n",
              "  </thead>\n",
              "  <tbody>\n",
              "    <tr>\n",
              "      <th>0</th>\n",
              "      <td>10 Smooth Python Tricks For Python Gods</td>\n",
              "      <td>10 Tricks that will individualize and better y...</td>\n",
              "    </tr>\n",
              "    <tr>\n",
              "      <th>1</th>\n",
              "      <td>How to process a DataFrame with billions of ro...</td>\n",
              "      <td>Yet another Python library for Data…</td>\n",
              "    </tr>\n",
              "    <tr>\n",
              "      <th>2</th>\n",
              "      <td>SPY vs. VOO: Is there any difference?</td>\n",
              "      <td>Analysis and comparison of two popular S&amp;P 500...</td>\n",
              "    </tr>\n",
              "  </tbody>\n",
              "</table>\n",
              "</div>"
            ],
            "text/plain": [
              "                                              titulo                                          subtitulo\n",
              "0            10 Smooth Python Tricks For Python Gods  10 Tricks that will individualize and better y...\n",
              "1  How to process a DataFrame with billions of ro...               Yet another Python library for Data…\n",
              "2              SPY vs. VOO: Is there any difference?  Analysis and comparison of two popular S&P 500..."
            ]
          },
          "metadata": {
            "tags": []
          },
          "execution_count": 2
        }
      ]
    },
    {
      "cell_type": "code",
      "metadata": {
        "colab": {
          "base_uri": "https://localhost:8080/",
          "height": 159
        },
        "id": "ENtZMsSASNiR",
        "outputId": "0e2213e8-344c-4f1e-888e-205cbea42392"
      },
      "source": [
        "#leemos el conjunto de datos de los articulos de The Startup\r\n",
        "df_startup = pd.read_csv('https://raw.githubusercontent.com/AnIsAsPe/Fundamentos-tecnicos-y-aplicaciones-ML/main/Datos/TheStartup_articulos_muestra_2020.csv',\r\n",
        "                         usecols=[ 'titulo', 'subtitulo'])\r\n",
        "\r\n",
        "#¿cuántos renglones y cuántas columnas tienen el conjunto de datos?\r\n",
        "print(df_startup.shape) \r\n",
        "\r\n",
        "df_startup.head(3)"
      ],
      "execution_count": 3,
      "outputs": [
        {
          "output_type": "stream",
          "text": [
            "(1537, 2)\n"
          ],
          "name": "stdout"
        },
        {
          "output_type": "execute_result",
          "data": {
            "text/html": [
              "<div>\n",
              "<style scoped>\n",
              "    .dataframe tbody tr th:only-of-type {\n",
              "        vertical-align: middle;\n",
              "    }\n",
              "\n",
              "    .dataframe tbody tr th {\n",
              "        vertical-align: top;\n",
              "    }\n",
              "\n",
              "    .dataframe thead th {\n",
              "        text-align: right;\n",
              "    }\n",
              "</style>\n",
              "<table border=\"1\" class=\"dataframe\">\n",
              "  <thead>\n",
              "    <tr style=\"text-align: right;\">\n",
              "      <th></th>\n",
              "      <th>titulo</th>\n",
              "      <th>subtitulo</th>\n",
              "    </tr>\n",
              "  </thead>\n",
              "  <tbody>\n",
              "    <tr>\n",
              "      <th>0</th>\n",
              "      <td>AWS API Gateway private integration with HTTP ...</td>\n",
              "      <td>Tutorial</td>\n",
              "    </tr>\n",
              "    <tr>\n",
              "      <th>1</th>\n",
              "      <td>Experimenting with generics in Go</td>\n",
              "      <td>-</td>\n",
              "    </tr>\n",
              "    <tr>\n",
              "      <th>2</th>\n",
              "      <td>Understanding Java Streams</td>\n",
              "      <td>-</td>\n",
              "    </tr>\n",
              "  </tbody>\n",
              "</table>\n",
              "</div>"
            ],
            "text/plain": [
              "                                              titulo subtitulo\n",
              "0  AWS API Gateway private integration with HTTP ...  Tutorial\n",
              "1                  Experimenting with generics in Go         -\n",
              "2                         Understanding Java Streams         -"
            ]
          },
          "metadata": {
            "tags": []
          },
          "execution_count": 3
        }
      ]
    },
    {
      "cell_type": "code",
      "metadata": {
        "colab": {
          "base_uri": "https://localhost:8080/",
          "height": 221
        },
        "id": "abqUdJtBTxlZ",
        "outputId": "5f8e37f8-05e9-4998-d945-99ebbd759b83"
      },
      "source": [
        "datos = pd.concat([df_tds, df_startup], keys=['tds','startup'])\r\n",
        "datos = datos.reset_index(level=0)\r\n",
        "datos.columns = ['publicacion','titulo','subtitulo']\r\n",
        "datos= datos.reset_index(drop=True)\r\n",
        "print(datos.shape)\r\n",
        "datos.head()"
      ],
      "execution_count": 4,
      "outputs": [
        {
          "output_type": "stream",
          "text": [
            "(2871, 3)\n"
          ],
          "name": "stdout"
        },
        {
          "output_type": "execute_result",
          "data": {
            "text/html": [
              "<div>\n",
              "<style scoped>\n",
              "    .dataframe tbody tr th:only-of-type {\n",
              "        vertical-align: middle;\n",
              "    }\n",
              "\n",
              "    .dataframe tbody tr th {\n",
              "        vertical-align: top;\n",
              "    }\n",
              "\n",
              "    .dataframe thead th {\n",
              "        text-align: right;\n",
              "    }\n",
              "</style>\n",
              "<table border=\"1\" class=\"dataframe\">\n",
              "  <thead>\n",
              "    <tr style=\"text-align: right;\">\n",
              "      <th></th>\n",
              "      <th>publicacion</th>\n",
              "      <th>titulo</th>\n",
              "      <th>subtitulo</th>\n",
              "    </tr>\n",
              "  </thead>\n",
              "  <tbody>\n",
              "    <tr>\n",
              "      <th>0</th>\n",
              "      <td>tds</td>\n",
              "      <td>10 Smooth Python Tricks For Python Gods</td>\n",
              "      <td>10 Tricks that will individualize and better y...</td>\n",
              "    </tr>\n",
              "    <tr>\n",
              "      <th>1</th>\n",
              "      <td>tds</td>\n",
              "      <td>How to process a DataFrame with billions of ro...</td>\n",
              "      <td>Yet another Python library for Data…</td>\n",
              "    </tr>\n",
              "    <tr>\n",
              "      <th>2</th>\n",
              "      <td>tds</td>\n",
              "      <td>SPY vs. VOO: Is there any difference?</td>\n",
              "      <td>Analysis and comparison of two popular S&amp;P 500...</td>\n",
              "    </tr>\n",
              "    <tr>\n",
              "      <th>3</th>\n",
              "      <td>tds</td>\n",
              "      <td>You Want to Learn Rust but You Don’t Know Wher...</td>\n",
              "      <td>A Complete Resource for Rust Beginners</td>\n",
              "    </tr>\n",
              "    <tr>\n",
              "      <th>4</th>\n",
              "      <td>tds</td>\n",
              "      <td>Customer Segmentation in Python</td>\n",
              "      <td>UNSUPERVISED LEARNING</td>\n",
              "    </tr>\n",
              "  </tbody>\n",
              "</table>\n",
              "</div>"
            ],
            "text/plain": [
              "  publicacion  ...                                          subtitulo\n",
              "0         tds  ...  10 Tricks that will individualize and better y...\n",
              "1         tds  ...               Yet another Python library for Data…\n",
              "2         tds  ...  Analysis and comparison of two popular S&P 500...\n",
              "3         tds  ...             A Complete Resource for Rust Beginners\n",
              "4         tds  ...                              UNSUPERVISED LEARNING\n",
              "\n",
              "[5 rows x 3 columns]"
            ]
          },
          "metadata": {
            "tags": []
          },
          "execution_count": 4
        }
      ]
    },
    {
      "cell_type": "code",
      "metadata": {
        "colab": {
          "base_uri": "https://localhost:8080/",
          "height": 204
        },
        "id": "3ASKHdAlQyWY",
        "outputId": "4395d712-8e0f-4779-8926-b5851e10b4b7"
      },
      "source": [
        "datos.tail()"
      ],
      "execution_count": 5,
      "outputs": [
        {
          "output_type": "execute_result",
          "data": {
            "text/html": [
              "<div>\n",
              "<style scoped>\n",
              "    .dataframe tbody tr th:only-of-type {\n",
              "        vertical-align: middle;\n",
              "    }\n",
              "\n",
              "    .dataframe tbody tr th {\n",
              "        vertical-align: top;\n",
              "    }\n",
              "\n",
              "    .dataframe thead th {\n",
              "        text-align: right;\n",
              "    }\n",
              "</style>\n",
              "<table border=\"1\" class=\"dataframe\">\n",
              "  <thead>\n",
              "    <tr style=\"text-align: right;\">\n",
              "      <th></th>\n",
              "      <th>publicacion</th>\n",
              "      <th>titulo</th>\n",
              "      <th>subtitulo</th>\n",
              "    </tr>\n",
              "  </thead>\n",
              "  <tbody>\n",
              "    <tr>\n",
              "      <th>2866</th>\n",
              "      <td>startup</td>\n",
              "      <td>Experimental Studies</td>\n",
              "      <td>-</td>\n",
              "    </tr>\n",
              "    <tr>\n",
              "      <th>2867</th>\n",
              "      <td>startup</td>\n",
              "      <td>Ensemble Learning- An Integral Aspect of Machi...</td>\n",
              "      <td>-</td>\n",
              "    </tr>\n",
              "    <tr>\n",
              "      <th>2868</th>\n",
              "      <td>startup</td>\n",
              "      <td>Overview of the TIFIA Program</td>\n",
              "      <td>Analyzing a program without easily downloadabl...</td>\n",
              "    </tr>\n",
              "    <tr>\n",
              "      <th>2869</th>\n",
              "      <td>startup</td>\n",
              "      <td>Sequelize Database Migrations and Models With ...</td>\n",
              "      <td>-</td>\n",
              "    </tr>\n",
              "    <tr>\n",
              "      <th>2870</th>\n",
              "      <td>startup</td>\n",
              "      <td>Steps to achieve the Perfect Way to move forwa...</td>\n",
              "      <td>-</td>\n",
              "    </tr>\n",
              "  </tbody>\n",
              "</table>\n",
              "</div>"
            ],
            "text/plain": [
              "     publicacion  ...                                          subtitulo\n",
              "2866     startup  ...                                                  -\n",
              "2867     startup  ...                                                  -\n",
              "2868     startup  ...  Analyzing a program without easily downloadabl...\n",
              "2869     startup  ...                                                  -\n",
              "2870     startup  ...                                                  -\n",
              "\n",
              "[5 rows x 3 columns]"
            ]
          },
          "metadata": {
            "tags": []
          },
          "execution_count": 5
        }
      ]
    },
    {
      "cell_type": "code",
      "metadata": {
        "colab": {
          "base_uri": "https://localhost:8080/",
          "height": 359
        },
        "id": "1b58psKdQ3_A",
        "outputId": "5906a091-30bb-4600-8918-2d0de61b79dd"
      },
      "source": [
        "datos.sample(10)"
      ],
      "execution_count": 6,
      "outputs": [
        {
          "output_type": "execute_result",
          "data": {
            "text/html": [
              "<div>\n",
              "<style scoped>\n",
              "    .dataframe tbody tr th:only-of-type {\n",
              "        vertical-align: middle;\n",
              "    }\n",
              "\n",
              "    .dataframe tbody tr th {\n",
              "        vertical-align: top;\n",
              "    }\n",
              "\n",
              "    .dataframe thead th {\n",
              "        text-align: right;\n",
              "    }\n",
              "</style>\n",
              "<table border=\"1\" class=\"dataframe\">\n",
              "  <thead>\n",
              "    <tr style=\"text-align: right;\">\n",
              "      <th></th>\n",
              "      <th>publicacion</th>\n",
              "      <th>titulo</th>\n",
              "      <th>subtitulo</th>\n",
              "    </tr>\n",
              "  </thead>\n",
              "  <tbody>\n",
              "    <tr>\n",
              "      <th>1089</th>\n",
              "      <td>tds</td>\n",
              "      <td>Machine Learning Tasks on Graphs</td>\n",
              "      <td>Can We Divide It Into Supervised/Unsupervised ...</td>\n",
              "    </tr>\n",
              "    <tr>\n",
              "      <th>1254</th>\n",
              "      <td>tds</td>\n",
              "      <td>All You Should Know About Computer Networks in...</td>\n",
              "      <td>A complete guide to handle common…</td>\n",
              "    </tr>\n",
              "    <tr>\n",
              "      <th>874</th>\n",
              "      <td>tds</td>\n",
              "      <td>Chi-square test of independence in R</td>\n",
              "      <td>This article explains how to perform the Chi-s...</td>\n",
              "    </tr>\n",
              "    <tr>\n",
              "      <th>1904</th>\n",
              "      <td>startup</td>\n",
              "      <td>How to Thrive as a Remote Worker Amid Coronavi...</td>\n",
              "      <td>-</td>\n",
              "    </tr>\n",
              "    <tr>\n",
              "      <th>1362</th>\n",
              "      <td>startup</td>\n",
              "      <td>Why We Need to Kill the Feedback Sandwich</td>\n",
              "      <td>4 reasons it doesn’t work and 7 tips that do</td>\n",
              "    </tr>\n",
              "    <tr>\n",
              "      <th>2646</th>\n",
              "      <td>startup</td>\n",
              "      <td>Apple’s Founding Engineer’s Advice for Young E...</td>\n",
              "      <td>Steven Wozniak has brilliant insight for…</td>\n",
              "    </tr>\n",
              "    <tr>\n",
              "      <th>1013</th>\n",
              "      <td>tds</td>\n",
              "      <td>How to Set Up Automated Tasks in Linux Using Cron</td>\n",
              "      <td>GETTING STARTED</td>\n",
              "    </tr>\n",
              "    <tr>\n",
              "      <th>1856</th>\n",
              "      <td>startup</td>\n",
              "      <td>The Future Of Particle Accelerators, Beyond Th...</td>\n",
              "      <td>-</td>\n",
              "    </tr>\n",
              "    <tr>\n",
              "      <th>1176</th>\n",
              "      <td>tds</td>\n",
              "      <td>Implementing Yann LeCun’s LeNet-5 in PyTorch</td>\n",
              "      <td>-</td>\n",
              "    </tr>\n",
              "    <tr>\n",
              "      <th>1664</th>\n",
              "      <td>startup</td>\n",
              "      <td>How To: Responsive Parallax Footer</td>\n",
              "      <td>Check out this demo here.</td>\n",
              "    </tr>\n",
              "  </tbody>\n",
              "</table>\n",
              "</div>"
            ],
            "text/plain": [
              "     publicacion  ...                                          subtitulo\n",
              "1089         tds  ...  Can We Divide It Into Supervised/Unsupervised ...\n",
              "1254         tds  ...                 A complete guide to handle common…\n",
              "874          tds  ...  This article explains how to perform the Chi-s...\n",
              "1904     startup  ...                                                  -\n",
              "1362     startup  ...       4 reasons it doesn’t work and 7 tips that do\n",
              "2646     startup  ...          Steven Wozniak has brilliant insight for…\n",
              "1013         tds  ...                                    GETTING STARTED\n",
              "1856     startup  ...                                                  -\n",
              "1176         tds  ...                                                  -\n",
              "1664     startup  ...                          Check out this demo here.\n",
              "\n",
              "[10 rows x 3 columns]"
            ]
          },
          "metadata": {
            "tags": []
          },
          "execution_count": 6
        }
      ]
    },
    {
      "cell_type": "markdown",
      "metadata": {
        "id": "cBUsJdVy3r1n"
      },
      "source": [
        "## Preprocesamiento"
      ]
    },
    {
      "cell_type": "markdown",
      "metadata": {
        "id": "qPobLekcKN6j"
      },
      "source": [
        "###Juntar todo titulos y subtitulos en nueva variable \"descripción"
      ]
    },
    {
      "cell_type": "code",
      "metadata": {
        "colab": {
          "base_uri": "https://localhost:8080/",
          "height": 142
        },
        "id": "P54laWwhKc5u",
        "outputId": "fd3b6aaf-0b89-4b78-ac2b-f27e718664de"
      },
      "source": [
        "datos['descripcion'] = datos['titulo'].str.cat(datos['subtitulo'], sep = \". \")\r\n",
        "datos = datos.drop(['titulo','subtitulo'], axis=1)\r\n",
        "datos.head(3)"
      ],
      "execution_count": 7,
      "outputs": [
        {
          "output_type": "execute_result",
          "data": {
            "text/html": [
              "<div>\n",
              "<style scoped>\n",
              "    .dataframe tbody tr th:only-of-type {\n",
              "        vertical-align: middle;\n",
              "    }\n",
              "\n",
              "    .dataframe tbody tr th {\n",
              "        vertical-align: top;\n",
              "    }\n",
              "\n",
              "    .dataframe thead th {\n",
              "        text-align: right;\n",
              "    }\n",
              "</style>\n",
              "<table border=\"1\" class=\"dataframe\">\n",
              "  <thead>\n",
              "    <tr style=\"text-align: right;\">\n",
              "      <th></th>\n",
              "      <th>publicacion</th>\n",
              "      <th>descripcion</th>\n",
              "    </tr>\n",
              "  </thead>\n",
              "  <tbody>\n",
              "    <tr>\n",
              "      <th>0</th>\n",
              "      <td>tds</td>\n",
              "      <td>10 Smooth Python Tricks For Python Gods. 10 Tr...</td>\n",
              "    </tr>\n",
              "    <tr>\n",
              "      <th>1</th>\n",
              "      <td>tds</td>\n",
              "      <td>How to process a DataFrame with billions of ro...</td>\n",
              "    </tr>\n",
              "    <tr>\n",
              "      <th>2</th>\n",
              "      <td>tds</td>\n",
              "      <td>SPY vs. VOO: Is there any difference?. Analysi...</td>\n",
              "    </tr>\n",
              "  </tbody>\n",
              "</table>\n",
              "</div>"
            ],
            "text/plain": [
              "  publicacion                                        descripcion\n",
              "0         tds  10 Smooth Python Tricks For Python Gods. 10 Tr...\n",
              "1         tds  How to process a DataFrame with billions of ro...\n",
              "2         tds  SPY vs. VOO: Is there any difference?. Analysi..."
            ]
          },
          "metadata": {
            "tags": []
          },
          "execution_count": 7
        }
      ]
    },
    {
      "cell_type": "markdown",
      "metadata": {
        "id": "lZaFlbVNOGQv"
      },
      "source": [
        "## Preprocesamiento de texto"
      ]
    },
    {
      "cell_type": "code",
      "metadata": {
        "id": "7k_x2WD3-iZ6"
      },
      "source": [
        "def preprocesar(texto):\n",
        "  #convierte a minúsculas\n",
        "  texto = texto.lower()\n",
        "\n",
        "  #elimina stopwords\n",
        "  stop = re.compile(r'\\b(' + r'|'.join(stopwords.words('english')) + r')\\b\\s*')\n",
        "  texto = stop.sub('', texto) \n",
        "\n",
        "  #stemmer \n",
        "  tokens =  nltk.word_tokenize(texto)\n",
        "  stemmer = SnowballStemmer(\"english\")\n",
        "\n",
        "  stems = [stemmer.stem(token) for token in tokens]\n",
        "  texto=' '.join(stems) \n",
        "\n",
        "  #quita direcciones html\n",
        "  borrar = re.compile('<.*?>')\n",
        "  texto= re.sub(borrar, '', texto)\n",
        "\n",
        "  #quita puntuaciones y todo lo que no sea letra y números\n",
        "  texto = re.sub('[^A-ZÜÖÄa-z0-9]+', ' ', texto)\n",
        "\n",
        "  #quita numeros\n",
        "  texto = re.sub(\"\\d+\", \" \", texto)\n",
        "  \n",
        "  return(texto)"
      ],
      "execution_count": 11,
      "outputs": []
    },
    {
      "cell_type": "code",
      "metadata": {
        "colab": {
          "base_uri": "https://localhost:8080/"
        },
        "id": "BqA2FEq_K7nl",
        "outputId": "a1a5a681-04a9-4b31-bc7a-9d6cd5d507fa"
      },
      "source": [
        "datos['descripcion'].str.len().describe()"
      ],
      "execution_count": 8,
      "outputs": [
        {
          "output_type": "execute_result",
          "data": {
            "text/plain": [
              "count    2871.000000\n",
              "mean       82.010101\n",
              "std        24.651132\n",
              "min         4.000000\n",
              "25%        63.000000\n",
              "50%        92.000000\n",
              "75%       101.000000\n",
              "max       204.000000\n",
              "Name: descripcion, dtype: float64"
            ]
          },
          "metadata": {
            "tags": []
          },
          "execution_count": 8
        }
      ]
    },
    {
      "cell_type": "code",
      "metadata": {
        "colab": {
          "base_uri": "https://localhost:8080/",
          "height": 52
        },
        "id": "9I18vMcWLXZF",
        "outputId": "05ab6396-5314-4cf0-adb4-48254f9706b6"
      },
      "source": [
        "# Explorar título más largo\r\n",
        "idx = datos['descripcion'].index[datos['descripcion'].str.len() == 204][0]\r\n",
        "desc_max = datos.loc[idx,'descripcion']\r\n",
        "desc_max"
      ],
      "execution_count": 9,
      "outputs": [
        {
          "output_type": "execute_result",
          "data": {
            "application/vnd.google.colaboratory.intrinsic+json": {
              "type": "string"
            },
            "text/plain": [
              "'Regression-based decision trees: Predicting Average Daily Rates for\\xa0Hotels. The purpose of a decision tree is to visualise features of a model by means of a tree-like graph, and infer the importance (and…'"
            ]
          },
          "metadata": {
            "tags": []
          },
          "execution_count": 9
        }
      ]
    },
    {
      "cell_type": "code",
      "metadata": {
        "colab": {
          "base_uri": "https://localhost:8080/",
          "height": 52
        },
        "id": "5qmORh1jNXC_",
        "outputId": "35000735-8c71-4b2d-e7a3-7abd09852b84"
      },
      "source": [
        "preprocesar(desc_max)"
      ],
      "execution_count": 12,
      "outputs": [
        {
          "output_type": "execute_result",
          "data": {
            "application/vnd.google.colaboratory.intrinsic+json": {
              "type": "string"
            },
            "text/plain": [
              "'regression bas decis tree predict averag daili rate hotel purpos decis tree visualis featur model mean tree lik graph infer import '"
            ]
          },
          "metadata": {
            "tags": []
          },
          "execution_count": 12
        }
      ]
    },
    {
      "cell_type": "markdown",
      "metadata": {
        "id": "eil_vYsMOqUM"
      },
      "source": [
        "Lo hacemos para todos los titulos, utilizando el método  ```.apply()```"
      ]
    },
    {
      "cell_type": "code",
      "metadata": {
        "id": "UUwZG-oCNikl"
      },
      "source": [
        "datos['descripcion_pp'] = datos['descripcion'].apply(preprocesar)"
      ],
      "execution_count": 13,
      "outputs": []
    },
    {
      "cell_type": "code",
      "metadata": {
        "colab": {
          "base_uri": "https://localhost:8080/",
          "height": 359
        },
        "id": "Vog71EK6oXi3",
        "outputId": "6aec8b6d-8671-450c-b031-007e19532bd8"
      },
      "source": [
        "datos.sample(10)"
      ],
      "execution_count": 14,
      "outputs": [
        {
          "output_type": "execute_result",
          "data": {
            "text/html": [
              "<div>\n",
              "<style scoped>\n",
              "    .dataframe tbody tr th:only-of-type {\n",
              "        vertical-align: middle;\n",
              "    }\n",
              "\n",
              "    .dataframe tbody tr th {\n",
              "        vertical-align: top;\n",
              "    }\n",
              "\n",
              "    .dataframe thead th {\n",
              "        text-align: right;\n",
              "    }\n",
              "</style>\n",
              "<table border=\"1\" class=\"dataframe\">\n",
              "  <thead>\n",
              "    <tr style=\"text-align: right;\">\n",
              "      <th></th>\n",
              "      <th>publicacion</th>\n",
              "      <th>descripcion</th>\n",
              "      <th>descripcion_pp</th>\n",
              "    </tr>\n",
              "  </thead>\n",
              "  <tbody>\n",
              "    <tr>\n",
              "      <th>2012</th>\n",
              "      <td>startup</td>\n",
              "      <td>Why You Should Talk To Your Uber Driver. The f...</td>\n",
              "      <td>talk uber driver futur social fabric might dep...</td>\n",
              "    </tr>\n",
              "    <tr>\n",
              "      <th>1444</th>\n",
              "      <td>startup</td>\n",
              "      <td>Traffic problems in Software Engineering and D...</td>\n",
              "      <td>traffic problem softwar engin daili life softw...</td>\n",
              "    </tr>\n",
              "    <tr>\n",
              "      <th>182</th>\n",
              "      <td>tds</td>\n",
              "      <td>The New Grad Guide on Landing a Data Science J...</td>\n",
              "      <td>new grad guid land data scienc job experi new ...</td>\n",
              "    </tr>\n",
              "    <tr>\n",
              "      <th>1080</th>\n",
              "      <td>tds</td>\n",
              "      <td>The Most Efficient Way to Read Code Written by...</td>\n",
              "      <td>effici way read code written someon els speed ...</td>\n",
              "    </tr>\n",
              "    <tr>\n",
              "      <th>796</th>\n",
              "      <td>tds</td>\n",
              "      <td>How to efficiently design machine learning sys...</td>\n",
              "      <td>effici design machin learn system key insight ...</td>\n",
              "    </tr>\n",
              "    <tr>\n",
              "      <th>733</th>\n",
              "      <td>tds</td>\n",
              "      <td>A Machine Predicts My Next Sentence. Using Doc...</td>\n",
              "      <td>machin predict next sentenc use docker tensorf...</td>\n",
              "    </tr>\n",
              "    <tr>\n",
              "      <th>1305</th>\n",
              "      <td>tds</td>\n",
              "      <td>10 Must-Know Statistical Concepts for Data Sci...</td>\n",
              "      <td>must know statist concept data scientist sta...</td>\n",
              "    </tr>\n",
              "    <tr>\n",
              "      <th>161</th>\n",
              "      <td>tds</td>\n",
              "      <td>Datalake File Ingestion: From FTP to AWS S3. T...</td>\n",
              "      <td>datalak file ingest ftp aw s  transfer file ft...</td>\n",
              "    </tr>\n",
              "    <tr>\n",
              "      <th>1332</th>\n",
              "      <td>tds</td>\n",
              "      <td>5 Things to Look Forward to as a Data Scientis...</td>\n",
              "      <td>thing look forward data scientist   opinion</td>\n",
              "    </tr>\n",
              "    <tr>\n",
              "      <th>2221</th>\n",
              "      <td>startup</td>\n",
              "      <td>Here are 7 Upcoming Tech IPOs to Watch Out for...</td>\n",
              "      <td>upcom tech ipo watch airbnb asana snowflak</td>\n",
              "    </tr>\n",
              "  </tbody>\n",
              "</table>\n",
              "</div>"
            ],
            "text/plain": [
              "     publicacion  ...                                     descripcion_pp\n",
              "2012     startup  ...  talk uber driver futur social fabric might dep...\n",
              "1444     startup  ...  traffic problem softwar engin daili life softw...\n",
              "182          tds  ...  new grad guid land data scienc job experi new ...\n",
              "1080         tds  ...  effici way read code written someon els speed ...\n",
              "796          tds  ...  effici design machin learn system key insight ...\n",
              "733          tds  ...  machin predict next sentenc use docker tensorf...\n",
              "1305         tds  ...    must know statist concept data scientist sta...\n",
              "161          tds  ...  datalak file ingest ftp aw s  transfer file ft...\n",
              "1332         tds  ...        thing look forward data scientist   opinion\n",
              "2221     startup  ...        upcom tech ipo watch airbnb asana snowflak \n",
              "\n",
              "[10 rows x 3 columns]"
            ]
          },
          "metadata": {
            "tags": []
          },
          "execution_count": 14
        }
      ]
    },
    {
      "cell_type": "markdown",
      "metadata": {
        "id": "DKLyPvsbIC_A"
      },
      "source": [
        "###Vectorizar texto (X)"
      ]
    },
    {
      "cell_type": "code",
      "metadata": {
        "id": "06vSZ7mc7KSX",
        "colab": {
          "base_uri": "https://localhost:8080/",
          "height": 270
        },
        "outputId": "4d937949-e0e5-48fd-ee16-8e9206029255"
      },
      "source": [
        "#Vectorizar texto\n",
        "cv = CountVectorizer()\n",
        "mdt_frec = cv.fit_transform(datos['descripcion_pp']) \n",
        "\n",
        "terminos = cv.get_feature_names()\n",
        "\n",
        "mdt = pd.DataFrame(mdt_frec.todense(), \n",
        "                              index=datos.index, \n",
        "                              columns=terminos)\n",
        "print(mdt.shape)  \n",
        "\n",
        "mdt.head()"
      ],
      "execution_count": 16,
      "outputs": [
        {
          "output_type": "stream",
          "text": [
            "(2871, 4677)\n"
          ],
          "name": "stdout"
        },
        {
          "output_type": "execute_result",
          "data": {
            "text/html": [
              "<div>\n",
              "<style scoped>\n",
              "    .dataframe tbody tr th:only-of-type {\n",
              "        vertical-align: middle;\n",
              "    }\n",
              "\n",
              "    .dataframe tbody tr th {\n",
              "        vertical-align: top;\n",
              "    }\n",
              "\n",
              "    .dataframe thead th {\n",
              "        text-align: right;\n",
              "    }\n",
              "</style>\n",
              "<table border=\"1\" class=\"dataframe\">\n",
              "  <thead>\n",
              "    <tr style=\"text-align: right;\">\n",
              "      <th></th>\n",
              "      <th>ab</th>\n",
              "      <th>abandon</th>\n",
              "      <th>abil</th>\n",
              "      <th>abl</th>\n",
              "      <th>abnorm</th>\n",
              "      <th>abroad</th>\n",
              "      <th>abrupt</th>\n",
              "      <th>absolut</th>\n",
              "      <th>abstract</th>\n",
              "      <th>acceler</th>\n",
              "      <th>accelerate</th>\n",
              "      <th>acceleromet</th>\n",
              "      <th>accent</th>\n",
              "      <th>accept</th>\n",
              "      <th>access</th>\n",
              "      <th>accomplish</th>\n",
              "      <th>accord</th>\n",
              "      <th>account</th>\n",
              "      <th>accur</th>\n",
              "      <th>accuraci</th>\n",
              "      <th>achiev</th>\n",
              "      <th>achill</th>\n",
              "      <th>acknowledg</th>\n",
              "      <th>acm</th>\n",
              "      <th>acquisit</th>\n",
              "      <th>across</th>\n",
              "      <th>act</th>\n",
              "      <th>action</th>\n",
              "      <th>actions</th>\n",
              "      <th>activ</th>\n",
              "      <th>actix</th>\n",
              "      <th>actor</th>\n",
              "      <th>actual</th>\n",
              "      <th>actuari</th>\n",
              "      <th>ad</th>\n",
              "      <th>adaboost</th>\n",
              "      <th>adadelta</th>\n",
              "      <th>adagrad</th>\n",
              "      <th>adam</th>\n",
              "      <th>adapt</th>\n",
              "      <th>...</th>\n",
              "      <th>xiaomi</th>\n",
              "      <th>xla</th>\n",
              "      <th>xlm</th>\n",
              "      <th>xlnet</th>\n",
              "      <th>xml</th>\n",
              "      <th>xor</th>\n",
              "      <th>xpath</th>\n",
              "      <th>xss</th>\n",
              "      <th>yahoo</th>\n",
              "      <th>yann</th>\n",
              "      <th>yatzi</th>\n",
              "      <th>ycombin</th>\n",
              "      <th>ye</th>\n",
              "      <th>yea</th>\n",
              "      <th>year</th>\n",
              "      <th>years</th>\n",
              "      <th>yeast</th>\n",
              "      <th>yelp</th>\n",
              "      <th>yes</th>\n",
              "      <th>yet</th>\n",
              "      <th>yield</th>\n",
              "      <th>yml</th>\n",
              "      <th>yoda</th>\n",
              "      <th>yoga</th>\n",
              "      <th>yolo</th>\n",
              "      <th>yolov</th>\n",
              "      <th>york</th>\n",
              "      <th>young</th>\n",
              "      <th>younger</th>\n",
              "      <th>youngl</th>\n",
              "      <th>youtub</th>\n",
              "      <th>zaharia</th>\n",
              "      <th>zealand</th>\n",
              "      <th>zen</th>\n",
              "      <th>zero</th>\n",
              "      <th>zier</th>\n",
              "      <th>zip</th>\n",
              "      <th>zoom</th>\n",
              "      <th>zsh</th>\n",
              "      <th>zuckerberg</th>\n",
              "    </tr>\n",
              "  </thead>\n",
              "  <tbody>\n",
              "    <tr>\n",
              "      <th>0</th>\n",
              "      <td>0</td>\n",
              "      <td>0</td>\n",
              "      <td>0</td>\n",
              "      <td>0</td>\n",
              "      <td>0</td>\n",
              "      <td>0</td>\n",
              "      <td>0</td>\n",
              "      <td>0</td>\n",
              "      <td>0</td>\n",
              "      <td>0</td>\n",
              "      <td>0</td>\n",
              "      <td>0</td>\n",
              "      <td>0</td>\n",
              "      <td>0</td>\n",
              "      <td>0</td>\n",
              "      <td>0</td>\n",
              "      <td>0</td>\n",
              "      <td>0</td>\n",
              "      <td>0</td>\n",
              "      <td>0</td>\n",
              "      <td>0</td>\n",
              "      <td>0</td>\n",
              "      <td>0</td>\n",
              "      <td>0</td>\n",
              "      <td>0</td>\n",
              "      <td>0</td>\n",
              "      <td>0</td>\n",
              "      <td>0</td>\n",
              "      <td>0</td>\n",
              "      <td>0</td>\n",
              "      <td>0</td>\n",
              "      <td>0</td>\n",
              "      <td>0</td>\n",
              "      <td>0</td>\n",
              "      <td>0</td>\n",
              "      <td>0</td>\n",
              "      <td>0</td>\n",
              "      <td>0</td>\n",
              "      <td>0</td>\n",
              "      <td>0</td>\n",
              "      <td>...</td>\n",
              "      <td>0</td>\n",
              "      <td>0</td>\n",
              "      <td>0</td>\n",
              "      <td>0</td>\n",
              "      <td>0</td>\n",
              "      <td>0</td>\n",
              "      <td>0</td>\n",
              "      <td>0</td>\n",
              "      <td>0</td>\n",
              "      <td>0</td>\n",
              "      <td>0</td>\n",
              "      <td>0</td>\n",
              "      <td>0</td>\n",
              "      <td>0</td>\n",
              "      <td>0</td>\n",
              "      <td>0</td>\n",
              "      <td>0</td>\n",
              "      <td>0</td>\n",
              "      <td>0</td>\n",
              "      <td>0</td>\n",
              "      <td>0</td>\n",
              "      <td>0</td>\n",
              "      <td>0</td>\n",
              "      <td>0</td>\n",
              "      <td>0</td>\n",
              "      <td>0</td>\n",
              "      <td>0</td>\n",
              "      <td>0</td>\n",
              "      <td>0</td>\n",
              "      <td>0</td>\n",
              "      <td>0</td>\n",
              "      <td>0</td>\n",
              "      <td>0</td>\n",
              "      <td>0</td>\n",
              "      <td>0</td>\n",
              "      <td>0</td>\n",
              "      <td>0</td>\n",
              "      <td>0</td>\n",
              "      <td>0</td>\n",
              "      <td>0</td>\n",
              "    </tr>\n",
              "    <tr>\n",
              "      <th>1</th>\n",
              "      <td>0</td>\n",
              "      <td>0</td>\n",
              "      <td>0</td>\n",
              "      <td>0</td>\n",
              "      <td>0</td>\n",
              "      <td>0</td>\n",
              "      <td>0</td>\n",
              "      <td>0</td>\n",
              "      <td>0</td>\n",
              "      <td>0</td>\n",
              "      <td>0</td>\n",
              "      <td>0</td>\n",
              "      <td>0</td>\n",
              "      <td>0</td>\n",
              "      <td>0</td>\n",
              "      <td>0</td>\n",
              "      <td>0</td>\n",
              "      <td>0</td>\n",
              "      <td>0</td>\n",
              "      <td>0</td>\n",
              "      <td>0</td>\n",
              "      <td>0</td>\n",
              "      <td>0</td>\n",
              "      <td>0</td>\n",
              "      <td>0</td>\n",
              "      <td>0</td>\n",
              "      <td>0</td>\n",
              "      <td>0</td>\n",
              "      <td>0</td>\n",
              "      <td>0</td>\n",
              "      <td>0</td>\n",
              "      <td>0</td>\n",
              "      <td>0</td>\n",
              "      <td>0</td>\n",
              "      <td>0</td>\n",
              "      <td>0</td>\n",
              "      <td>0</td>\n",
              "      <td>0</td>\n",
              "      <td>0</td>\n",
              "      <td>0</td>\n",
              "      <td>...</td>\n",
              "      <td>0</td>\n",
              "      <td>0</td>\n",
              "      <td>0</td>\n",
              "      <td>0</td>\n",
              "      <td>0</td>\n",
              "      <td>0</td>\n",
              "      <td>0</td>\n",
              "      <td>0</td>\n",
              "      <td>0</td>\n",
              "      <td>0</td>\n",
              "      <td>0</td>\n",
              "      <td>0</td>\n",
              "      <td>0</td>\n",
              "      <td>0</td>\n",
              "      <td>0</td>\n",
              "      <td>0</td>\n",
              "      <td>0</td>\n",
              "      <td>0</td>\n",
              "      <td>0</td>\n",
              "      <td>1</td>\n",
              "      <td>0</td>\n",
              "      <td>0</td>\n",
              "      <td>0</td>\n",
              "      <td>0</td>\n",
              "      <td>0</td>\n",
              "      <td>0</td>\n",
              "      <td>0</td>\n",
              "      <td>0</td>\n",
              "      <td>0</td>\n",
              "      <td>0</td>\n",
              "      <td>0</td>\n",
              "      <td>0</td>\n",
              "      <td>0</td>\n",
              "      <td>0</td>\n",
              "      <td>0</td>\n",
              "      <td>0</td>\n",
              "      <td>0</td>\n",
              "      <td>0</td>\n",
              "      <td>0</td>\n",
              "      <td>0</td>\n",
              "    </tr>\n",
              "    <tr>\n",
              "      <th>2</th>\n",
              "      <td>0</td>\n",
              "      <td>0</td>\n",
              "      <td>0</td>\n",
              "      <td>0</td>\n",
              "      <td>0</td>\n",
              "      <td>0</td>\n",
              "      <td>0</td>\n",
              "      <td>0</td>\n",
              "      <td>0</td>\n",
              "      <td>0</td>\n",
              "      <td>0</td>\n",
              "      <td>0</td>\n",
              "      <td>0</td>\n",
              "      <td>0</td>\n",
              "      <td>0</td>\n",
              "      <td>0</td>\n",
              "      <td>0</td>\n",
              "      <td>0</td>\n",
              "      <td>0</td>\n",
              "      <td>0</td>\n",
              "      <td>0</td>\n",
              "      <td>0</td>\n",
              "      <td>0</td>\n",
              "      <td>0</td>\n",
              "      <td>0</td>\n",
              "      <td>0</td>\n",
              "      <td>0</td>\n",
              "      <td>0</td>\n",
              "      <td>0</td>\n",
              "      <td>0</td>\n",
              "      <td>0</td>\n",
              "      <td>0</td>\n",
              "      <td>0</td>\n",
              "      <td>0</td>\n",
              "      <td>0</td>\n",
              "      <td>0</td>\n",
              "      <td>0</td>\n",
              "      <td>0</td>\n",
              "      <td>0</td>\n",
              "      <td>0</td>\n",
              "      <td>...</td>\n",
              "      <td>0</td>\n",
              "      <td>0</td>\n",
              "      <td>0</td>\n",
              "      <td>0</td>\n",
              "      <td>0</td>\n",
              "      <td>0</td>\n",
              "      <td>0</td>\n",
              "      <td>0</td>\n",
              "      <td>0</td>\n",
              "      <td>0</td>\n",
              "      <td>0</td>\n",
              "      <td>0</td>\n",
              "      <td>0</td>\n",
              "      <td>0</td>\n",
              "      <td>0</td>\n",
              "      <td>0</td>\n",
              "      <td>0</td>\n",
              "      <td>0</td>\n",
              "      <td>0</td>\n",
              "      <td>0</td>\n",
              "      <td>0</td>\n",
              "      <td>0</td>\n",
              "      <td>0</td>\n",
              "      <td>0</td>\n",
              "      <td>0</td>\n",
              "      <td>0</td>\n",
              "      <td>0</td>\n",
              "      <td>0</td>\n",
              "      <td>0</td>\n",
              "      <td>0</td>\n",
              "      <td>0</td>\n",
              "      <td>0</td>\n",
              "      <td>0</td>\n",
              "      <td>0</td>\n",
              "      <td>0</td>\n",
              "      <td>0</td>\n",
              "      <td>0</td>\n",
              "      <td>0</td>\n",
              "      <td>0</td>\n",
              "      <td>0</td>\n",
              "    </tr>\n",
              "    <tr>\n",
              "      <th>3</th>\n",
              "      <td>0</td>\n",
              "      <td>0</td>\n",
              "      <td>0</td>\n",
              "      <td>0</td>\n",
              "      <td>0</td>\n",
              "      <td>0</td>\n",
              "      <td>0</td>\n",
              "      <td>0</td>\n",
              "      <td>0</td>\n",
              "      <td>0</td>\n",
              "      <td>0</td>\n",
              "      <td>0</td>\n",
              "      <td>0</td>\n",
              "      <td>0</td>\n",
              "      <td>0</td>\n",
              "      <td>0</td>\n",
              "      <td>0</td>\n",
              "      <td>0</td>\n",
              "      <td>0</td>\n",
              "      <td>0</td>\n",
              "      <td>0</td>\n",
              "      <td>0</td>\n",
              "      <td>0</td>\n",
              "      <td>0</td>\n",
              "      <td>0</td>\n",
              "      <td>0</td>\n",
              "      <td>0</td>\n",
              "      <td>0</td>\n",
              "      <td>0</td>\n",
              "      <td>0</td>\n",
              "      <td>0</td>\n",
              "      <td>0</td>\n",
              "      <td>0</td>\n",
              "      <td>0</td>\n",
              "      <td>0</td>\n",
              "      <td>0</td>\n",
              "      <td>0</td>\n",
              "      <td>0</td>\n",
              "      <td>0</td>\n",
              "      <td>0</td>\n",
              "      <td>...</td>\n",
              "      <td>0</td>\n",
              "      <td>0</td>\n",
              "      <td>0</td>\n",
              "      <td>0</td>\n",
              "      <td>0</td>\n",
              "      <td>0</td>\n",
              "      <td>0</td>\n",
              "      <td>0</td>\n",
              "      <td>0</td>\n",
              "      <td>0</td>\n",
              "      <td>0</td>\n",
              "      <td>0</td>\n",
              "      <td>0</td>\n",
              "      <td>0</td>\n",
              "      <td>0</td>\n",
              "      <td>0</td>\n",
              "      <td>0</td>\n",
              "      <td>0</td>\n",
              "      <td>0</td>\n",
              "      <td>0</td>\n",
              "      <td>0</td>\n",
              "      <td>0</td>\n",
              "      <td>0</td>\n",
              "      <td>0</td>\n",
              "      <td>0</td>\n",
              "      <td>0</td>\n",
              "      <td>0</td>\n",
              "      <td>0</td>\n",
              "      <td>0</td>\n",
              "      <td>0</td>\n",
              "      <td>0</td>\n",
              "      <td>0</td>\n",
              "      <td>0</td>\n",
              "      <td>0</td>\n",
              "      <td>0</td>\n",
              "      <td>0</td>\n",
              "      <td>0</td>\n",
              "      <td>0</td>\n",
              "      <td>0</td>\n",
              "      <td>0</td>\n",
              "    </tr>\n",
              "    <tr>\n",
              "      <th>4</th>\n",
              "      <td>0</td>\n",
              "      <td>0</td>\n",
              "      <td>0</td>\n",
              "      <td>0</td>\n",
              "      <td>0</td>\n",
              "      <td>0</td>\n",
              "      <td>0</td>\n",
              "      <td>0</td>\n",
              "      <td>0</td>\n",
              "      <td>0</td>\n",
              "      <td>0</td>\n",
              "      <td>0</td>\n",
              "      <td>0</td>\n",
              "      <td>0</td>\n",
              "      <td>0</td>\n",
              "      <td>0</td>\n",
              "      <td>0</td>\n",
              "      <td>0</td>\n",
              "      <td>0</td>\n",
              "      <td>0</td>\n",
              "      <td>0</td>\n",
              "      <td>0</td>\n",
              "      <td>0</td>\n",
              "      <td>0</td>\n",
              "      <td>0</td>\n",
              "      <td>0</td>\n",
              "      <td>0</td>\n",
              "      <td>0</td>\n",
              "      <td>0</td>\n",
              "      <td>0</td>\n",
              "      <td>0</td>\n",
              "      <td>0</td>\n",
              "      <td>0</td>\n",
              "      <td>0</td>\n",
              "      <td>0</td>\n",
              "      <td>0</td>\n",
              "      <td>0</td>\n",
              "      <td>0</td>\n",
              "      <td>0</td>\n",
              "      <td>0</td>\n",
              "      <td>...</td>\n",
              "      <td>0</td>\n",
              "      <td>0</td>\n",
              "      <td>0</td>\n",
              "      <td>0</td>\n",
              "      <td>0</td>\n",
              "      <td>0</td>\n",
              "      <td>0</td>\n",
              "      <td>0</td>\n",
              "      <td>0</td>\n",
              "      <td>0</td>\n",
              "      <td>0</td>\n",
              "      <td>0</td>\n",
              "      <td>0</td>\n",
              "      <td>0</td>\n",
              "      <td>0</td>\n",
              "      <td>0</td>\n",
              "      <td>0</td>\n",
              "      <td>0</td>\n",
              "      <td>0</td>\n",
              "      <td>0</td>\n",
              "      <td>0</td>\n",
              "      <td>0</td>\n",
              "      <td>0</td>\n",
              "      <td>0</td>\n",
              "      <td>0</td>\n",
              "      <td>0</td>\n",
              "      <td>0</td>\n",
              "      <td>0</td>\n",
              "      <td>0</td>\n",
              "      <td>0</td>\n",
              "      <td>0</td>\n",
              "      <td>0</td>\n",
              "      <td>0</td>\n",
              "      <td>0</td>\n",
              "      <td>0</td>\n",
              "      <td>0</td>\n",
              "      <td>0</td>\n",
              "      <td>0</td>\n",
              "      <td>0</td>\n",
              "      <td>0</td>\n",
              "    </tr>\n",
              "  </tbody>\n",
              "</table>\n",
              "<p>5 rows × 4677 columns</p>\n",
              "</div>"
            ],
            "text/plain": [
              "   ab  abandon  abil  abl  abnorm  ...  zier  zip  zoom  zsh  zuckerberg\n",
              "0   0        0     0    0       0  ...     0    0     0    0           0\n",
              "1   0        0     0    0       0  ...     0    0     0    0           0\n",
              "2   0        0     0    0       0  ...     0    0     0    0           0\n",
              "3   0        0     0    0       0  ...     0    0     0    0           0\n",
              "4   0        0     0    0       0  ...     0    0     0    0           0\n",
              "\n",
              "[5 rows x 4677 columns]"
            ]
          },
          "metadata": {
            "tags": []
          },
          "execution_count": 16
        }
      ]
    },
    {
      "cell_type": "code",
      "metadata": {
        "id": "DCmQVgwnJ8E-"
      },
      "source": [
        "X = mdt\r\n",
        "y = datos['publicacion']"
      ],
      "execution_count": 18,
      "outputs": []
    },
    {
      "cell_type": "markdown",
      "metadata": {
        "id": "XuONGctRIWA5"
      },
      "source": [
        "## Separar conjunto de entrenamiento y prueba"
      ]
    },
    {
      "cell_type": "code",
      "metadata": {
        "id": "YuWndxTSIVI4",
        "colab": {
          "base_uri": "https://localhost:8080/"
        },
        "outputId": "38460949-5181-409a-cc29-5ca8baef433a"
      },
      "source": [
        "X_train, X_test , y_train, y_test = train_test_split(X, y, test_size=0.3, \n",
        "                                                     random_state=3, shuffle=True)\n",
        "\n",
        "print('titulos totales: {}'.format(datos.shape[0]))\n",
        "print('titulos en el conjunto de entrenamiento: {}'.format(X_train.shape[0]))\n",
        "print('titulos en el conjunto de prueba: {}'.format(X_test.shape[0]))"
      ],
      "execution_count": 19,
      "outputs": [
        {
          "output_type": "stream",
          "text": [
            "titulos totales: 2871\n",
            "titulos en el conjunto de entrenamiento: 2009\n",
            "titulos en el conjunto de prueba: 862\n"
          ],
          "name": "stdout"
        }
      ]
    },
    {
      "cell_type": "code",
      "metadata": {
        "id": "lVZb1RTlKYxP",
        "colab": {
          "base_uri": "https://localhost:8080/"
        },
        "outputId": "64d740a5-2e10-4239-f09b-1f7acd7be143"
      },
      "source": [
        "#proporción de emails por clase en el conjunto de entrenamiento\n",
        "y_train.value_counts(normalize=True)"
      ],
      "execution_count": 22,
      "outputs": [
        {
          "output_type": "execute_result",
          "data": {
            "text/plain": [
              "startup    0.532603\n",
              "tds        0.467397\n",
              "Name: publicacion, dtype: float64"
            ]
          },
          "metadata": {
            "tags": []
          },
          "execution_count": 22
        }
      ]
    },
    {
      "cell_type": "code",
      "metadata": {
        "id": "0ITSWAHwKUm7",
        "colab": {
          "base_uri": "https://localhost:8080/"
        },
        "outputId": "b48fef5e-0120-4704-be30-5efbe3e221ca"
      },
      "source": [
        "#proporción de emails por clases en el conjunto de prueba\n",
        "y_test.value_counts(normalize=True)"
      ],
      "execution_count": 23,
      "outputs": [
        {
          "output_type": "execute_result",
          "data": {
            "text/plain": [
              "startup    0.541763\n",
              "tds        0.458237\n",
              "Name: publicacion, dtype: float64"
            ]
          },
          "metadata": {
            "tags": []
          },
          "execution_count": 23
        }
      ]
    },
    {
      "cell_type": "markdown",
      "metadata": {
        "id": "3z9UIEanP74U"
      },
      "source": [
        "##  Clasificador Naive-Bayes \n"
      ]
    },
    {
      "cell_type": "markdown",
      "metadata": {
        "id": "RqWX-tZKLF0P"
      },
      "source": [
        "####Entrenamiento"
      ]
    },
    {
      "cell_type": "code",
      "metadata": {
        "id": "LyJPMYeWK-lg",
        "colab": {
          "base_uri": "https://localhost:8080/"
        },
        "outputId": "8eccea26-f2eb-45e1-ce99-8c38434ae9f4"
      },
      "source": [
        "#https://scikit-learn.org/stable/modules/naive_bayes.html#multinomial-naive-bayes\n",
        "clasificador = MultinomialNB()\n",
        "clasificador.fit(X_train, y_train)"
      ],
      "execution_count": 24,
      "outputs": [
        {
          "output_type": "execute_result",
          "data": {
            "text/plain": [
              "MultinomialNB(alpha=1.0, class_prior=None, fit_prior=True)"
            ]
          },
          "metadata": {
            "tags": []
          },
          "execution_count": 24
        }
      ]
    },
    {
      "cell_type": "code",
      "metadata": {
        "colab": {
          "base_uri": "https://localhost:8080/"
        },
        "id": "mYzUVgqGpG7c",
        "outputId": "175f1a73-520b-40f7-84d6-635a07c185d9"
      },
      "source": [
        "clasificador.classes_"
      ],
      "execution_count": 25,
      "outputs": [
        {
          "output_type": "execute_result",
          "data": {
            "text/plain": [
              "array(['startup', 'tds'], dtype='<U7')"
            ]
          },
          "metadata": {
            "tags": []
          },
          "execution_count": 25
        }
      ]
    },
    {
      "cell_type": "markdown",
      "metadata": {
        "id": "vtduvGeprYPv"
      },
      "source": [
        "\r\n",
        "El atributo ```feature_count_``` devuelve un vector, por cada clase,  con la frecuencia de aparición de cada uno de los términos\r\n",
        "\r\n",
        "\r\n",
        "\r\n"
      ]
    },
    {
      "cell_type": "code",
      "metadata": {
        "colab": {
          "base_uri": "https://localhost:8080/"
        },
        "id": "LqS1KiiLpPbV",
        "outputId": "f7bb6fac-8540-4c5d-dd35-01fdef5f37f5"
      },
      "source": [
        "print(clasificador.feature_count_.shape)\r\n",
        "clasificador.feature_count_"
      ],
      "execution_count": 26,
      "outputs": [
        {
          "output_type": "stream",
          "text": [
            "(2, 4677)\n"
          ],
          "name": "stdout"
        },
        {
          "output_type": "execute_result",
          "data": {
            "text/plain": [
              "array([[0., 1., 3., ..., 2., 0., 1.],\n",
              "       [1., 0., 0., ..., 0., 0., 0.]])"
            ]
          },
          "metadata": {
            "tags": []
          },
          "execution_count": 26
        }
      ]
    },
    {
      "cell_type": "markdown",
      "metadata": {
        "id": "VIH18FJpryiw"
      },
      "source": [
        "\r\n",
        "El atributo ```feature_log_prob_``` devuelve un vector, por cada clase,  con la probabilidad en escala logaritmica de cada término\r\n",
        "\r\n",
        "\r\n",
        "\r\n"
      ]
    },
    {
      "cell_type": "code",
      "metadata": {
        "colab": {
          "base_uri": "https://localhost:8080/"
        },
        "id": "OB7Af_ihqcau",
        "outputId": "74360eca-a6b4-40f6-ea8f-ce48dff4e9ce"
      },
      "source": [
        "print(clasificador.feature_log_prob_.shape)\r\n",
        "clasificador.feature_log_prob_"
      ],
      "execution_count": 27,
      "outputs": [
        {
          "output_type": "stream",
          "text": [
            "(2, 4677)\n"
          ],
          "name": "stdout"
        },
        {
          "output_type": "execute_result",
          "data": {
            "text/plain": [
              "array([[-9.42770727, -8.73456009, -8.04141291, ..., -8.32909498,\n",
              "        -9.42770727, -8.73456009],\n",
              "       [-8.80604957, -9.49919675, -9.49919675, ..., -9.49919675,\n",
              "        -9.49919675, -9.49919675]])"
            ]
          },
          "metadata": {
            "tags": []
          },
          "execution_count": 27
        }
      ]
    },
    {
      "cell_type": "markdown",
      "metadata": {
        "id": "M_Nx5Yn1IsDX"
      },
      "source": [
        "***fijarse como siempre que aparece un 0 en la frecuencia de cada palabra por clase, obtenemos la misma log probabilidad, en cada clase***"
      ]
    },
    {
      "cell_type": "code",
      "metadata": {
        "colab": {
          "base_uri": "https://localhost:8080/"
        },
        "id": "mcM9ZbE0Ji5H",
        "outputId": "9716fb19-fa2a-4ff1-9215-547a91d2c737"
      },
      "source": [
        "#probabilidad cuando hay frecuencia 0 en la clase  0('no spam')\r\n",
        "sum_palabras_startup = np.sum(clasificador.feature_count_, axis=1)[0]\r\n",
        "\r\n",
        "np.log(1/(sum_palabras_startup+ len(terminos)))"
      ],
      "execution_count": 23,
      "outputs": [
        {
          "output_type": "execute_result",
          "data": {
            "text/plain": [
              "-9.427707270512938"
            ]
          },
          "metadata": {
            "tags": []
          },
          "execution_count": 23
        }
      ]
    },
    {
      "cell_type": "code",
      "metadata": {
        "colab": {
          "base_uri": "https://localhost:8080/"
        },
        "id": "57SQXfhXMMHp",
        "outputId": "67d9d49c-3056-4870-c364-b1ba45c10978"
      },
      "source": [
        "#probabilidad cuando hay frecuencia 0 en la clase  1('spam')\r\n",
        "sum_palabras_tds = np.sum(clasificador.feature_count_, axis=1)[1]\r\n",
        "\r\n",
        "np.log(1/(sum_palabras_tds + len(terminos)))"
      ],
      "execution_count": 28,
      "outputs": [
        {
          "output_type": "execute_result",
          "data": {
            "text/plain": [
              "-9.499196754655733"
            ]
          },
          "metadata": {
            "tags": []
          },
          "execution_count": 28
        }
      ]
    },
    {
      "cell_type": "code",
      "metadata": {
        "colab": {
          "base_uri": "https://localhost:8080/"
        },
        "id": "eGspdrUvsv5X",
        "outputId": "fdc13e12-b206-4ff5-a72a-da766b92b545"
      },
      "source": [
        "#terminos con más peso para clasificar en startup\r\n",
        "for p in clasificador.feature_log_prob_.argsort()[0,-10:]:\r\n",
        "  print(terminos[p])"
      ],
      "execution_count": 29,
      "outputs": [
        {
          "output_type": "stream",
          "text": [
            "product\n",
            "get\n",
            "make\n",
            "build\n",
            "work\n",
            "creat\n",
            "learn\n",
            "data\n",
            "write\n",
            "use\n"
          ],
          "name": "stdout"
        }
      ]
    },
    {
      "cell_type": "code",
      "metadata": {
        "colab": {
          "base_uri": "https://localhost:8080/"
        },
        "id": "YqHijCbcvT51",
        "outputId": "40e5c0cd-0b95-40c2-ba87-eb66d09efcff"
      },
      "source": [
        "#terminos con más peso para clasificar en tds\r\n",
        "for p in clasificador.feature_log_prob_.argsort()[1,-10:]:\r\n",
        "  print(terminos[p])"
      ],
      "execution_count": 30,
      "outputs": [
        {
          "output_type": "stream",
          "text": [
            "analysi\n",
            "ai\n",
            "build\n",
            "model\n",
            "scienc\n",
            "machin\n",
            "python\n",
            "use\n",
            "learn\n",
            "data\n"
          ],
          "name": "stdout"
        }
      ]
    },
    {
      "cell_type": "markdown",
      "metadata": {
        "id": "cZNLTJ9sLaZ_"
      },
      "source": [
        "#### Evaluación del modelo"
      ]
    },
    {
      "cell_type": "code",
      "metadata": {
        "id": "daQmrSe923Iu",
        "outputId": "7902bc84-967c-480f-b16f-2a5b63eeccd2",
        "colab": {
          "base_uri": "https://localhost:8080/"
        }
      },
      "source": [
        "len(X_test)"
      ],
      "execution_count": 32,
      "outputs": [
        {
          "output_type": "execute_result",
          "data": {
            "text/plain": [
              "862"
            ]
          },
          "metadata": {
            "tags": []
          },
          "execution_count": 32
        }
      ]
    },
    {
      "cell_type": "code",
      "metadata": {
        "id": "yLn2Rs0sLKpv"
      },
      "source": [
        "y_pred = clasificador.predict(X_test)\r\n"
      ],
      "execution_count": 33,
      "outputs": []
    },
    {
      "cell_type": "code",
      "metadata": {
        "id": "vTHr7xK4LlDV",
        "colab": {
          "base_uri": "https://localhost:8080/",
          "height": 279
        },
        "outputId": "4a53e879-afe5-483a-b2f2-4e81ae0933a7"
      },
      "source": [
        "data = {'Y_Real':  y_test,\n",
        "        'Y_Prediccion':y_pred\n",
        "        }\n",
        "\n",
        "df = pd.DataFrame(data, columns=['Y_Real','Y_Prediccion'])\n",
        "confusion_matrix = pd.crosstab(df['Y_Real'], df['Y_Prediccion'], rownames=['Real'], colnames=['Predicted'])\n",
        "\n",
        "sns.heatmap(confusion_matrix, annot=True, fmt='g')\n",
        "plt.show()"
      ],
      "execution_count": 34,
      "outputs": [
        {
          "output_type": "display_data",
          "data": {
            "image/png": "[encoded data removed]",
            "text/plain": [
              "<Figure size 432x288 with 2 Axes>"
            ]
          },
          "metadata": {
            "tags": [],
            "needs_background": "light"
          }
        }
      ]
    },
    {
      "cell_type": "code",
      "metadata": {
        "colab": {
          "base_uri": "https://localhost:8080/",
          "height": 142
        },
        "id": "50EPoZecaY8o",
        "outputId": "c00a7828-8a70-44e4-b319-11a1dc9fbeaf"
      },
      "source": [
        "resultados_prediccion = pd.merge(df, datos['descripcion'], how='left', \r\n",
        "                                 left_index=True, right_index= True)\r\n",
        "resultados_prediccion.head(3)"
      ],
      "execution_count": 36,
      "outputs": [
        {
          "output_type": "execute_result",
          "data": {
            "text/html": [
              "<div>\n",
              "<style scoped>\n",
              "    .dataframe tbody tr th:only-of-type {\n",
              "        vertical-align: middle;\n",
              "    }\n",
              "\n",
              "    .dataframe tbody tr th {\n",
              "        vertical-align: top;\n",
              "    }\n",
              "\n",
              "    .dataframe thead th {\n",
              "        text-align: right;\n",
              "    }\n",
              "</style>\n",
              "<table border=\"1\" class=\"dataframe\">\n",
              "  <thead>\n",
              "    <tr style=\"text-align: right;\">\n",
              "      <th></th>\n",
              "      <th>Y_Real</th>\n",
              "      <th>Y_Prediccion</th>\n",
              "      <th>descripcion</th>\n",
              "    </tr>\n",
              "  </thead>\n",
              "  <tbody>\n",
              "    <tr>\n",
              "      <th>2079</th>\n",
              "      <td>startup</td>\n",
              "      <td>tds</td>\n",
              "      <td>Heterogeneous Database Replication to TiDB. Au...</td>\n",
              "    </tr>\n",
              "    <tr>\n",
              "      <th>2159</th>\n",
              "      <td>startup</td>\n",
              "      <td>startup</td>\n",
              "      <td>“Why do You Want to be a Product Manager?”. A ...</td>\n",
              "    </tr>\n",
              "    <tr>\n",
              "      <th>1844</th>\n",
              "      <td>startup</td>\n",
              "      <td>startup</td>\n",
              "      <td>Habits of Successful People. What is it that s...</td>\n",
              "    </tr>\n",
              "  </tbody>\n",
              "</table>\n",
              "</div>"
            ],
            "text/plain": [
              "       Y_Real Y_Prediccion                                        descripcion\n",
              "2079  startup          tds  Heterogeneous Database Replication to TiDB. Au...\n",
              "2159  startup      startup  “Why do You Want to be a Product Manager?”. A ...\n",
              "1844  startup      startup  Habits of Successful People. What is it that s..."
            ]
          },
          "metadata": {
            "tags": []
          },
          "execution_count": 36
        }
      ]
    },
    {
      "cell_type": "code",
      "metadata": {
        "colab": {
          "base_uri": "https://localhost:8080/",
          "height": 419
        },
        "id": "uF-zwU43capC",
        "outputId": "42d0d902-9699-4aa8-86ef-d4f1e9893e3a"
      },
      "source": [
        "#artículos mal clasificados\r\n",
        "resultados_prediccion[resultados_prediccion['Y_Real']!=resultados_prediccion['Y_Prediccion']]"
      ],
      "execution_count": 37,
      "outputs": [
        {
          "output_type": "execute_result",
          "data": {
            "text/html": [
              "<div>\n",
              "<style scoped>\n",
              "    .dataframe tbody tr th:only-of-type {\n",
              "        vertical-align: middle;\n",
              "    }\n",
              "\n",
              "    .dataframe tbody tr th {\n",
              "        vertical-align: top;\n",
              "    }\n",
              "\n",
              "    .dataframe thead th {\n",
              "        text-align: right;\n",
              "    }\n",
              "</style>\n",
              "<table border=\"1\" class=\"dataframe\">\n",
              "  <thead>\n",
              "    <tr style=\"text-align: right;\">\n",
              "      <th></th>\n",
              "      <th>Y_Real</th>\n",
              "      <th>Y_Prediccion</th>\n",
              "      <th>descripcion</th>\n",
              "    </tr>\n",
              "  </thead>\n",
              "  <tbody>\n",
              "    <tr>\n",
              "      <th>2079</th>\n",
              "      <td>startup</td>\n",
              "      <td>tds</td>\n",
              "      <td>Heterogeneous Database Replication to TiDB. Au...</td>\n",
              "    </tr>\n",
              "    <tr>\n",
              "      <th>724</th>\n",
              "      <td>tds</td>\n",
              "      <td>startup</td>\n",
              "      <td>Why it’s difficult to sell AI-driven solutions...</td>\n",
              "    </tr>\n",
              "    <tr>\n",
              "      <th>2619</th>\n",
              "      <td>startup</td>\n",
              "      <td>tds</td>\n",
              "      <td>Making Space Again. -</td>\n",
              "    </tr>\n",
              "    <tr>\n",
              "      <th>250</th>\n",
              "      <td>tds</td>\n",
              "      <td>startup</td>\n",
              "      <td>Introduction to Robotic Control Systems. -</td>\n",
              "    </tr>\n",
              "    <tr>\n",
              "      <th>403</th>\n",
              "      <td>tds</td>\n",
              "      <td>startup</td>\n",
              "      <td>How Google Search Might Exist Forever. SOFTWAR...</td>\n",
              "    </tr>\n",
              "    <tr>\n",
              "      <th>...</th>\n",
              "      <td>...</td>\n",
              "      <td>...</td>\n",
              "      <td>...</td>\n",
              "    </tr>\n",
              "    <tr>\n",
              "      <th>942</th>\n",
              "      <td>tds</td>\n",
              "      <td>startup</td>\n",
              "      <td>Clinical Notes — The “Negative” Story. -</td>\n",
              "    </tr>\n",
              "    <tr>\n",
              "      <th>1990</th>\n",
              "      <td>startup</td>\n",
              "      <td>tds</td>\n",
              "      <td>Magic Python: mixing magics. -</td>\n",
              "    </tr>\n",
              "    <tr>\n",
              "      <th>2523</th>\n",
              "      <td>startup</td>\n",
              "      <td>tds</td>\n",
              "      <td>Data Personhood. How to solve the wealth trans...</td>\n",
              "    </tr>\n",
              "    <tr>\n",
              "      <th>1958</th>\n",
              "      <td>startup</td>\n",
              "      <td>tds</td>\n",
              "      <td>Getting Sentimental. -</td>\n",
              "    </tr>\n",
              "    <tr>\n",
              "      <th>2144</th>\n",
              "      <td>startup</td>\n",
              "      <td>tds</td>\n",
              "      <td>OLS method of Linear Regression using C++. -</td>\n",
              "    </tr>\n",
              "  </tbody>\n",
              "</table>\n",
              "<p>199 rows × 3 columns</p>\n",
              "</div>"
            ],
            "text/plain": [
              "       Y_Real Y_Prediccion                                        descripcion\n",
              "2079  startup          tds  Heterogeneous Database Replication to TiDB. Au...\n",
              "724       tds      startup  Why it’s difficult to sell AI-driven solutions...\n",
              "2619  startup          tds                              Making Space Again. -\n",
              "250       tds      startup         Introduction to Robotic Control Systems. -\n",
              "403       tds      startup  How Google Search Might Exist Forever. SOFTWAR...\n",
              "...       ...          ...                                                ...\n",
              "942       tds      startup           Clinical Notes — The “Negative” Story. -\n",
              "1990  startup          tds                     Magic Python: mixing magics. -\n",
              "2523  startup          tds  Data Personhood. How to solve the wealth trans...\n",
              "1958  startup          tds                             Getting Sentimental. -\n",
              "2144  startup          tds       OLS method of Linear Regression using C++. -\n",
              "\n",
              "[199 rows x 3 columns]"
            ]
          },
          "metadata": {
            "tags": []
          },
          "execution_count": 37
        }
      ]
    },
    {
      "cell_type": "code",
      "metadata": {
        "colab": {
          "base_uri": "https://localhost:8080/",
          "height": 35
        },
        "id": "ZeBlh5M5n85-",
        "outputId": "3df269c2-9240-40be-ae38-99361aa5ed6c"
      },
      "source": [
        "resultados_prediccion.loc[2682,'descripcion']"
      ],
      "execution_count": 38,
      "outputs": [
        {
          "output_type": "execute_result",
          "data": {
            "application/vnd.google.colaboratory.intrinsic+json": {
              "type": "string"
            },
            "text/plain": [
              "'When Blockchain Meets Artificial Intelligence. The convergence of Blockchain and AI can enhance\\xa0machine…'"
            ]
          },
          "metadata": {
            "tags": []
          },
          "execution_count": 38
        }
      ]
    },
    {
      "cell_type": "code",
      "metadata": {
        "id": "llzZ7kDY4v7w",
        "outputId": "204fa5a7-09d7-4727-c31c-fba3080fdf54",
        "colab": {
          "base_uri": "https://localhost:8080/"
        }
      },
      "source": [
        "resultados_prediccion.loc[2682,:]"
      ],
      "execution_count": 39,
      "outputs": [
        {
          "output_type": "execute_result",
          "data": {
            "text/plain": [
              "Y_Real                                                    startup\n",
              "Y_Prediccion                                                  tds\n",
              "descripcion     When Blockchain Meets Artificial Intelligence....\n",
              "Name: 2682, dtype: object"
            ]
          },
          "metadata": {
            "tags": []
          },
          "execution_count": 39
        }
      ]
    },
    {
      "cell_type": "markdown",
      "metadata": {
        "id": "bedjWLyK9KeY"
      },
      "source": [
        "#Referencias: \r\n",
        "\r\n",
        "1. Synced. Applying Multinomial Naive Bayes to NLP Problems: A Practical Explanation [Internet]. Medium. 2017 [citado 5 de enero de 2021]. Disponible en: https://medium.com/syncedreview/applying-multinomial-naive-bayes-to-nlp-problems-a-practical-explanation-4f5271768ebf\r\n",
        "2. srosassm_textclassification [Internet]. [citado 5 de enero de 2021]. Disponible en: http://cs.wellesley.edu/~srosassm/cs234/digital/srosassm_textclassification.html\r\n"
      ]
    }
  ]
}