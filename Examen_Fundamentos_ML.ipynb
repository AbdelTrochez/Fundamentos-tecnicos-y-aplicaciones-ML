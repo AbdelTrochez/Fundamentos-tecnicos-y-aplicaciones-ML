{
  "nbformat": 4,
  "nbformat_minor": 0,
  "metadata": {
    "colab": {
      "name": "Examen  Fundamentos ML",
      "provenance": [],
      "collapsed_sections": [],
      "toc_visible": true,
      "authorship_tag": "ABX9TyNA9XZ1vLZSKNy7h2NDZ+tZ",
      "include_colab_link": true
    },
    "kernelspec": {
      "name": "python3",
      "display_name": "Python 3"
    }
  },
  "cells": [
    {
      "cell_type": "markdown",
      "metadata": {
        "id": "view-in-github",
        "colab_type": "text"
      },
      "source": [
        "<a href=\"https://colab.research.google.com/github/AnIsAsPe/Fundamentos-tecnicos-y-aplicaciones-ML/blob/main/Examen_Fundamentos_ML.ipynb\" target=\"_parent\"><img src=\"https://colab.research.google.com/assets/colab-badge.svg\" alt=\"Open In Colab\"/></a>"
      ]
    },
    {
      "cell_type": "markdown",
      "metadata": {
        "id": "pjFTFJxYcM6g"
      },
      "source": [
        "1. Eliga un sistema de ecuaciones de tres variables (y 3 ecuaciones), escriba las ecuaciones en una celda de texto y desúes solucionelo mediante código, utilizando el modulo de algebra lineal de la biblioteca numpy.\n",
        "Exlique el significado de la solución\n",
        "\n",
        "\n"
      ]
    },
    {
      "cell_type": "code",
      "metadata": {
        "id": "Lk3ILWCgEz3j"
      },
      "source": [
        ""
      ],
      "execution_count": null,
      "outputs": []
    },
    {
      "cell_type": "markdown",
      "metadata": {
        "id": "5qJj8x2Q_AD1"
      },
      "source": [
        "2. Realice el emparejamiento de 5 estudiantes a 5 mujeres con sus preferencias asignadas al azar, pasando los datos por el algoritmo de emparejamiento con dos variantes:\r\n",
        "* simulando que las mujeres son quien proponen el emparejamiento.\r\n",
        "* simulando que los hombres son quien proponen el emparejamiento\r\n",
        "\r\n",
        "Explique los hallazgos\r\n"
      ]
    },
    {
      "cell_type": "code",
      "metadata": {
        "id": "91BSNe4nBrLW"
      },
      "source": [
        ""
      ],
      "execution_count": null,
      "outputs": []
    },
    {
      "cell_type": "markdown",
      "metadata": {
        "id": "mOPWoQJaETW0"
      },
      "source": [
        "3.  Realiza una clasificación de mensajes de texto  utilizando Naïve Bayes y la base de datos [spam.csv](https://github.com/AnIsAsPe/ElementosEstadisticaMachineLearningPython/blob/master/Semana8/spam.csv)"
      ]
    },
    {
      "cell_type": "code",
      "metadata": {
        "id": "lPtYQhTXEsjr"
      },
      "source": [
        ""
      ],
      "execution_count": null,
      "outputs": []
    },
    {
      "cell_type": "markdown",
      "metadata": {
        "id": "eAlh7gqvFfUj"
      },
      "source": [
        "4. Escoja un problema de diagnóstico o pronóstico, identifique las variables relevantes y  diseñe una red bayesiana que contenga la probabilidad condicional de cada variable."
      ]
    },
    {
      "cell_type": "code",
      "metadata": {
        "id": "DN-dtxUyFgs0"
      },
      "source": [
        ""
      ],
      "execution_count": null,
      "outputs": []
    }
  ]
}