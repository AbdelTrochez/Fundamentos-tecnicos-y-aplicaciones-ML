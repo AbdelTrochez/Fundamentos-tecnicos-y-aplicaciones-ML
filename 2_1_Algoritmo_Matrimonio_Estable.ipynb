{
  "nbformat": 4,
  "nbformat_minor": 0,
  "metadata": {
    "colab": {
      "name": "2.1 Algoritmo Matrimonio Estable.ipynb",
      "provenance": [],
      "collapsed_sections": [],
      "toc_visible": true,
      "mount_file_id": "18NwY5B8BQE08wCC4Gwjd6du-PPiwyNST",
      "authorship_tag": "ABX9TyPDmNw+wXV51qwYfvcFJLbf",
      "include_colab_link": true
    },
    "kernelspec": {
      "name": "python3",
      "display_name": "Python 3"
    }
  },
  "cells": [
    {
      "cell_type": "markdown",
      "metadata": {
        "id": "view-in-github",
        "colab_type": "text"
      },
      "source": [
        "<a href=\"https://colab.research.google.com/github/AnIsAsPe/Fundamentos-tecnicos-y-aplicaciones-ML/blob/main/2_1_Algoritmo_Matrimonio_Estable.ipynb\" target=\"_parent\"><img src=\"https://colab.research.google.com/assets/colab-badge.svg\" alt=\"Open In Colab\"/></a>"
      ]
    },
    {
      "cell_type": "markdown",
      "metadata": {
        "id": "4UzgnO8r9ljm"
      },
      "source": [
        "#Importar bibliotecas"
      ]
    },
    {
      "cell_type": "code",
      "metadata": {
        "id": "6_iLJn4KX-Np"
      },
      "source": [
        "import numpy as np"
      ],
      "execution_count": 1,
      "outputs": []
    },
    {
      "cell_type": "markdown",
      "metadata": {
        "id": "q9PZfNJW9vVk"
      },
      "source": [
        "#Funciones"
      ]
    },
    {
      "cell_type": "markdown",
      "metadata": {
        "id": "obEJJrB1WgvY"
      },
      "source": [
        "### pref_mujeres_h1_sobre_h()"
      ]
    },
    {
      "cell_type": "code",
      "metadata": {
        "id": "A4tbj6L4Vw-Y"
      },
      "source": [
        " \n",
        "def pref_mujeres_h1_sobre_h(preferencia, m, h, h1): \n",
        "  '''Esta función prueba si la mujer 'm' prefiere al hombre 'h1'\n",
        "     sobre el hombre 'h' '''\n",
        "  N = preferencia.shape[1]\n",
        "\n",
        "  for i in range(N): \n",
        "          \n",
        "      # Si h1 está antes de h en la lista de m,  \n",
        "      # entonces la mujer se queda con el hombre h1\n",
        "      if (preferencia[m][i] == h1): \n",
        "          return True\n",
        "  \n",
        "      # En caso contrario m  se queda con h\n",
        "      if (preferencia[m][i] == h): \n",
        "          return False"
      ],
      "execution_count": 2,
      "outputs": []
    },
    {
      "cell_type": "markdown",
      "metadata": {
        "id": "mdIyAM4xXe6_"
      },
      "source": [
        "### stableMarriage()"
      ]
    },
    {
      "cell_type": "code",
      "metadata": {
        "id": "Qp1M9p4LWzZo"
      },
      "source": [
        "def stableMarriage(preferencia, posicion1='hombre', posicion2='mujer'): \n",
        "  '''Regresa una matriz con las parejas formadas en cada renglón.\n",
        "     preferencias: Matriz que guarda las preferencias de dos grupos de actores a \n",
        "     ser emparejados (por ejemplo: hombres y mujeres) \n",
        "     Las preferencias de cada uno de los hombres se encuentran en los\n",
        "     renglones del 0 al N-1.  \n",
        "     Las preferencias de cada una de las mujeres están desde el \n",
        "     el renglón N al 2N-1\n",
        "     referencia: https://www.geeksforgeeks.org/stable-marriage-problem/ '''\n",
        "     \n",
        "  N = preferencia.shape[1]\n",
        "\n",
        "  # La lista muj_pareja guarda la pareja de las mujeres  \n",
        "  # el valor muj_pareja[i] es el valor de la pareja asignada a la mujer N+i\n",
        "  # cuando el valore es -1 indica que la mujer está libre\n",
        "  muj_pareja = [-1 for i in range(N)]  \n",
        "  \n",
        "  # la lista h_comprometido va a guardar el estatus de cada hombre, el\n",
        "  # valor de h_comprometiod[i] es verdadero cuando está comprometido y falso\n",
        "  # cuando está libre. \n",
        "  h_comprometido = [False for i in range(N)] \n",
        "  \n",
        "  libres = N \n",
        "  \n",
        "  #Mientras existan hombres libres\n",
        "  while (libres > 0):  \n",
        "    # Escoje cualquier hombre libre\n",
        "    h = 0\n",
        "    while (h < N): \n",
        "        # si el hombre h está no está comprometido, se rompe el ciclo while\n",
        "        if (h_comprometido[h] == False):         \n",
        "          break\n",
        "        # de otra manera se prueba con el que sigue hasta encontrar uno libre \n",
        "        h += 1      \n",
        "  \n",
        "    # h es entonces un hombre libre y se buscara una mujer de acuerdo con \n",
        "    # sus preferencias \n",
        "    i = 0\n",
        "    while i < N and h_comprometido[h] == False: \n",
        "      m = preferencia[h][i] \n",
        "  \n",
        "      # Si la primera mujer de sus preferencias m está libre,  \n",
        "      # m y h se comprometen (no se casan) \n",
        "      if (muj_pareja[m - N] == -1): \n",
        "          muj_pareja[m - N] = h \n",
        "          h_comprometido[h] = True\n",
        "          libres -= 1  #ser resta uno a los hombres libres\n",
        "\n",
        "      else:\n",
        "                  \n",
        "          # Si la mujer no está libre, se reviza con qué hombre esta comprometida\n",
        "          h1 = muj_pareja[m - N] \n",
        "  \n",
        "          # Se revisa si la mujer prefiere a su compormetido (h1) sobre  h. \n",
        "          if (pref_mujeres_h1_sobre_h(preferencia, m, h, h1) == False): \n",
        "              muj_pareja[m - N] = h \n",
        "              h_comprometido[h] = True\n",
        "              h_comprometido[h1] = False\n",
        "      i += 1 \n",
        "  \n",
        "  hombres = np.array(muj_pareja)\n",
        "  mujeres = np.arange(N, 2*N)\n",
        "  parejas =np.column_stack((mujeres, hombres))\n",
        "\n",
        "  return parejas"
      ],
      "execution_count": 3,
      "outputs": []
    },
    {
      "cell_type": "markdown",
      "metadata": {
        "id": "r0UvasmA-ACV"
      },
      "source": [
        "# Ejemplo 1 Parejas estables entre hombres y mujeres de acuerdo a sus preferencias"
      ]
    },
    {
      "cell_type": "markdown",
      "metadata": {
        "id": "YqrMRRib0Kkp"
      },
      "source": [
        "* Existen dos grupos de elementos que hay que emparejar\n",
        "* Cada elemento ordena los elementos del otro grupo según sus preferencias para ser emparejado\n",
        "* Las parejas pueden ser estables o inestables\n",
        "     * son inestables cuando alguno de los miembros prefiere a un miembro de otra pareja que, a su vez le prefiere a él antes que a su propia pareja.\n",
        "     * son estables en caso contrario"
      ]
    },
    {
      "cell_type": "code",
      "metadata": {
        "colab": {
          "base_uri": "https://localhost:8080/"
        },
        "id": "VZ9GdrmP0XC2",
        "outputId": "880e9ed2-8718-4db3-a189-795ddb19f123"
      },
      "source": [
        "#Construcción de una matriz de preferencias\n",
        "pref = {}  #inicia dic para guardar el orden de las mujeres por preferencia de c/hombre\n",
        "\n",
        "for i in range(0,5):\n",
        "  pref[i] = np.random.choice(range(5), 5, replace=False)      #genera preferencias de los hombres\n",
        "  pref[i+5] = np.random.choice(range(5,10), 5, replace=False) #genera preferenciaencias de las mujeres\n",
        "preferencia = np.stack(list(pref.values()), axis=0)\n",
        "preferencia"
      ],
      "execution_count": 4,
      "outputs": [
        {
          "output_type": "execute_result",
          "data": {
            "text/plain": [
              "array([[4, 2, 1, 0, 3],\n",
              "       [6, 7, 8, 5, 9],\n",
              "       [0, 3, 4, 1, 2],\n",
              "       [8, 6, 5, 9, 7],\n",
              "       [4, 1, 0, 3, 2],\n",
              "       [8, 7, 6, 5, 9],\n",
              "       [0, 1, 3, 4, 2],\n",
              "       [7, 5, 9, 6, 8],\n",
              "       [3, 1, 2, 0, 4],\n",
              "       [9, 6, 5, 8, 7]])"
            ]
          },
          "metadata": {
            "tags": []
          },
          "execution_count": 4
        }
      ]
    },
    {
      "cell_type": "code",
      "metadata": {
        "id": "T4wTNIcwmrSV"
      },
      "source": [
        "parejas = stableMarriage(preferencia, 'hombre', 'mujer')"
      ],
      "execution_count": 5,
      "outputs": []
    },
    {
      "cell_type": "markdown",
      "metadata": {
        "id": "EpPliW-2-FwP"
      },
      "source": [
        "# Ejemplo 2 Recomendacion emparejamiento candidatos-empleos"
      ]
    },
    {
      "cell_type": "markdown",
      "metadata": {
        "id": "vs4zbtbIKiLq"
      },
      "source": [
        "Conjunto de datos generado a partir del [github](https://github.com/AmarSaini/PrivateJobMatch) relacionado con el siguiente estudio:\r\n",
        "\r\n",
        "1. Saini A, Rusu F, Johnston A. PrivateJobMatch: a privacy-oriented deferred multi-match recommender system for stable employment. En: Proceedings of the 13th ACM Conference on Recommender Systems [Internet]. Copenhagen Denmark: ACM; 2019 [citado 24 de noviembre de 2020]. p. 87-95. Disponible en: https://dl.acm.org/doi/10.1145/3298689.3346983\r\n"
      ]
    },
    {
      "cell_type": "code",
      "metadata": {
        "colab": {
          "base_uri": "https://localhost:8080/"
        },
        "id": "-Y7TftwE-U_V",
        "outputId": "e186a0d7-3182-4442-d6c0-70ff909b7040"
      },
      "source": [
        "candidatos = np.genfromtxt('https://raw.githubusercontent.com/AnIsAsPe/Fundamentos-tecnicos-y-aplicaciones-ML/main/Datos/dense_candidate_prefs.csv',\n",
        "                           delimiter=',')\n",
        "candidatos.shape"
      ],
      "execution_count": 6,
      "outputs": [
        {
          "output_type": "execute_result",
          "data": {
            "text/plain": [
              "(100, 100)"
            ]
          },
          "metadata": {
            "tags": []
          },
          "execution_count": 6
        }
      ]
    },
    {
      "cell_type": "code",
      "metadata": {
        "colab": {
          "base_uri": "https://localhost:8080/"
        },
        "id": "6H9BrkmA_B3I",
        "outputId": "d9254dfb-9b34-4849-b198-8f048db3e872"
      },
      "source": [
        "empleadores = np.genfromtxt('https://raw.githubusercontent.com/AnIsAsPe/Fundamentos-tecnicos-y-aplicaciones-ML/main/Datos/dense_employer_prefs.csv', delimiter=',')\n",
        "empleadores.shape"
      ],
      "execution_count": 7,
      "outputs": [
        {
          "output_type": "execute_result",
          "data": {
            "text/plain": [
              "(100, 100)"
            ]
          },
          "metadata": {
            "tags": []
          },
          "execution_count": 7
        }
      ]
    },
    {
      "cell_type": "code",
      "metadata": {
        "colab": {
          "base_uri": "https://localhost:8080/"
        },
        "id": "7TMYsAuhFwvb",
        "outputId": "a87c9ccb-d312-49a0-e248-62db3a38aedc"
      },
      "source": [
        "matriz_pref = np.concatenate((candidatos,empleadores), axis=0)\n",
        "matriz_pref = matriz_pref.astype('int64')\n",
        "matriz_pref.shape"
      ],
      "execution_count": 8,
      "outputs": [
        {
          "output_type": "execute_result",
          "data": {
            "text/plain": [
              "(200, 100)"
            ]
          },
          "metadata": {
            "tags": []
          },
          "execution_count": 8
        }
      ]
    },
    {
      "cell_type": "code",
      "metadata": {
        "colab": {
          "base_uri": "https://localhost:8080/"
        },
        "id": "xkAnmp_HGsZw",
        "outputId": "e3df2b5e-59e4-442e-811a-82566d8c22bd"
      },
      "source": [
        "candidatos_empleadores = stableMarriage(matriz_pref, 'candidato', 'empleador')\r\n",
        "candidatos_empleadores.shape"
      ],
      "execution_count": 11,
      "outputs": [
        {
          "output_type": "execute_result",
          "data": {
            "text/plain": [
              "(100, 2)"
            ]
          },
          "metadata": {
            "tags": []
          },
          "execution_count": 11
        }
      ]
    },
    {
      "cell_type": "code",
      "metadata": {
        "colab": {
          "base_uri": "https://localhost:8080/"
        },
        "id": "DPsszTY9LHny",
        "outputId": "fd05c73c-3fc9-4f15-b812-f9e13d717941"
      },
      "source": [
        "candidatos_empleadores"
      ],
      "execution_count": 12,
      "outputs": [
        {
          "output_type": "execute_result",
          "data": {
            "text/plain": [
              "array([[100,  33],\n",
              "       [101,  54],\n",
              "       [102,  22],\n",
              "       [103,   4],\n",
              "       [104,   3],\n",
              "       [105,  52],\n",
              "       [106,  75],\n",
              "       [107,  26],\n",
              "       [108,  67],\n",
              "       [109,  36],\n",
              "       [110,  71],\n",
              "       [111,  28],\n",
              "       [112,  89],\n",
              "       [113,  95],\n",
              "       [114,   8],\n",
              "       [115,  66],\n",
              "       [116,  63],\n",
              "       [117,  85],\n",
              "       [118,  56],\n",
              "       [119,  43],\n",
              "       [120,  55],\n",
              "       [121,  59],\n",
              "       [122,   2],\n",
              "       [123,  90],\n",
              "       [124,  81],\n",
              "       [125,  72],\n",
              "       [126,  11],\n",
              "       [127,  70],\n",
              "       [128,  19],\n",
              "       [129,  74],\n",
              "       [130,  65],\n",
              "       [131,  45],\n",
              "       [132,  41],\n",
              "       [133,  61],\n",
              "       [134,  37],\n",
              "       [135,   1],\n",
              "       [136,  88],\n",
              "       [137,  34],\n",
              "       [138,  78],\n",
              "       [139,  80],\n",
              "       [140,  27],\n",
              "       [141,  10],\n",
              "       [142,  13],\n",
              "       [143,   7],\n",
              "       [144,  93],\n",
              "       [145,  40],\n",
              "       [146,  92],\n",
              "       [147,  47],\n",
              "       [148,  76],\n",
              "       [149,  42],\n",
              "       [150,  77],\n",
              "       [151,  64],\n",
              "       [152,   5],\n",
              "       [153,  87],\n",
              "       [154,  99],\n",
              "       [155,  32],\n",
              "       [156,  18],\n",
              "       [157,  57],\n",
              "       [158,  16],\n",
              "       [159,  21],\n",
              "       [160,  60],\n",
              "       [161,  12],\n",
              "       [162,  98],\n",
              "       [163,  82],\n",
              "       [164,  51],\n",
              "       [165,  30],\n",
              "       [166,  15],\n",
              "       [167,  49],\n",
              "       [168,  96],\n",
              "       [169,  58],\n",
              "       [170,  29],\n",
              "       [171,  35],\n",
              "       [172,  25],\n",
              "       [173,  97],\n",
              "       [174,  31],\n",
              "       [175,   6],\n",
              "       [176,  48],\n",
              "       [177,  50],\n",
              "       [178,  38],\n",
              "       [179,  20],\n",
              "       [180,  39],\n",
              "       [181,  24],\n",
              "       [182,   0],\n",
              "       [183,  79],\n",
              "       [184,  14],\n",
              "       [185,  17],\n",
              "       [186,  86],\n",
              "       [187,  53],\n",
              "       [188,  69],\n",
              "       [189,  84],\n",
              "       [190,  23],\n",
              "       [191,  83],\n",
              "       [192,  46],\n",
              "       [193,  44],\n",
              "       [194,  94],\n",
              "       [195,  91],\n",
              "       [196,  68],\n",
              "       [197,  73],\n",
              "       [198,  62],\n",
              "       [199,   9]])"
            ]
          },
          "metadata": {
            "tags": []
          },
          "execution_count": 12
        }
      ]
    }
  ]
}