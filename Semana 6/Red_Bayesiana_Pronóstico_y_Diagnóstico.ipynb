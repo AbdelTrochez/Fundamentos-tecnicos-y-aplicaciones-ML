{
  "nbformat": 4,
  "nbformat_minor": 0,
  "metadata": {
    "hide_input": false,
    "kernelspec": {
      "display_name": "Python 3",
      "language": "python",
      "name": "python3"
    },
    "language_info": {
      "codemirror_mode": {
        "name": "ipython",
        "version": 3
      },
      "file_extension": ".py",
      "mimetype": "text/x-python",
      "name": "python",
      "nbconvert_exporter": "python",
      "pygments_lexer": "ipython3",
      "version": "3.7.8"
    },
    "colab": {
      "name": " Red Bayesiana Pronóstico y Diagnóstico.ipynb",
      "provenance": [],
      "toc_visible": true,
      "include_colab_link": true
    }
  },
  "cells": [
    {
      "cell_type": "markdown",
      "metadata": {
        "id": "view-in-github",
        "colab_type": "text"
      },
      "source": [
        "<a href=\"https://colab.research.google.com/github/AnIsAsPe/Fundamentos-tecnicos-y-aplicaciones-ML/blob/main/Semana%206/Red_Bayesiana_Pron%C3%B3stico_y_Diagn%C3%B3stico.ipynb\" target=\"_parent\"><img src=\"https://colab.research.google.com/assets/colab-badge.svg\" alt=\"Open In Colab\"/></a>"
      ]
    },
    {
      "cell_type": "code",
      "metadata": {
        "colab": {
          "base_uri": "https://localhost:8080/"
        },
        "id": "MR9caRaiUMcJ",
        "outputId": "389ee89a-c24d-4d9c-fae0-7d3beeba4400"
      },
      "source": [
        "!pip install pyagrum  # permite utilicar biblioteca C++ aGrUM"
      ],
      "execution_count": null,
      "outputs": [
        {
          "output_type": "stream",
          "text": [
            "Collecting pyagrum\n",
            "\u001b[?25l  Downloading https://files.pythonhosted.org/packages/3d/bd/7d013a58e68e49834a23acf4d8bf921774568f7b2ee1cd712fded5562257/pyAgrum-0.19.0-cp36-cp36m-manylinux1_x86_64.whl (4.9MB)\n",
            "\u001b[K     |████████████████████████████████| 4.9MB 8.7MB/s \n",
            "\u001b[?25hRequirement already satisfied: six in /usr/local/lib/python3.6/dist-packages (from pyagrum) (1.15.0)\n",
            "Collecting configparser\n",
            "  Downloading https://files.pythonhosted.org/packages/08/b2/ef713e0e67f6e7ec7d59aea3ee78d05b39c15930057e724cc6d362a8c3bb/configparser-5.0.1-py3-none-any.whl\n",
            "Requirement already satisfied: numpy>=1.8.1 in /usr/local/lib/python3.6/dist-packages (from pyagrum) (1.19.5)\n",
            "Installing collected packages: configparser, pyagrum\n",
            "Successfully installed configparser-5.0.1 pyagrum-0.19.0\n"
          ],
          "name": "stdout"
        }
      ]
    },
    {
      "cell_type": "code",
      "metadata": {
        "ExecuteTime": {
          "end_time": "2019-02-25T17:34:18.167041Z",
          "start_time": "2019-02-25T17:34:17.837556Z"
        },
        "id": "w3U8oTbmUEEC"
      },
      "source": [
        "import pyAgrum as gum\n",
        "import pyAgrum.lib.notebook as gnb\n",
        "import matplotlib.pyplot as plt"
      ],
      "execution_count": null,
      "outputs": []
    },
    {
      "cell_type": "code",
      "metadata": {
        "colab": {
          "base_uri": "https://localhost:8080/",
          "height": 368
        },
        "id": "maF9MDisH7Ci",
        "outputId": "16fcccea-ba84-407d-b435-8005d8f81104"
      },
      "source": [
        "bn_diag = gum.BayesNet(\"Diagnóstico_estornudo\")\r\n",
        "bn = gum.fastBN(\"Resfriado->Estornudo<-Alergia<-Gato<-Arañazos;Polvo->Alergia\")\r\n",
        "bn"
      ],
      "execution_count": null,
      "outputs": [
        {
          "output_type": "execute_result",
          "data": {
            "text/html": [
              "<svg height=\"260pt\" viewBox=\"0.00 0.00 229.29 260.00\" width=\"229pt\" xmlns=\"http://www.w3.org/2000/svg\" xmlns:xlink=\"http://www.w3.org/1999/xlink\">\n",
              "<g class=\"graph\" id=\"graph0\" transform=\"scale(1 1) rotate(0) translate(4 256)\">\n",
              "<title>G</title>\n",
              "<!-- Resfriado -->\n",
              "<g class=\"node\" id=\"node1\">\n",
              "<title>Resfriado</title>\n",
              "<g id=\"a_node1\"><a xlink:title=\"(0) Resfriado\">\n",
              "<ellipse cx=\"46.1459\" cy=\"-90\" fill=\"#404040\" rx=\"46.2923\" ry=\"18\" stroke=\"#000000\"/>\n",
              "<text fill=\"#ffffff\" font-family=\"Times,serif\" font-size=\"14.00\" text-anchor=\"middle\" x=\"46.1459\" y=\"-86.3\">Resfriado</text>\n",
              "</a>\n",
              "</g>\n",
              "</g>\n",
              "<!-- Estornudo -->\n",
              "<g class=\"node\" id=\"node2\">\n",
              "<title>Estornudo</title>\n",
              "<g id=\"a_node2\"><a xlink:title=\"(1) Estornudo\">\n",
              "<ellipse cx=\"97.1459\" cy=\"-18\" fill=\"#404040\" rx=\"50.0912\" ry=\"18\" stroke=\"#000000\"/>\n",
              "<text fill=\"#ffffff\" font-family=\"Times,serif\" font-size=\"14.00\" text-anchor=\"middle\" x=\"97.1459\" y=\"-14.3\">Estornudo</text>\n",
              "</a>\n",
              "</g>\n",
              "</g>\n",
              "<!-- Resfriado&#45;&gt;Estornudo -->\n",
              "<g class=\"edge\" id=\"edge1\">\n",
              "<title>Resfriado-&gt;Estornudo</title>\n",
              "<g id=\"a_edge1\"><a xlink:title=\"(0, 1) : \">\n",
              "<path d=\"M58.4916,-72.5708C64.5856,-63.9675 72.0598,-53.4156 78.8064,-43.8911\" fill=\"none\" stroke=\"#4a4a4a\"/>\n",
              "<polygon fill=\"#4a4a4a\" points=\"81.813,-45.7016 84.7372,-35.5182 76.1008,-41.6554 81.813,-45.7016\" stroke=\"#4a4a4a\"/>\n",
              "</a>\n",
              "</g>\n",
              "</g>\n",
              "<!-- Alergia -->\n",
              "<g class=\"node\" id=\"node3\">\n",
              "<title>Alergia</title>\n",
              "<g id=\"a_node3\"><a xlink:title=\"(2) Alergia\">\n",
              "<ellipse cx=\"148.1459\" cy=\"-90\" fill=\"#404040\" rx=\"38.1938\" ry=\"18\" stroke=\"#000000\"/>\n",
              "<text fill=\"#ffffff\" font-family=\"Times,serif\" font-size=\"14.00\" text-anchor=\"middle\" x=\"148.1459\" y=\"-86.3\">Alergia</text>\n",
              "</a>\n",
              "</g>\n",
              "</g>\n",
              "<!-- Alergia&#45;&gt;Estornudo -->\n",
              "<g class=\"edge\" id=\"edge3\">\n",
              "<title>Alergia-&gt;Estornudo</title>\n",
              "<g id=\"a_edge3\"><a xlink:title=\"(2, 1) : \">\n",
              "<path d=\"M135.8002,-72.5708C129.7062,-63.9675 122.232,-53.4156 115.4854,-43.8911\" fill=\"none\" stroke=\"#4a4a4a\"/>\n",
              "<polygon fill=\"#4a4a4a\" points=\"118.191,-41.6554 109.5547,-35.5182 112.4788,-45.7016 118.191,-41.6554\" stroke=\"#4a4a4a\"/>\n",
              "</a>\n",
              "</g>\n",
              "</g>\n",
              "<!-- Gato -->\n",
              "<g class=\"node\" id=\"node4\">\n",
              "<title>Gato</title>\n",
              "<g id=\"a_node4\"><a xlink:title=\"(3) Gato\">\n",
              "<ellipse cx=\"108.1459\" cy=\"-162\" fill=\"#404040\" rx=\"28.6953\" ry=\"18\" stroke=\"#000000\"/>\n",
              "<text fill=\"#ffffff\" font-family=\"Times,serif\" font-size=\"14.00\" text-anchor=\"middle\" x=\"108.1459\" y=\"-158.3\">Gato</text>\n",
              "</a>\n",
              "</g>\n",
              "</g>\n",
              "<!-- Gato&#45;&gt;Alergia -->\n",
              "<g class=\"edge\" id=\"edge2\">\n",
              "<title>Gato-&gt;Alergia</title>\n",
              "<g id=\"a_edge2\"><a xlink:title=\"(3, 2) : \">\n",
              "<path d=\"M117.6253,-144.937C122.3874,-136.3654 128.2618,-125.7914 133.5812,-116.2165\" fill=\"none\" stroke=\"#4a4a4a\"/>\n",
              "<polygon fill=\"#4a4a4a\" points=\"136.6597,-117.882 138.4566,-107.4407 130.5406,-114.4825 136.6597,-117.882\" stroke=\"#4a4a4a\"/>\n",
              "</a>\n",
              "</g>\n",
              "</g>\n",
              "<!-- Arañazos -->\n",
              "<g class=\"node\" id=\"node5\">\n",
              "<title>Arañazos</title>\n",
              "<g id=\"a_node5\"><a xlink:title=\"(4) Arañazos\">\n",
              "<ellipse cx=\"108.1459\" cy=\"-234\" fill=\"#404040\" rx=\"45.4919\" ry=\"18\" stroke=\"#000000\"/>\n",
              "<text fill=\"#ffffff\" font-family=\"Times,serif\" font-size=\"14.00\" text-anchor=\"middle\" x=\"108.1459\" y=\"-230.3\">Arañazos</text>\n",
              "</a>\n",
              "</g>\n",
              "</g>\n",
              "<!-- Arañazos&#45;&gt;Gato -->\n",
              "<g class=\"edge\" id=\"edge4\">\n",
              "<title>Arañazos-&gt;Gato</title>\n",
              "<g id=\"a_edge4\"><a xlink:title=\"(4, 3) : \">\n",
              "<path d=\"M108.1459,-215.8314C108.1459,-208.131 108.1459,-198.9743 108.1459,-190.4166\" fill=\"none\" stroke=\"#4a4a4a\"/>\n",
              "<polygon fill=\"#4a4a4a\" points=\"111.646,-190.4132 108.1459,-180.4133 104.646,-190.4133 111.646,-190.4132\" stroke=\"#4a4a4a\"/>\n",
              "</a>\n",
              "</g>\n",
              "</g>\n",
              "<!-- Polvo -->\n",
              "<g class=\"node\" id=\"node6\">\n",
              "<title>Polvo</title>\n",
              "<g id=\"a_node6\"><a xlink:title=\"(5) Polvo\">\n",
              "<ellipse cx=\"188.1459\" cy=\"-162\" fill=\"#404040\" rx=\"33.2948\" ry=\"18\" stroke=\"#000000\"/>\n",
              "<text fill=\"#ffffff\" font-family=\"Times,serif\" font-size=\"14.00\" text-anchor=\"middle\" x=\"188.1459\" y=\"-158.3\">Polvo</text>\n",
              "</a>\n",
              "</g>\n",
              "</g>\n",
              "<!-- Polvo&#45;&gt;Alergia -->\n",
              "<g class=\"edge\" id=\"edge5\">\n",
              "<title>Polvo-&gt;Alergia</title>\n",
              "<g id=\"a_edge5\"><a xlink:title=\"(5, 2) : \">\n",
              "<path d=\"M178.463,-144.5708C173.781,-136.1431 168.0601,-125.8455 162.8545,-116.4755\" fill=\"none\" stroke=\"#4a4a4a\"/>\n",
              "<polygon fill=\"#4a4a4a\" points=\"165.7943,-114.5601 157.8783,-107.5182 159.6752,-117.9596 165.7943,-114.5601\" stroke=\"#4a4a4a\"/>\n",
              "</a>\n",
              "</g>\n",
              "</g>\n",
              "</g>\n",
              "</svg>"
            ],
            "text/plain": [
              "(gum::BayesNet<double>@0x3194a00) BN{nodes: 6, arcs: 5, domainSize: 64, dim: 26}"
            ]
          },
          "metadata": {
            "tags": []
          },
          "execution_count": 5
        }
      ]
    },
    {
      "cell_type": "code",
      "metadata": {
        "colab": {
          "base_uri": "https://localhost:8080/",
          "height": 464
        },
        "id": "NLFYKLqVKLQE",
        "outputId": "0810b2ae-e55c-491a-c626-03d61dff32a0"
      },
      "source": [
        "bn_pron = gum.BayesNet(\"Pronostico_Crisis Asma\")\r\n",
        "bn = gum.fastBN(\"Ejercicio->Crisis asma<-Contaminacion<-Trafico<-Accidente<-Clima;Hora->Trafico\")\r\n",
        "bn\r\n"
      ],
      "execution_count": null,
      "outputs": [
        {
          "output_type": "execute_result",
          "data": {
            "text/html": [
              "<svg height=\"332pt\" viewBox=\"0.00 0.00 257.79 332.00\" width=\"258pt\" xmlns=\"http://www.w3.org/2000/svg\" xmlns:xlink=\"http://www.w3.org/1999/xlink\">\n",
              "<g class=\"graph\" id=\"graph0\" transform=\"scale(1 1) rotate(0) translate(4 328)\">\n",
              "<title>G</title>\n",
              "<!-- Ejercicio -->\n",
              "<g class=\"node\" id=\"node1\">\n",
              "<title>Ejercicio</title>\n",
              "<g id=\"a_node1\"><a xlink:title=\"(0) Ejercicio\">\n",
              "<ellipse cx=\"43.5461\" cy=\"-90\" fill=\"#404040\" rx=\"43.5923\" ry=\"18\" stroke=\"#000000\"/>\n",
              "<text fill=\"#ffffff\" font-family=\"Times,serif\" font-size=\"14.00\" text-anchor=\"middle\" x=\"43.5461\" y=\"-86.3\">Ejercicio</text>\n",
              "</a>\n",
              "</g>\n",
              "</g>\n",
              "<!-- Crisis asma -->\n",
              "<g class=\"node\" id=\"node2\">\n",
              "<title>Crisis asma</title>\n",
              "<g id=\"a_node2\"><a xlink:title=\"(1) Crisis asma\">\n",
              "<ellipse cx=\"107.5461\" cy=\"-18\" fill=\"#404040\" rx=\"52.7911\" ry=\"18\" stroke=\"#000000\"/>\n",
              "<text fill=\"#ffffff\" font-family=\"Times,serif\" font-size=\"14.00\" text-anchor=\"middle\" x=\"107.5461\" y=\"-14.3\">Crisis asma</text>\n",
              "</a>\n",
              "</g>\n",
              "</g>\n",
              "<!-- Ejercicio&#45;&gt;Crisis asma -->\n",
              "<g class=\"edge\" id=\"edge1\">\n",
              "<title>Ejercicio-&gt;Crisis asma</title>\n",
              "<g id=\"a_edge1\"><a xlink:title=\"(0, 1) : \">\n",
              "<path d=\"M58.7132,-72.937C66.6467,-64.0119 76.5098,-52.9159 85.2907,-43.0373\" fill=\"none\" stroke=\"#4a4a4a\"/>\n",
              "<polygon fill=\"#4a4a4a\" points=\"88.0156,-45.2401 92.0433,-35.4407 82.7837,-40.5895 88.0156,-45.2401\" stroke=\"#4a4a4a\"/>\n",
              "</a>\n",
              "</g>\n",
              "</g>\n",
              "<!-- Contaminacion -->\n",
              "<g class=\"node\" id=\"node3\">\n",
              "<title>Contaminacion</title>\n",
              "<g id=\"a_node3\"><a xlink:title=\"(2) Contaminacion\">\n",
              "<ellipse cx=\"172.5461\" cy=\"-90\" fill=\"#404040\" rx=\"67.6881\" ry=\"18\" stroke=\"#000000\"/>\n",
              "<text fill=\"#ffffff\" font-family=\"Times,serif\" font-size=\"14.00\" text-anchor=\"middle\" x=\"172.5461\" y=\"-86.3\">Contaminacion</text>\n",
              "</a>\n",
              "</g>\n",
              "</g>\n",
              "<!-- Contaminacion&#45;&gt;Crisis asma -->\n",
              "<g class=\"edge\" id=\"edge4\">\n",
              "<title>Contaminacion-&gt;Crisis asma</title>\n",
              "<g id=\"a_edge4\"><a xlink:title=\"(2, 1) : \">\n",
              "<path d=\"M156.4787,-72.2022C148.4693,-63.3303 138.653,-52.4569 129.9203,-42.7837\" fill=\"none\" stroke=\"#4a4a4a\"/>\n",
              "<polygon fill=\"#4a4a4a\" points=\"132.5035,-40.4219 123.2044,-35.3446 127.3076,-45.1127 132.5035,-40.4219\" stroke=\"#4a4a4a\"/>\n",
              "</a>\n",
              "</g>\n",
              "</g>\n",
              "<!-- Trafico -->\n",
              "<g class=\"node\" id=\"node4\">\n",
              "<title>Trafico</title>\n",
              "<g id=\"a_node4\"><a xlink:title=\"(3) Trafico\">\n",
              "<ellipse cx=\"172.5461\" cy=\"-162\" fill=\"#404040\" rx=\"37.0935\" ry=\"18\" stroke=\"#000000\"/>\n",
              "<text fill=\"#ffffff\" font-family=\"Times,serif\" font-size=\"14.00\" text-anchor=\"middle\" x=\"172.5461\" y=\"-158.3\">Trafico</text>\n",
              "</a>\n",
              "</g>\n",
              "</g>\n",
              "<!-- Trafico&#45;&gt;Contaminacion -->\n",
              "<g class=\"edge\" id=\"edge2\">\n",
              "<title>Trafico-&gt;Contaminacion</title>\n",
              "<g id=\"a_edge2\"><a xlink:title=\"(3, 2) : \">\n",
              "<path d=\"M172.5461,-143.8314C172.5461,-136.131 172.5461,-126.9743 172.5461,-118.4166\" fill=\"none\" stroke=\"#4a4a4a\"/>\n",
              "<polygon fill=\"#4a4a4a\" points=\"176.0462,-118.4132 172.5461,-108.4133 169.0462,-118.4133 176.0462,-118.4132\" stroke=\"#4a4a4a\"/>\n",
              "</a>\n",
              "</g>\n",
              "</g>\n",
              "<!-- Accidente -->\n",
              "<g class=\"node\" id=\"node5\">\n",
              "<title>Accidente</title>\n",
              "<g id=\"a_node5\"><a xlink:title=\"(4) Accidente\">\n",
              "<ellipse cx=\"125.5461\" cy=\"-234\" fill=\"#404040\" rx=\"48.1917\" ry=\"18\" stroke=\"#000000\"/>\n",
              "<text fill=\"#ffffff\" font-family=\"Times,serif\" font-size=\"14.00\" text-anchor=\"middle\" x=\"125.5461\" y=\"-230.3\">Accidente</text>\n",
              "</a>\n",
              "</g>\n",
              "</g>\n",
              "<!-- Accidente&#45;&gt;Trafico -->\n",
              "<g class=\"edge\" id=\"edge6\">\n",
              "<title>Accidente-&gt;Trafico</title>\n",
              "<g id=\"a_edge6\"><a xlink:title=\"(4, 3) : \">\n",
              "<path d=\"M137.1641,-216.2022C142.7262,-207.6817 149.4933,-197.315 155.6141,-187.9385\" fill=\"none\" stroke=\"#4a4a4a\"/>\n",
              "<polygon fill=\"#4a4a4a\" points=\"158.6885,-189.6316 161.224,-179.3446 152.8269,-185.8052 158.6885,-189.6316\" stroke=\"#4a4a4a\"/>\n",
              "</a>\n",
              "</g>\n",
              "</g>\n",
              "<!-- Clima -->\n",
              "<g class=\"node\" id=\"node6\">\n",
              "<title>Clima</title>\n",
              "<g id=\"a_node6\"><a xlink:title=\"(5) Clima\">\n",
              "<ellipse cx=\"125.5461\" cy=\"-306\" fill=\"#404040\" rx=\"33.2948\" ry=\"18\" stroke=\"#000000\"/>\n",
              "<text fill=\"#ffffff\" font-family=\"Times,serif\" font-size=\"14.00\" text-anchor=\"middle\" x=\"125.5461\" y=\"-302.3\">Clima</text>\n",
              "</a>\n",
              "</g>\n",
              "</g>\n",
              "<!-- Clima&#45;&gt;Accidente -->\n",
              "<g class=\"edge\" id=\"edge3\">\n",
              "<title>Clima-&gt;Accidente</title>\n",
              "<g id=\"a_edge3\"><a xlink:title=\"(5, 4) : \">\n",
              "<path d=\"M125.5461,-287.8314C125.5461,-280.131 125.5461,-270.9743 125.5461,-262.4166\" fill=\"none\" stroke=\"#4a4a4a\"/>\n",
              "<polygon fill=\"#4a4a4a\" points=\"129.0462,-262.4132 125.5461,-252.4133 122.0462,-262.4133 129.0462,-262.4132\" stroke=\"#4a4a4a\"/>\n",
              "</a>\n",
              "</g>\n",
              "</g>\n",
              "<!-- Hora -->\n",
              "<g class=\"node\" id=\"node7\">\n",
              "<title>Hora</title>\n",
              "<g id=\"a_node7\"><a xlink:title=\"(6) Hora\">\n",
              "<ellipse cx=\"220.5461\" cy=\"-234\" fill=\"#404040\" rx=\"29.4969\" ry=\"18\" stroke=\"#000000\"/>\n",
              "<text fill=\"#ffffff\" font-family=\"Times,serif\" font-size=\"14.00\" text-anchor=\"middle\" x=\"220.5461\" y=\"-230.3\">Hora</text>\n",
              "</a>\n",
              "</g>\n",
              "</g>\n",
              "<!-- Hora&#45;&gt;Trafico -->\n",
              "<g class=\"edge\" id=\"edge5\">\n",
              "<title>Hora-&gt;Trafico</title>\n",
              "<g id=\"a_edge5\"><a xlink:title=\"(6, 3) : \">\n",
              "<path d=\"M209.4133,-217.3008C203.6459,-208.6496 196.471,-197.8873 189.9877,-188.1623\" fill=\"none\" stroke=\"#4a4a4a\"/>\n",
              "<polygon fill=\"#4a4a4a\" points=\"192.7475,-185.9922 184.2883,-179.6132 186.9231,-189.8752 192.7475,-185.9922\" stroke=\"#4a4a4a\"/>\n",
              "</a>\n",
              "</g>\n",
              "</g>\n",
              "</g>\n",
              "</svg>"
            ],
            "text/plain": [
              "(gum::BayesNet<double>@0x3195600) BN{nodes: 7, arcs: 6, domainSize: 128, dim: 30}"
            ]
          },
          "metadata": {
            "tags": []
          },
          "execution_count": 6
        }
      ]
    }
  ]
}