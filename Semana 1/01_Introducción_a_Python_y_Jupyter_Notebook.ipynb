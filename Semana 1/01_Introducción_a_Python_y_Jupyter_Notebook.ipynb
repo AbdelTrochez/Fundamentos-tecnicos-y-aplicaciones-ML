{
  "nbformat": 4,
  "nbformat_minor": 0,
  "metadata": {
    "kernelspec": {
      "display_name": "Python 3",
      "language": "python",
      "name": "python3"
    },
    "language_info": {
      "codemirror_mode": {
        "name": "ipython",
        "version": 3
      },
      "file_extension": ".py",
      "mimetype": "text/x-python",
      "name": "python",
      "nbconvert_exporter": "python",
      "pygments_lexer": "ipython3",
      "version": "3.8.2"
    },
    "colab": {
      "name": "01 Introducción a Python y Jupyter Notebook.ipynb",
      "provenance": [],
      "toc_visible": true,
      "include_colab_link": true
    }
  },
  "cells": [
    {
      "cell_type": "markdown",
      "metadata": {
        "id": "view-in-github",
        "colab_type": "text"
      },
      "source": [
        "<a href=\"https://colab.research.google.com/github/AnIsAsPe/Fundamentos-tecnicos-y-aplicaciones-ML/blob/main/01_Introducci%C3%B3n_a_Python_y_Jupyter_Notebook.ipynb\" target=\"_parent\"><img src=\"https://colab.research.google.com/assets/colab-badge.svg\" alt=\"Open In Colab\"/></a>"
      ]
    },
    {
      "cell_type": "markdown",
      "metadata": {
        "id": "vFiey9hmImuW"
      },
      "source": [
        "## Jupyter Notebook\n",
        "\n",
        "__Jupyter Notebook__, es un ambiente de trabajo que busca unificar las herramientas de documentación y ejecución, permitiendo escribir código, visualizar resultados  e incluir comentarios de manera interactiva. \n",
        "\n",
        "Otra ventaja es que permite su exportación  a archivos html, pdf, markdown, entre otros \n",
        "\n",
        "Su nombre proviene de los lenguajes de programación que soporta: Julia, Python y R\n"
      ]
    },
    {
      "cell_type": "markdown",
      "metadata": {
        "id": "aanzUumhImuW"
      },
      "source": [
        "Puedes correr una línea de código oprimiendo el botón Run del menú o bien con la combinación de teclas Ctrl+Enter o Shift+Enter"
      ]
    },
    {
      "cell_type": "markdown",
      "metadata": {
        "id": "shIBklEovQo0"
      },
      "source": [
        "### Hola mundo"
      ]
    },
    {
      "cell_type": "code",
      "metadata": {
        "id": "dNp1BiJ4ImuW"
      },
      "source": [
        "print(\"Hola Mundo\")"
      ],
      "execution_count": null,
      "outputs": []
    },
    {
      "cell_type": "markdown",
      "metadata": {
        "id": "q-tf-RmXImuW"
      },
      "source": [
        "\n",
        "__Fácil acceso a la documentación__\n",
        "* ?          Introducción y vistazo a Jupyter Notebook (IPython)\n",
        "* help()     Documentación de alguna librería, modulo, objeto\n",
        "* object?    Detalles acerca de un objeto, usar objeto?? para más detalles"
      ]
    },
    {
      "cell_type": "markdown",
      "metadata": {
        "id": "fkOCnIl5ImuW"
      },
      "source": [
        "## Variables en Python\n",
        "\n",
        "Los nombres pueden contener los cualquier letra de la __A__ a la __Z__, en mayúsculas o minúsculas, números del __0__ al __9__ y algunos caracteres especiales como _____ o __-__.\n",
        "\n",
        "Hay además 33 palabras clave que Python tiene reservadas y que no pueden ser usados como nombres de variables\n"
      ]
    },
    {
      "cell_type": "code",
      "metadata": {
        "colab": {
          "base_uri": "https://localhost:8080/"
        },
        "id": "T0qm9FHPzQ3e",
        "outputId": "cd6a48e0-463f-4a6d-d2bc-20cc86055165"
      },
      "source": [
        "import keyword\n",
        "keyword.kwlist"
      ],
      "execution_count": null,
      "outputs": [
        {
          "output_type": "execute_result",
          "data": {
            "text/plain": [
              "['False',\n",
              " 'None',\n",
              " 'True',\n",
              " 'and',\n",
              " 'as',\n",
              " 'assert',\n",
              " 'break',\n",
              " 'class',\n",
              " 'continue',\n",
              " 'def',\n",
              " 'del',\n",
              " 'elif',\n",
              " 'else',\n",
              " 'except',\n",
              " 'finally',\n",
              " 'for',\n",
              " 'from',\n",
              " 'global',\n",
              " 'if',\n",
              " 'import',\n",
              " 'in',\n",
              " 'is',\n",
              " 'lambda',\n",
              " 'nonlocal',\n",
              " 'not',\n",
              " 'or',\n",
              " 'pass',\n",
              " 'raise',\n",
              " 'return',\n",
              " 'try',\n",
              " 'while',\n",
              " 'with',\n",
              " 'yield']"
            ]
          },
          "metadata": {
            "tags": []
          },
          "execution_count": 15
        }
      ]
    },
    {
      "cell_type": "code",
      "metadata": {
        "colab": {
          "base_uri": "https://localhost:8080/"
        },
        "id": "ABAIsTCy0IPE",
        "outputId": "298826b5-3b1f-4795-987a-546d8f42d6cb"
      },
      "source": [
        "len(keyword.kwlist)"
      ],
      "execution_count": null,
      "outputs": [
        {
          "output_type": "execute_result",
          "data": {
            "text/plain": [
              "33"
            ]
          },
          "metadata": {
            "tags": []
          },
          "execution_count": 16
        }
      ]
    },
    {
      "cell_type": "markdown",
      "metadata": {
        "id": "5FL-KzXRImuW"
      },
      "source": [
        "## Tipos fundamentales de variables\n",
        "\n",
        "* int:     enteros   (1, 2, 3 ...)\n",
        "* float:   flotantes (1.0, 1.567, ...)\n",
        "* bool:    boleanos  (True, False)\n",
        "* complex: complejos\n",
        "\n",
        "El operador para asignar variables es el signo __=__"
      ]
    },
    {
      "cell_type": "code",
      "metadata": {
        "id": "WsthBTaTImuW"
      },
      "source": [
        "# enteros\n",
        "x = 1 \n",
        "type(x)"
      ],
      "execution_count": null,
      "outputs": []
    },
    {
      "cell_type": "code",
      "metadata": {
        "id": "piGm8UanImuW"
      },
      "source": [
        "### Conversión de Tipo\n",
        "x = float(x)\n",
        "print(x, type(x))"
      ],
      "execution_count": null,
      "outputs": []
    },
    {
      "cell_type": "markdown",
      "metadata": {
        "id": "p-P10wLiImuX"
      },
      "source": [
        "## Operadores\n",
        "\n",
        "\n",
        "* __Aritméticos:__       +  suma, -  resta, *  multiplicación, /  división, ** potencia, // división entera\n",
        "\n",
        "* __Boleanos:__          and, or, not\n",
        "\n",
        "* __De comparación:__    <   menor que, >   mayor que, <=  menor o igual que, >=  mayor o igual que, ==  igual que, !=  no es igual que\n",
        "\n",
        "\n"
      ]
    },
    {
      "cell_type": "code",
      "metadata": {
        "id": "nVSnJwwtImuX"
      },
      "source": [
        "1 + 2, 1 - 2, 1 * 3, 1 / 2, 2//3, 2**2"
      ],
      "execution_count": null,
      "outputs": []
    },
    {
      "cell_type": "code",
      "metadata": {
        "id": "aFJqDT6AImuX"
      },
      "source": [
        "True and False, not False, True or False"
      ],
      "execution_count": null,
      "outputs": []
    },
    {
      "cell_type": "code",
      "metadata": {
        "id": "2RV8XbJEImuX"
      },
      "source": [
        "3<2, 3>3, 3<=3, 3>=3, 4==4  "
      ],
      "execution_count": null,
      "outputs": []
    },
    {
      "cell_type": "markdown",
      "metadata": {
        "id": "_t5KjXuvImuX"
      },
      "source": [
        "## Cadenas (str)\n",
        "El procesamiento de textos en Python es muy poderos. Veamos algunos ejemplos"
      ]
    },
    {
      "cell_type": "code",
      "metadata": {
        "id": "yXxsfnSfImuX"
      },
      "source": [
        "s='Hola mundo'\n",
        "type(s)"
      ],
      "execution_count": null,
      "outputs": []
    },
    {
      "cell_type": "code",
      "metadata": {
        "id": "l-r6L4LbImuX"
      },
      "source": [
        "print(len(s))\n",
        "print(s.upper())\n",
        "print(s.replace('mundo','clase'))"
      ],
      "execution_count": null,
      "outputs": []
    },
    {
      "cell_type": "code",
      "metadata": {
        "id": "bwbYrtbeImuX"
      },
      "source": [
        "s[0], s[1], s[2], s[3]"
      ],
      "execution_count": null,
      "outputs": []
    },
    {
      "cell_type": "code",
      "metadata": {
        "id": "84KzIY0wImuX"
      },
      "source": [
        "s[0:5]"
      ],
      "execution_count": null,
      "outputs": []
    },
    {
      "cell_type": "code",
      "metadata": {
        "id": "AgakmSuqImuX"
      },
      "source": [
        "s[:5]"
      ],
      "execution_count": null,
      "outputs": []
    },
    {
      "cell_type": "code",
      "metadata": {
        "id": "49j8PDcQImuX"
      },
      "source": [
        "s[-3:]"
      ],
      "execution_count": null,
      "outputs": []
    },
    {
      "cell_type": "code",
      "metadata": {
        "id": "Vpn49ln9ImuX"
      },
      "source": [
        "s[:]"
      ],
      "execution_count": null,
      "outputs": []
    },
    {
      "cell_type": "markdown",
      "metadata": {
        "id": "RebFS1ijImuX"
      },
      "source": [
        "## Listas\n",
        "Las listas son muy similares alas cadenas excepto que cada elemento puede ser de un tipo diferente.\n",
        "\n",
        "La sintaxis para crear listas en Python es [ ..., ..., ...]"
      ]
    },
    {
      "cell_type": "code",
      "metadata": {
        "id": "bBjlp4bpImuX"
      },
      "source": [
        "l = [ 1, 'hola', 3.4, 'sapo']\n",
        "type(l)"
      ],
      "execution_count": null,
      "outputs": []
    },
    {
      "cell_type": "code",
      "metadata": {
        "id": "ZM4cE4_7ImuX"
      },
      "source": [
        "print(l)\n",
        "print(l[1])\n",
        "print(l[-2])\n",
        "print(l[1:3])"
      ],
      "execution_count": null,
      "outputs": []
    },
    {
      "cell_type": "code",
      "metadata": {
        "id": "g_UaBVNyImuX"
      },
      "source": [
        "lista_anidada = [1, [2, [3, [4, [5]]]]]\n",
        "\n",
        "lista_anidada"
      ],
      "execution_count": null,
      "outputs": []
    },
    {
      "cell_type": "code",
      "metadata": {
        "id": "yvWfSSj_-KTD",
        "colab": {
          "base_uri": "https://localhost:8080/"
        },
        "outputId": "9508b715-224f-46d1-ff91-1e9c8b17dbec"
      },
      "source": [
        "l2= range(5,10)\n",
        "l2"
      ],
      "execution_count": null,
      "outputs": [
        {
          "output_type": "execute_result",
          "data": {
            "text/plain": [
              "range(5, 10)"
            ]
          },
          "metadata": {
            "tags": []
          },
          "execution_count": 28
        }
      ]
    },
    {
      "cell_type": "code",
      "metadata": {
        "id": "tGIOGnGl-Rb1",
        "colab": {
          "base_uri": "https://localhost:8080/"
        },
        "outputId": "147d4608-2972-4534-ff07-b8d5270d19bd"
      },
      "source": [
        "for i in l2:\n",
        "  print(i)"
      ],
      "execution_count": null,
      "outputs": [
        {
          "output_type": "stream",
          "text": [
            "5\n",
            "6\n",
            "7\n",
            "8\n",
            "9\n"
          ],
          "name": "stdout"
        }
      ]
    },
    {
      "cell_type": "markdown",
      "metadata": {
        "id": "Lzc8CYjEImuX"
      },
      "source": [
        "Las listas juegan un rol muy importante en Python y son, por ejemplo, usadas en bucles y otras estructuras de control de flujo"
      ]
    },
    {
      "cell_type": "markdown",
      "metadata": {
        "id": "v2rKsAR6ImuX"
      },
      "source": [
        "### Agregando  y modificando elementos de listas"
      ]
    },
    {
      "cell_type": "code",
      "metadata": {
        "id": "sBD-uedeImuX"
      },
      "source": [
        "# crea una nueva lista vacía\n",
        "l = []\n",
        "\n",
        "# agrega un elemento a la lista, usando `append`\n",
        "l.append(\"1\")\n",
        "l.append(\"2\")\n",
        "l.append(\"3\")\n",
        "\n",
        "print(l)"
      ],
      "execution_count": null,
      "outputs": []
    },
    {
      "cell_type": "code",
      "metadata": {
        "id": "_U6k7j9SImuX"
      },
      "source": [
        "# modifica un elemento de la lista\n",
        "l[0]=5\n",
        "l"
      ],
      "execution_count": null,
      "outputs": []
    },
    {
      "cell_type": "markdown",
      "metadata": {
        "id": "W0dxAopEImuX"
      },
      "source": [
        "## Tuplas\n",
        "\n",
        "Tuplas son similares a las listas, excepto que ellas no pueden ser modificadas una vez creadas, es decir, son *inmutables*. \n",
        "\n",
        "En Python, las tuplas son creadas usando la sintaxis `(..., ..., ...)`, o incluso `..., ...`:\n"
      ]
    },
    {
      "cell_type": "code",
      "metadata": {
        "id": "eNO_u_VrImuX"
      },
      "source": [
        "punto = 10, 20\n",
        "\n",
        "print(punto, type(punto))"
      ],
      "execution_count": null,
      "outputs": []
    },
    {
      "cell_type": "markdown",
      "metadata": {
        "id": "ubZufFOdImuX"
      },
      "source": [
        "Podemos separar una tupla asignándola a una lista de variables separadas por coma:"
      ]
    },
    {
      "cell_type": "code",
      "metadata": {
        "id": "LqQ1KulUImuX"
      },
      "source": [
        "x, y = punto\n",
        "\n",
        "print(\"x =\", x)\n",
        "print(\"y =\", y)"
      ],
      "execution_count": null,
      "outputs": []
    },
    {
      "cell_type": "markdown",
      "metadata": {
        "id": "8aZeRnlT3_4Q"
      },
      "source": [
        "## Diccionarios"
      ]
    },
    {
      "cell_type": "code",
      "metadata": {
        "colab": {
          "base_uri": "https://localhost:8080/"
        },
        "id": "98UYBMDc38EK",
        "outputId": "c9b94e9a-4aeb-4905-e157-93080da62c24"
      },
      "source": [
        "miDiccionario = {\"A\": \"Árbol\", \"B\":\"Barro\", \"C\":\"Cielo\"}\n",
        "miDiccionario"
      ],
      "execution_count": 3,
      "outputs": [
        {
          "output_type": "execute_result",
          "data": {
            "text/plain": [
              "{'A': 'Árbol', 'B': 'Barro', 'C': 'Cielo'}"
            ]
          },
          "metadata": {
            "tags": []
          },
          "execution_count": 3
        }
      ]
    },
    {
      "cell_type": "code",
      "metadata": {
        "colab": {
          "base_uri": "https://localhost:8080/"
        },
        "id": "auBu8fvM4zWi",
        "outputId": "59dedb98-fb14-4c95-8f1d-12d0e98acfa3"
      },
      "source": [
        "miDiccionario.keys()"
      ],
      "execution_count": 6,
      "outputs": [
        {
          "output_type": "execute_result",
          "data": {
            "text/plain": [
              "dict_keys(['A', 'B', 'C'])"
            ]
          },
          "metadata": {
            "tags": []
          },
          "execution_count": 6
        }
      ]
    },
    {
      "cell_type": "code",
      "metadata": {
        "colab": {
          "base_uri": "https://localhost:8080/"
        },
        "id": "pQeisVFs47vh",
        "outputId": "ea6e0c4e-59f9-4478-d914-a307efad1def"
      },
      "source": [
        "miDiccionario.values()"
      ],
      "execution_count": 7,
      "outputs": [
        {
          "output_type": "execute_result",
          "data": {
            "text/plain": [
              "dict_values(['Árbol', 'Barro', 'Cielo'])"
            ]
          },
          "metadata": {
            "tags": []
          },
          "execution_count": 7
        }
      ]
    },
    {
      "cell_type": "code",
      "metadata": {
        "colab": {
          "base_uri": "https://localhost:8080/",
          "height": 35
        },
        "id": "XPMUb-QV4wJU",
        "outputId": "1d841b05-9429-4699-d837-01538d01ce96"
      },
      "source": [
        "miDiccionario[\"A\"]"
      ],
      "execution_count": 4,
      "outputs": [
        {
          "output_type": "execute_result",
          "data": {
            "application/vnd.google.colaboratory.intrinsic+json": {
              "type": "string"
            },
            "text/plain": [
              "'Árbol'"
            ]
          },
          "metadata": {
            "tags": []
          },
          "execution_count": 4
        }
      ]
    },
    {
      "cell_type": "code",
      "metadata": {
        "colab": {
          "base_uri": "https://localhost:8080/"
        },
        "id": "1r1nU8Oj5AHy",
        "outputId": "1c26c924-bb5c-4209-8f78-9bd267b1c507"
      },
      "source": [
        "miDiccionario[\"D\"]=\"Dado\"\n",
        "miDiccionario"
      ],
      "execution_count": 10,
      "outputs": [
        {
          "output_type": "execute_result",
          "data": {
            "text/plain": [
              "{'A': 'Árbol', 'B': 'Barro', 'C': 'Cielo', 'D': 'Dado'}"
            ]
          },
          "metadata": {
            "tags": []
          },
          "execution_count": 10
        }
      ]
    },
    {
      "cell_type": "markdown",
      "metadata": {
        "id": "P6eV57P-ImuX"
      },
      "source": [
        "## Ciclos usando for"
      ]
    },
    {
      "cell_type": "code",
      "metadata": {
        "id": "8MYje81NImuX"
      },
      "source": [
        "for i in l:\n",
        "    print(i) \n",
        "    "
      ],
      "execution_count": null,
      "outputs": []
    },
    {
      "cell_type": "code",
      "metadata": {
        "id": "mnS_p-LMImuX"
      },
      "source": [
        "for x in [1,2,3]:\n",
        "    print(x)"
      ],
      "execution_count": null,
      "outputs": []
    },
    {
      "cell_type": "code",
      "metadata": {
        "id": "GnU94ShUImuY"
      },
      "source": [
        "for n in range(4):\n",
        "    print(n)"
      ],
      "execution_count": null,
      "outputs": []
    },
    {
      "cell_type": "markdown",
      "metadata": {
        "id": "Qp-6Ef3tImuY"
      },
      "source": [
        "## Funciones\n",
        "\n",
        "En Python una función es definida usando la palabra clave `def`, seguida de un nombre para la función, una variable entre paréntesis `()`, y el símbolo de dos puntos `:`. El siguiente código, con un nivel adicional de indentación, es el cuerpo de la función."
      ]
    },
    {
      "cell_type": "code",
      "metadata": {
        "id": "Ki_F5q5GImuY"
      },
      "source": [
        "def cuadrado(x):\n",
        "    \"\"\"\n",
        "    Calcula el cuadrado de x.\n",
        "    \"\"\"\n",
        "    return x**2"
      ],
      "execution_count": null,
      "outputs": []
    },
    {
      "cell_type": "code",
      "metadata": {
        "id": "4YzueWqnImuY"
      },
      "source": [
        "z=3\n",
        "cuadrado(z)"
      ],
      "execution_count": null,
      "outputs": []
    },
    {
      "cell_type": "markdown",
      "metadata": {
        "id": "6wgiMvlXImuY"
      },
      "source": [
        "## Funciones sin nombre (funciones lambda)\n",
        "\n",
        "En Python podemos también crear funciones sin nombre, usando la palabra clave `lambda`:"
      ]
    },
    {
      "cell_type": "code",
      "metadata": {
        "id": "nSBnlnanImuY"
      },
      "source": [
        "f1 = lambda x: x**2\n",
        "f1(z)"
      ],
      "execution_count": null,
      "outputs": []
    },
    {
      "cell_type": "markdown",
      "metadata": {
        "id": "MAy4-S6OImuY"
      },
      "source": [
        "## Clases\n",
        "\n",
        "Las clases son una característica clave de la programación orientada al objeto. Una clase es una estructura para representar un objeto y las operaciones que pueden ser realizadas sobre el objeto. \n",
        "\n",
        "En Python una clase puede contener *atributos* (variables) y *métodos* (funciones)."
      ]
    },
    {
      "cell_type": "code",
      "metadata": {
        "id": "SkBkEiYJuHuu"
      },
      "source": [
        "import math"
      ],
      "execution_count": null,
      "outputs": []
    },
    {
      "cell_type": "code",
      "metadata": {
        "id": "JbeLyZ9Pu6JM"
      },
      "source": [
        "math?"
      ],
      "execution_count": null,
      "outputs": []
    },
    {
      "cell_type": "markdown",
      "metadata": {
        "id": "yOxyLJYjImuY"
      },
      "source": [
        "## Módulos\n",
        "\n",
        "La mayoría de la funcionalidad en Python es provista por *módulos*. \n",
        "\n",
        "Para usar un módulo en un programa Python éste debe primero ser **importado**, para lo cual se usa el comando `import`. Por ejemplo, el módulo `math`, que contiene muchas funciones matemáticas estándar, para hacer uso de sus funciones tenemos que importarlo de la siguiente forma:"
      ]
    },
    {
      "cell_type": "code",
      "metadata": {
        "id": "WoEKlAFXImuY",
        "colab": {
          "base_uri": "https://localhost:8080/"
        },
        "outputId": "46f978f3-69ef-44e9-84f4-e6c99f2bd8d4"
      },
      "source": [
        "import math\n",
        "\n",
        "x = math.cos(2*math.pi)\n",
        "\n",
        "print(x)"
      ],
      "execution_count": null,
      "outputs": [
        {
          "output_type": "stream",
          "text": [
            "1.0\n"
          ],
          "name": "stdout"
        }
      ]
    },
    {
      "cell_type": "markdown",
      "metadata": {
        "id": "5Xi9LW881QuE"
      },
      "source": [
        "Otra forma que aveces veremos es la siguiente: "
      ]
    },
    {
      "cell_type": "code",
      "metadata": {
        "id": "oLLQuVlEImuY"
      },
      "source": [
        "import math as m  #bautizar el modulo con un nombre más corto\n",
        "\n",
        "x = m.cos(2*m.pi)\n",
        "\n",
        "print(x)"
      ],
      "execution_count": null,
      "outputs": []
    },
    {
      "cell_type": "code",
      "metadata": {
        "id": "hjphoLiE0iAW"
      },
      "source": [
        "from math import cos  #para importar una función específica de un módulo \n",
        "x = cos(2*pi)\n",
        "prin(x)"
      ],
      "execution_count": null,
      "outputs": []
    },
    {
      "cell_type": "code",
      "metadata": {
        "id": "hnryGf8XImuY",
        "colab": {
          "base_uri": "https://localhost:8080/"
        },
        "outputId": "66f809d8-b434-4ac9-e7af-a6ad07f95e82"
      },
      "source": [
        "from math import *  #para importar todas las funciones de un módulo\n",
        "\n",
        "y = sin(2*pi)\n",
        "\n",
        "print(y)"
      ],
      "execution_count": null,
      "outputs": [
        {
          "output_type": "stream",
          "text": [
            "-2.4492935982947064e-16\n"
          ],
          "name": "stdout"
        }
      ]
    }
  ]
}
