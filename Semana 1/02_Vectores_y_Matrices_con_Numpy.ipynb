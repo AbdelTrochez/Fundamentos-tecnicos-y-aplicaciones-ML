{
  "nbformat": 4,
  "nbformat_minor": 0,
  "metadata": {
    "colab": {
      "name": "02 Vectores y Matrices con Numpy.ipynb",
      "provenance": [],
      "toc_visible": true,
      "authorship_tag": "ABX9TyOq/mC6uq0xMSL61jkNrZOU",
      "include_colab_link": true
    },
    "kernelspec": {
      "name": "python3",
      "display_name": "Python 3"
    }
  },
  "cells": [
    {
      "cell_type": "markdown",
      "metadata": {
        "id": "view-in-github",
        "colab_type": "text"
      },
      "source": [
        "<a href=\"https://colab.research.google.com/github/AnIsAsPe/Fundamentos-tecnicos-y-aplicaciones-ML/blob/main/02_Vectores_y_Matrices_con_Numpy.ipynb\" target=\"_parent\"><img src=\"https://colab.research.google.com/assets/colab-badge.svg\" alt=\"Open In Colab\"/></a>"
      ]
    },
    {
      "cell_type": "code",
      "metadata": {
        "id": "AKvQp4M-C5q0"
      },
      "source": [
        ""
      ],
      "execution_count": null,
      "outputs": []
    },
    {
      "cell_type": "markdown",
      "metadata": {
        "id": "mn562DDYImuY"
      },
      "source": [
        "## Numpy\n",
        "\n",
        "La librería Numpy nos permite usar funciones matemáticas de vectores y matrices. Está implementada en C y Fortran, por lo que este tipo de operaciones tiene un rendimiento muy bueno. A diferencia de las listas (una matriz, podría ser una lista anidada) para las que su comportamiento es dinámico, los arreglos de numpy son estáticos y homogeneos, lo que los vuelve muy eficientes en el uso de la memoria."
      ]
    },
    {
      "cell_type": "code",
      "metadata": {
        "id": "P7B0kZeY7mCl"
      },
      "source": [
        "import numpy as np  # importar la librería"
      ],
      "execution_count": null,
      "outputs": []
    },
    {
      "cell_type": "markdown",
      "metadata": {
        "id": "UAPP5la7jyZn"
      },
      "source": [
        "### np.array()"
      ]
    },
    {
      "cell_type": "markdown",
      "metadata": {
        "id": "pG5dId3DizYd"
      },
      "source": [
        "#### Crear un vector (1-D array)"
      ]
    },
    {
      "cell_type": "code",
      "metadata": {
        "colab": {
          "base_uri": "https://localhost:8080/"
        },
        "id": "_j9xMMiFivN-",
        "outputId": "81d94be4-c202-4ab8-cad9-b0b2719b847b"
      },
      "source": [
        "lista = [1,2,3]\n",
        "vector = np.array(lista)\n",
        "vector"
      ],
      "execution_count": null,
      "outputs": [
        {
          "output_type": "execute_result",
          "data": {
            "text/plain": [
              "array([1, 2, 3])"
            ]
          },
          "metadata": {
            "tags": []
          },
          "execution_count": 5
        }
      ]
    },
    {
      "cell_type": "markdown",
      "metadata": {
        "id": "XcSCI07ZjQB5"
      },
      "source": [
        "#### Crear una Matriz (2-D array)"
      ]
    },
    {
      "cell_type": "code",
      "metadata": {
        "id": "s_ZlyMRuImuY",
        "colab": {
          "base_uri": "https://localhost:8080/"
        },
        "outputId": "4710bafe-1ffe-4164-8a95-a7b977ed93a2"
      },
      "source": [
        "\n",
        "M = np.array([[1,2],[3,4]])\n",
        "M"
      ],
      "execution_count": null,
      "outputs": [
        {
          "output_type": "execute_result",
          "data": {
            "text/plain": [
              "array([[1, 2],\n",
              "       [3, 4]])"
            ]
          },
          "metadata": {
            "tags": []
          },
          "execution_count": 17
        }
      ]
    },
    {
      "cell_type": "code",
      "metadata": {
        "id": "v1jU5gUvImuY",
        "colab": {
          "base_uri": "https://localhost:8080/"
        },
        "outputId": "8bd32af7-00cd-4f8f-f856-e5d45d95b42c"
      },
      "source": [
        "A = np.random.rand(4,3)\n",
        "A"
      ],
      "execution_count": null,
      "outputs": [
        {
          "output_type": "execute_result",
          "data": {
            "text/plain": [
              "array([[0.49883116, 0.96956039, 0.58705275],\n",
              "       [0.28760983, 0.74960389, 0.95493582],\n",
              "       [0.24127957, 0.37334927, 0.19554479],\n",
              "       [0.50980316, 0.49226345, 0.89323021]])"
            ]
          },
          "metadata": {
            "tags": []
          },
          "execution_count": 18
        }
      ]
    },
    {
      "cell_type": "markdown",
      "metadata": {
        "id": "QIZdGxds8Q4T"
      },
      "source": [
        "#### Acceder a los elementos de un vector o matriz"
      ]
    },
    {
      "cell_type": "code",
      "metadata": {
        "id": "Hfjuaw2IImuY",
        "colab": {
          "base_uri": "https://localhost:8080/"
        },
        "outputId": "fa06b779-ea1f-47e5-d56b-431d353ba706"
      },
      "source": [
        "A[1,:] #fila 1"
      ],
      "execution_count": null,
      "outputs": [
        {
          "output_type": "execute_result",
          "data": {
            "text/plain": [
              "array([0.        , 0.74960389, 1.90987164])"
            ]
          },
          "metadata": {
            "tags": []
          },
          "execution_count": 68
        }
      ]
    },
    {
      "cell_type": "code",
      "metadata": {
        "id": "WJKJiBJiImuY",
        "colab": {
          "base_uri": "https://localhost:8080/"
        },
        "outputId": "9dedf1cd-4873-4123-ef0e-d80d54f635d6"
      },
      "source": [
        "A[:,1] # columna 1"
      ],
      "execution_count": null,
      "outputs": [
        {
          "output_type": "execute_result",
          "data": {
            "text/plain": [
              "array([0.96956039, 0.74960389, 0.37334927, 0.49226345])"
            ]
          },
          "metadata": {
            "tags": []
          },
          "execution_count": 21
        }
      ]
    },
    {
      "cell_type": "code",
      "metadata": {
        "id": "BDatV0xh9g3K",
        "colab": {
          "base_uri": "https://localhost:8080/"
        },
        "outputId": "d552581e-4273-4ba7-ca5d-e83ae1812cdb"
      },
      "source": [
        "A[1,1]"
      ],
      "execution_count": null,
      "outputs": [
        {
          "output_type": "execute_result",
          "data": {
            "text/plain": [
              "0.7496038909086992"
            ]
          },
          "metadata": {
            "tags": []
          },
          "execution_count": 24
        }
      ]
    },
    {
      "cell_type": "code",
      "metadata": {
        "id": "7U5oB7A_9tPt",
        "colab": {
          "base_uri": "https://localhost:8080/"
        },
        "outputId": "6d573d26-159b-434c-8c27-5ff1fb069fd3"
      },
      "source": [
        "A[1:,:]"
      ],
      "execution_count": null,
      "outputs": [
        {
          "output_type": "execute_result",
          "data": {
            "text/plain": [
              "array([[0.28760983, 0.74960389, 0.95493582],\n",
              "       [0.24127957, 0.37334927, 0.19554479],\n",
              "       [0.50980316, 0.49226345, 0.89323021]])"
            ]
          },
          "metadata": {
            "tags": []
          },
          "execution_count": 25
        }
      ]
    },
    {
      "cell_type": "markdown",
      "metadata": {
        "id": "AiFz17xvjYfU"
      },
      "source": [
        "### np.arange()\n",
        "\n",
        "parecido a range()"
      ]
    },
    {
      "cell_type": "code",
      "metadata": {
        "colab": {
          "base_uri": "https://localhost:8080/"
        },
        "id": "lGsokCY_j1sX",
        "outputId": "527474d8-bdbb-4363-a1f4-8ff68fcf67d2"
      },
      "source": [
        "for i in range(0,10,2):\n",
        "  print(i)\n",
        "\n",
        "e = range(0,10,2)\n",
        "e"
      ],
      "execution_count": null,
      "outputs": [
        {
          "output_type": "stream",
          "text": [
            "0\n",
            "2\n",
            "4\n",
            "6\n",
            "8\n"
          ],
          "name": "stdout"
        },
        {
          "output_type": "execute_result",
          "data": {
            "text/plain": [
              "range(0, 10, 2)"
            ]
          },
          "metadata": {
            "tags": []
          },
          "execution_count": 30
        }
      ]
    },
    {
      "cell_type": "code",
      "metadata": {
        "colab": {
          "base_uri": "https://localhost:8080/"
        },
        "id": "PukNQeWBkD3m",
        "outputId": "c57e7f73-5004-4bf5-bc26-30446b98c529"
      },
      "source": [
        "np.arange(0,10,2)"
      ],
      "execution_count": null,
      "outputs": [
        {
          "output_type": "execute_result",
          "data": {
            "text/plain": [
              "array([0, 2, 4, 6, 8])"
            ]
          },
          "metadata": {
            "tags": []
          },
          "execution_count": 31
        }
      ]
    },
    {
      "cell_type": "markdown",
      "metadata": {
        "id": "Asm43k9QlfBP"
      },
      "source": [
        "### np.linspace()\n",
        "\n"
      ]
    },
    {
      "cell_type": "code",
      "metadata": {
        "colab": {
          "base_uri": "https://localhost:8080/"
        },
        "id": "V1DRp__9lfBP",
        "outputId": "57faf435-7b74-41c5-d0ef-aff9f4e2ef2f"
      },
      "source": [
        "np.linspace(0, 10, 5)"
      ],
      "execution_count": null,
      "outputs": [
        {
          "output_type": "execute_result",
          "data": {
            "text/plain": [
              "array([ 0. ,  2.5,  5. ,  7.5, 10. ])"
            ]
          },
          "metadata": {
            "tags": []
          },
          "execution_count": 33
        }
      ]
    },
    {
      "cell_type": "markdown",
      "metadata": {
        "id": "66hI6k6Xm9LM"
      },
      "source": [
        "### np.random()\n"
      ]
    },
    {
      "cell_type": "code",
      "metadata": {
        "colab": {
          "base_uri": "https://localhost:8080/"
        },
        "id": "toCZGtLvm9LN",
        "outputId": "9b03f375-30c2-404e-8fda-8a8b7bdb2355"
      },
      "source": [
        "B = np.random.rand(3,3)\n",
        "B"
      ],
      "execution_count": null,
      "outputs": [
        {
          "output_type": "execute_result",
          "data": {
            "text/plain": [
              "array([[0.65328321, 0.41999096, 0.12585521],\n",
              "       [0.56667659, 0.46660402, 0.40594538],\n",
              "       [0.40698745, 0.27461329, 0.85892015]])"
            ]
          },
          "metadata": {
            "tags": []
          },
          "execution_count": 60
        }
      ]
    },
    {
      "cell_type": "code",
      "metadata": {
        "colab": {
          "base_uri": "https://localhost:8080/"
        },
        "id": "4t1o0ZWkmGSS",
        "outputId": "e4b408b1-964c-4956-c4b0-aa86bc79a242"
      },
      "source": [
        "v = np.random.randint(1,200,20)\n",
        "v"
      ],
      "execution_count": null,
      "outputs": [
        {
          "output_type": "execute_result",
          "data": {
            "text/plain": [
              "array([ 14, 129, 130, 116, 173,  59, 169, 131, 128, 139, 126,  88, 114,\n",
              "        62,  35,   4, 191,  96, 131,  19])"
            ]
          },
          "metadata": {
            "tags": []
          },
          "execution_count": 37
        }
      ]
    },
    {
      "cell_type": "markdown",
      "metadata": {
        "id": "izflg9EaoJfz"
      },
      "source": [
        "### método reshape()\n",
        "\n"
      ]
    },
    {
      "cell_type": "code",
      "metadata": {
        "colab": {
          "base_uri": "https://localhost:8080/"
        },
        "id": "77QflSMkoSJK",
        "outputId": "a9669a02-e3f3-4265-ca21-ad4e4da0bb40"
      },
      "source": [
        "C = v.reshape(4,5)\n",
        "C"
      ],
      "execution_count": null,
      "outputs": [
        {
          "output_type": "execute_result",
          "data": {
            "text/plain": [
              "array([[ 14, 129, 130, 116, 173],\n",
              "       [ 59, 169, 131, 128, 139],\n",
              "       [126,  88, 114,  62,  35],\n",
              "       [  4, 191,  96, 131,  19]])"
            ]
          },
          "metadata": {
            "tags": []
          },
          "execution_count": 69
        }
      ]
    },
    {
      "cell_type": "markdown",
      "metadata": {
        "id": "tEGUqjtlBgb9"
      },
      "source": [
        "### atributo shape()"
      ]
    },
    {
      "cell_type": "code",
      "metadata": {
        "id": "yauYo2GyBUY4",
        "colab": {
          "base_uri": "https://localhost:8080/"
        },
        "outputId": "2e5a4200-c863-4c80-d875-818cd798ce17"
      },
      "source": [
        "C.shape"
      ],
      "execution_count": null,
      "outputs": [
        {
          "output_type": "execute_result",
          "data": {
            "text/plain": [
              "(4, 5)"
            ]
          },
          "metadata": {
            "tags": []
          },
          "execution_count": 65
        }
      ]
    },
    {
      "cell_type": "code",
      "metadata": {
        "colab": {
          "base_uri": "https://localhost:8080/"
        },
        "id": "2OmDAE4E_rzE",
        "outputId": "4673cd60-116e-43a9-a219-2091d7983f08"
      },
      "source": [
        "C.reshape(2,-1)"
      ],
      "execution_count": null,
      "outputs": [
        {
          "output_type": "execute_result",
          "data": {
            "text/plain": [
              "array([[ 14, 129, 130, 116, 173,  59, 169, 131, 128, 139],\n",
              "       [126,  88, 114,  62,  35,   4, 191,  96, 131,  19]])"
            ]
          },
          "metadata": {
            "tags": []
          },
          "execution_count": 66
        }
      ]
    },
    {
      "cell_type": "markdown",
      "metadata": {
        "id": "1W-l9vYRpXEn"
      },
      "source": [
        "### min()  max()  sum() mean() \n",
        "\n"
      ]
    },
    {
      "cell_type": "code",
      "metadata": {
        "colab": {
          "base_uri": "https://localhost:8080/"
        },
        "id": "JUxXFVsdpXEo",
        "outputId": "67080905-4309-4324-c69a-e72e667f0e07"
      },
      "source": [
        "C.max()"
      ],
      "execution_count": null,
      "outputs": [
        {
          "output_type": "execute_result",
          "data": {
            "text/plain": [
              "191"
            ]
          },
          "metadata": {
            "tags": []
          },
          "execution_count": 44
        }
      ]
    },
    {
      "cell_type": "code",
      "metadata": {
        "id": "iac9j7Z1Brbl",
        "colab": {
          "base_uri": "https://localhost:8080/"
        },
        "outputId": "122e4a8c-d6a5-404a-cdb6-2955f36fb53e"
      },
      "source": [
        "C.min()"
      ],
      "execution_count": null,
      "outputs": [
        {
          "output_type": "execute_result",
          "data": {
            "text/plain": [
              "4"
            ]
          },
          "metadata": {
            "tags": []
          },
          "execution_count": 71
        }
      ]
    },
    {
      "cell_type": "code",
      "metadata": {
        "colab": {
          "base_uri": "https://localhost:8080/"
        },
        "id": "a1PJzwPzpuM3",
        "outputId": "10e90095-6f1e-414e-cecd-0ea6615da4a0"
      },
      "source": [
        "C.sum()"
      ],
      "execution_count": null,
      "outputs": [
        {
          "output_type": "execute_result",
          "data": {
            "text/plain": [
              "2054"
            ]
          },
          "metadata": {
            "tags": []
          },
          "execution_count": 67
        }
      ]
    },
    {
      "cell_type": "code",
      "metadata": {
        "colab": {
          "base_uri": "https://localhost:8080/"
        },
        "id": "SlEigyezp74J",
        "outputId": "6ed76903-2b97-4e3e-e148-172b7052d500"
      },
      "source": [
        "C.mean()"
      ],
      "execution_count": null,
      "outputs": [
        {
          "output_type": "execute_result",
          "data": {
            "text/plain": [
              "102.7"
            ]
          },
          "metadata": {
            "tags": []
          },
          "execution_count": 46
        }
      ]
    },
    {
      "cell_type": "markdown",
      "metadata": {
        "id": "5_mSO-lmAIeO"
      },
      "source": [
        "### operaciones con vectories y matrices"
      ]
    },
    {
      "cell_type": "code",
      "metadata": {
        "id": "ht-RXNmkAN84",
        "colab": {
          "base_uri": "https://localhost:8080/"
        },
        "outputId": "125003b1-6e46-40e3-aa6b-890a2025d43f"
      },
      "source": [
        "vector"
      ],
      "execution_count": null,
      "outputs": [
        {
          "output_type": "execute_result",
          "data": {
            "text/plain": [
              "array([0, 1, 2])"
            ]
          },
          "metadata": {
            "tags": []
          },
          "execution_count": 49
        }
      ]
    },
    {
      "cell_type": "code",
      "metadata": {
        "id": "WeSa2NqVImuY",
        "colab": {
          "base_uri": "https://localhost:8080/"
        },
        "outputId": "2d50fb16-83c4-47ae-d28e-e1c478d84d63"
      },
      "source": [
        "2 * vector"
      ],
      "execution_count": null,
      "outputs": [
        {
          "output_type": "execute_result",
          "data": {
            "text/plain": [
              "array([0, 2, 4])"
            ]
          },
          "metadata": {
            "tags": []
          },
          "execution_count": 50
        }
      ]
    },
    {
      "cell_type": "code",
      "metadata": {
        "id": "asOa3OGrImuY",
        "colab": {
          "base_uri": "https://localhost:8080/"
        },
        "outputId": "85a434b8-661e-44fe-9099-eb665610a237"
      },
      "source": [
        "A = vector*A\n",
        "A"
      ],
      "execution_count": null,
      "outputs": [
        {
          "output_type": "execute_result",
          "data": {
            "text/plain": [
              "array([[0.        , 0.96956039, 1.1741055 ],\n",
              "       [0.        , 0.74960389, 1.90987164],\n",
              "       [0.        , 0.37334927, 0.39108958],\n",
              "       [0.        , 0.49226345, 1.78646042]])"
            ]
          },
          "metadata": {
            "tags": []
          },
          "execution_count": 51
        }
      ]
    },
    {
      "cell_type": "code",
      "metadata": {
        "id": "ZVnzFx7mImuY",
        "colab": {
          "base_uri": "https://localhost:8080/"
        },
        "outputId": "4386bdb0-8d8f-4eda-f5e5-6cc8244c0f66"
      },
      "source": [
        "A + 5"
      ],
      "execution_count": null,
      "outputs": [
        {
          "output_type": "execute_result",
          "data": {
            "text/plain": [
              "array([[5.        , 5.96956039, 6.1741055 ],\n",
              "       [5.        , 5.74960389, 6.90987164],\n",
              "       [5.        , 5.37334927, 5.39108958],\n",
              "       [5.        , 5.49226345, 6.78646042]])"
            ]
          },
          "metadata": {
            "tags": []
          },
          "execution_count": 52
        }
      ]
    }
  ]
}
