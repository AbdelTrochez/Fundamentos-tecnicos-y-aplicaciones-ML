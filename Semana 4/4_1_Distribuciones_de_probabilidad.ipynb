{
  "nbformat": 4,
  "nbformat_minor": 0,
  "metadata": {
    "colab": {
      "name": "4_1 Distribuciones de probabilidad.ipynb",
      "provenance": [],
      "collapsed_sections": [],
      "toc_visible": true,
      "authorship_tag": "ABX9TyPOf0Bn2TC3iCDCoQJUaFVa",
      "include_colab_link": true
    },
    "kernelspec": {
      "name": "python3",
      "display_name": "Python 3"
    }
  },
  "cells": [
    {
      "cell_type": "markdown",
      "metadata": {
        "id": "view-in-github",
        "colab_type": "text"
      },
      "source": [
        "<a href=\"https://colab.research.google.com/github/AnIsAsPe/Fundamentos-tecnicos-y-aplicaciones-ML/blob/main/Semana%204/4_1_Distribuciones_de_probabilidad.ipynb\" target=\"_parent\"><img src=\"https://colab.research.google.com/assets/colab-badge.svg\" alt=\"Open In Colab\"/></a>"
      ]
    },
    {
      "cell_type": "markdown",
      "metadata": {
        "id": "K9j4q3wvLosv"
      },
      "source": [
        "#  0 Librerías y funciones"
      ]
    },
    {
      "cell_type": "markdown",
      "metadata": {
        "id": "idZ1GoX0VB7Q"
      },
      "source": [
        ""
      ]
    },
    {
      "cell_type": "code",
      "metadata": {
        "id": "oh5cPc2yTllV"
      },
      "source": [
        "import numpy as np\n",
        "import pandas as pd\n",
        "\n",
        "import collections\n",
        "import itertools \n",
        "\n",
        "import matplotlib.pyplot as plt\n",
        "import seaborn as sns"
      ],
      "execution_count": 55,
      "outputs": []
    },
    {
      "cell_type": "markdown",
      "metadata": {
        "id": "wla2xnNiKl1O"
      },
      "source": [
        "# 1 Distribución de probabilidad uniforme"
      ]
    },
    {
      "cell_type": "markdown",
      "metadata": {
        "id": "85ctYhdR0sRT"
      },
      "source": [
        "## 1.1 Distribución de probabilidad del resultado de lanzar un dado "
      ]
    },
    {
      "cell_type": "code",
      "metadata": {
        "id": "VRyTUQkSmv33"
      },
      "source": [
        "W = [1, 2, 3, 4, 5, 6]   #omega\n",
        "P = [1/6, 1/6, 1/6, 1/6, 1/6, 1/6]        "
      ],
      "execution_count": 5,
      "outputs": []
    },
    {
      "cell_type": "markdown",
      "metadata": {
        "id": "bS80Anl6QBZA"
      },
      "source": [
        ""
      ]
    },
    {
      "cell_type": "code",
      "metadata": {
        "id": "iTrqYgXimGeO",
        "colab": {
          "base_uri": "https://localhost:8080/",
          "height": 265
        },
        "outputId": "2ca87102-1c30-4431-c764-e3bf8c64f5d7"
      },
      "source": [
        "sns.barplot(x = W, y = P)\n",
        "plt.show()"
      ],
      "execution_count": 56,
      "outputs": [
        {
          "output_type": "display_data",
          "data": {
            "image/png": "[encoded data removed]",
            "text/plain": [
              "<Figure size 432x288 with 1 Axes>"
            ]
          },
          "metadata": {
            "tags": [],
            "needs_background": "light"
          }
        }
      ]
    },
    {
      "cell_type": "markdown",
      "metadata": {
        "id": "azEEsu2pP4mk"
      },
      "source": [
        "###1.1.2 Distribución de frecuencias al lanzar un dado (aproximación empírica)"
      ]
    },
    {
      "cell_type": "markdown",
      "metadata": {
        "id": "axMuttehT7d1"
      },
      "source": [
        "Simularemos que lanzamos un dado al azar *n* número de veces  y graficaremos su distribución"
      ]
    },
    {
      "cell_type": "code",
      "metadata": {
        "id": "Jhn08dbFP0iM",
        "colab": {
          "base_uri": "https://localhost:8080/",
          "height": 265
        },
        "outputId": "4147eb65-f0ae-4e36-8010-71ef67d11e62"
      },
      "source": [
        "n =10000\r\n",
        "dado = [1, 2, 3, 4, 5, 6]\r\n",
        "\r\n",
        "resultado = []\r\n",
        "\r\n",
        "for _ in range (n):\r\n",
        "  tiro = np.random.choice(X)\r\n",
        "\r\n",
        "  resultado.append(tiro)\r\n",
        "\r\n",
        "cont = collections.Counter(np.array(resultado))\r\n",
        "sum = [k for k in cont.keys()]\r\n",
        "frec_rel = [v/n for v in cont.values()]\r\n",
        "\r\n",
        "sns.barplot(x = sum, y=frec_rel)\r\n",
        "plt.show()"
      ],
      "execution_count": 64,
      "outputs": [
        {
          "output_type": "display_data",
          "data": {
            "image/png": "[encoded data removed]",
            "text/plain": [
              "<Figure size 432x288 with 1 Axes>"
            ]
          },
          "metadata": {
            "tags": [],
            "needs_background": "light"
          }
        }
      ]
    },
    {
      "cell_type": "markdown",
      "metadata": {
        "id": "MNYmlxjmLaH0"
      },
      "source": [
        "## 1.2 Ley de probabilidad de obtener cierta combinación al tirar dos dados"
      ]
    },
    {
      "cell_type": "code",
      "metadata": {
        "id": "AMAUuKbAtRbp"
      },
      "source": [
        "dado = [1, 2, 3, 4, 5, 6] \n",
        "\n",
        "#obtener las 36 combinaciones\n",
        "combinaciones = list(itertools.product(dado, repeat=2)) #omega\n",
        "probabilidades = list(itertools.repeat(1/36,36))"
      ],
      "execution_count": 11,
      "outputs": []
    },
    {
      "cell_type": "code",
      "metadata": {
        "id": "WH1ejuLtvms0",
        "colab": {
          "base_uri": "https://localhost:8080/",
          "height": 282
        },
        "outputId": "451144b9-4e03-464a-c73f-5350bce39038"
      },
      "source": [
        "grafica = sns.barplot(x = [str(i) for i in combinaciones], y= probabilidades)\n",
        "grafica.set_xticklabels(grafica.get_xticklabels(), rotation=90)\n",
        "\n",
        "plt.show()"
      ],
      "execution_count": 13,
      "outputs": [
        {
          "output_type": "display_data",
          "data": {
            "image/png": "[encoded data removed]",
            "text/plain": [
              "<Figure size 432x288 with 1 Axes>"
            ]
          },
          "metadata": {
            "tags": [],
            "needs_background": "light"
          }
        }
      ]
    },
    {
      "cell_type": "markdown",
      "metadata": {
        "id": "Fcb3RvzjSMWr"
      },
      "source": [
        "# 2 Distribución de probabilidad no uniforme"
      ]
    },
    {
      "cell_type": "markdown",
      "metadata": {
        "id": "t3YDARmyUCGJ"
      },
      "source": [
        "## 2.1 Distribución de probabilidad de la suma de dos dados"
      ]
    },
    {
      "cell_type": "code",
      "metadata": {
        "id": "DlCNatAtNV6g",
        "colab": {
          "base_uri": "https://localhost:8080/",
          "height": 1000
        },
        "outputId": "00d8b5ac-0811-4067-f42a-b7b7c31b60dd"
      },
      "source": [
        "dos_dados = pd.DataFrame(combinaciones)\n",
        "dos_dados.columns = ['dado1', 'dado2']\n",
        "dos_dados['suma'] = dos_dados['dado1'] + dos_dados['dado2']\n",
        "\n",
        "dos_dados"
      ],
      "execution_count": 18,
      "outputs": [
        {
          "output_type": "execute_result",
          "data": {
            "text/html": [
              "<div>\n",
              "<style scoped>\n",
              "    .dataframe tbody tr th:only-of-type {\n",
              "        vertical-align: middle;\n",
              "    }\n",
              "\n",
              "    .dataframe tbody tr th {\n",
              "        vertical-align: top;\n",
              "    }\n",
              "\n",
              "    .dataframe thead th {\n",
              "        text-align: right;\n",
              "    }\n",
              "</style>\n",
              "<table border=\"1\" class=\"dataframe\">\n",
              "  <thead>\n",
              "    <tr style=\"text-align: right;\">\n",
              "      <th></th>\n",
              "      <th>dado1</th>\n",
              "      <th>dado2</th>\n",
              "      <th>suma</th>\n",
              "    </tr>\n",
              "  </thead>\n",
              "  <tbody>\n",
              "    <tr>\n",
              "      <th>0</th>\n",
              "      <td>1</td>\n",
              "      <td>1</td>\n",
              "      <td>2</td>\n",
              "    </tr>\n",
              "    <tr>\n",
              "      <th>1</th>\n",
              "      <td>1</td>\n",
              "      <td>2</td>\n",
              "      <td>3</td>\n",
              "    </tr>\n",
              "    <tr>\n",
              "      <th>2</th>\n",
              "      <td>1</td>\n",
              "      <td>3</td>\n",
              "      <td>4</td>\n",
              "    </tr>\n",
              "    <tr>\n",
              "      <th>3</th>\n",
              "      <td>1</td>\n",
              "      <td>4</td>\n",
              "      <td>5</td>\n",
              "    </tr>\n",
              "    <tr>\n",
              "      <th>4</th>\n",
              "      <td>1</td>\n",
              "      <td>5</td>\n",
              "      <td>6</td>\n",
              "    </tr>\n",
              "    <tr>\n",
              "      <th>5</th>\n",
              "      <td>1</td>\n",
              "      <td>6</td>\n",
              "      <td>7</td>\n",
              "    </tr>\n",
              "    <tr>\n",
              "      <th>6</th>\n",
              "      <td>2</td>\n",
              "      <td>1</td>\n",
              "      <td>3</td>\n",
              "    </tr>\n",
              "    <tr>\n",
              "      <th>7</th>\n",
              "      <td>2</td>\n",
              "      <td>2</td>\n",
              "      <td>4</td>\n",
              "    </tr>\n",
              "    <tr>\n",
              "      <th>8</th>\n",
              "      <td>2</td>\n",
              "      <td>3</td>\n",
              "      <td>5</td>\n",
              "    </tr>\n",
              "    <tr>\n",
              "      <th>9</th>\n",
              "      <td>2</td>\n",
              "      <td>4</td>\n",
              "      <td>6</td>\n",
              "    </tr>\n",
              "    <tr>\n",
              "      <th>10</th>\n",
              "      <td>2</td>\n",
              "      <td>5</td>\n",
              "      <td>7</td>\n",
              "    </tr>\n",
              "    <tr>\n",
              "      <th>11</th>\n",
              "      <td>2</td>\n",
              "      <td>6</td>\n",
              "      <td>8</td>\n",
              "    </tr>\n",
              "    <tr>\n",
              "      <th>12</th>\n",
              "      <td>3</td>\n",
              "      <td>1</td>\n",
              "      <td>4</td>\n",
              "    </tr>\n",
              "    <tr>\n",
              "      <th>13</th>\n",
              "      <td>3</td>\n",
              "      <td>2</td>\n",
              "      <td>5</td>\n",
              "    </tr>\n",
              "    <tr>\n",
              "      <th>14</th>\n",
              "      <td>3</td>\n",
              "      <td>3</td>\n",
              "      <td>6</td>\n",
              "    </tr>\n",
              "    <tr>\n",
              "      <th>15</th>\n",
              "      <td>3</td>\n",
              "      <td>4</td>\n",
              "      <td>7</td>\n",
              "    </tr>\n",
              "    <tr>\n",
              "      <th>16</th>\n",
              "      <td>3</td>\n",
              "      <td>5</td>\n",
              "      <td>8</td>\n",
              "    </tr>\n",
              "    <tr>\n",
              "      <th>17</th>\n",
              "      <td>3</td>\n",
              "      <td>6</td>\n",
              "      <td>9</td>\n",
              "    </tr>\n",
              "    <tr>\n",
              "      <th>18</th>\n",
              "      <td>4</td>\n",
              "      <td>1</td>\n",
              "      <td>5</td>\n",
              "    </tr>\n",
              "    <tr>\n",
              "      <th>19</th>\n",
              "      <td>4</td>\n",
              "      <td>2</td>\n",
              "      <td>6</td>\n",
              "    </tr>\n",
              "    <tr>\n",
              "      <th>20</th>\n",
              "      <td>4</td>\n",
              "      <td>3</td>\n",
              "      <td>7</td>\n",
              "    </tr>\n",
              "    <tr>\n",
              "      <th>21</th>\n",
              "      <td>4</td>\n",
              "      <td>4</td>\n",
              "      <td>8</td>\n",
              "    </tr>\n",
              "    <tr>\n",
              "      <th>22</th>\n",
              "      <td>4</td>\n",
              "      <td>5</td>\n",
              "      <td>9</td>\n",
              "    </tr>\n",
              "    <tr>\n",
              "      <th>23</th>\n",
              "      <td>4</td>\n",
              "      <td>6</td>\n",
              "      <td>10</td>\n",
              "    </tr>\n",
              "    <tr>\n",
              "      <th>24</th>\n",
              "      <td>5</td>\n",
              "      <td>1</td>\n",
              "      <td>6</td>\n",
              "    </tr>\n",
              "    <tr>\n",
              "      <th>25</th>\n",
              "      <td>5</td>\n",
              "      <td>2</td>\n",
              "      <td>7</td>\n",
              "    </tr>\n",
              "    <tr>\n",
              "      <th>26</th>\n",
              "      <td>5</td>\n",
              "      <td>3</td>\n",
              "      <td>8</td>\n",
              "    </tr>\n",
              "    <tr>\n",
              "      <th>27</th>\n",
              "      <td>5</td>\n",
              "      <td>4</td>\n",
              "      <td>9</td>\n",
              "    </tr>\n",
              "    <tr>\n",
              "      <th>28</th>\n",
              "      <td>5</td>\n",
              "      <td>5</td>\n",
              "      <td>10</td>\n",
              "    </tr>\n",
              "    <tr>\n",
              "      <th>29</th>\n",
              "      <td>5</td>\n",
              "      <td>6</td>\n",
              "      <td>11</td>\n",
              "    </tr>\n",
              "    <tr>\n",
              "      <th>30</th>\n",
              "      <td>6</td>\n",
              "      <td>1</td>\n",
              "      <td>7</td>\n",
              "    </tr>\n",
              "    <tr>\n",
              "      <th>31</th>\n",
              "      <td>6</td>\n",
              "      <td>2</td>\n",
              "      <td>8</td>\n",
              "    </tr>\n",
              "    <tr>\n",
              "      <th>32</th>\n",
              "      <td>6</td>\n",
              "      <td>3</td>\n",
              "      <td>9</td>\n",
              "    </tr>\n",
              "    <tr>\n",
              "      <th>33</th>\n",
              "      <td>6</td>\n",
              "      <td>4</td>\n",
              "      <td>10</td>\n",
              "    </tr>\n",
              "    <tr>\n",
              "      <th>34</th>\n",
              "      <td>6</td>\n",
              "      <td>5</td>\n",
              "      <td>11</td>\n",
              "    </tr>\n",
              "    <tr>\n",
              "      <th>35</th>\n",
              "      <td>6</td>\n",
              "      <td>6</td>\n",
              "      <td>12</td>\n",
              "    </tr>\n",
              "  </tbody>\n",
              "</table>\n",
              "</div>"
            ],
            "text/plain": [
              "    dado1  dado2  suma\n",
              "0       1      1     2\n",
              "1       1      2     3\n",
              "2       1      3     4\n",
              "3       1      4     5\n",
              "4       1      5     6\n",
              "5       1      6     7\n",
              "6       2      1     3\n",
              "7       2      2     4\n",
              "8       2      3     5\n",
              "9       2      4     6\n",
              "10      2      5     7\n",
              "11      2      6     8\n",
              "12      3      1     4\n",
              "13      3      2     5\n",
              "14      3      3     6\n",
              "15      3      4     7\n",
              "16      3      5     8\n",
              "17      3      6     9\n",
              "18      4      1     5\n",
              "19      4      2     6\n",
              "20      4      3     7\n",
              "21      4      4     8\n",
              "22      4      5     9\n",
              "23      4      6    10\n",
              "24      5      1     6\n",
              "25      5      2     7\n",
              "26      5      3     8\n",
              "27      5      4     9\n",
              "28      5      5    10\n",
              "29      5      6    11\n",
              "30      6      1     7\n",
              "31      6      2     8\n",
              "32      6      3     9\n",
              "33      6      4    10\n",
              "34      6      5    11\n",
              "35      6      6    12"
            ]
          },
          "metadata": {
            "tags": []
          },
          "execution_count": 18
        }
      ]
    },
    {
      "cell_type": "markdown",
      "metadata": {
        "id": "pKxQgAYxKLBF"
      },
      "source": [
        "* ¿con cuántas combinaciones de los dados podemos obtener como resultado de la  suma un 2?\r\n",
        "* ¿y un 12?\r\n",
        "* ¿y un 7?"
      ]
    },
    {
      "cell_type": "code",
      "metadata": {
        "colab": {
          "base_uri": "https://localhost:8080/"
        },
        "id": "KPRK0zLFJPZT",
        "outputId": "0db6be22-d864-4617-ab47-ff75c8408a1a"
      },
      "source": [
        "\r\n",
        "dos_dados['suma'].value_counts(sort=False)"
      ],
      "execution_count": 26,
      "outputs": [
        {
          "output_type": "execute_result",
          "data": {
            "text/plain": [
              "2     1\n",
              "3     2\n",
              "4     3\n",
              "5     4\n",
              "6     5\n",
              "7     6\n",
              "8     5\n",
              "9     4\n",
              "10    3\n",
              "11    2\n",
              "12    1\n",
              "Name: suma, dtype: int64"
            ]
          },
          "metadata": {
            "tags": []
          },
          "execution_count": 26
        }
      ]
    },
    {
      "cell_type": "code",
      "metadata": {
        "id": "13gvV2uw5nHd",
        "colab": {
          "base_uri": "https://localhost:8080/",
          "height": 363
        },
        "outputId": "51321b19-70a7-4bd4-97ba-f0f663333e9a"
      },
      "source": [
        "Ley_P_suma = pd.DataFrame(dos_dados['suma'].value_counts(sort=False, \n",
        "                                                         normalize=True))\n",
        "\n",
        "Ley_P_suma.reset_index(inplace=True)\n",
        "Ley_P_suma.columns=['elementos', 'probabilidad']\n",
        "\n",
        "Ley_P_suma"
      ],
      "execution_count": 19,
      "outputs": [
        {
          "output_type": "execute_result",
          "data": {
            "text/html": [
              "<div>\n",
              "<style scoped>\n",
              "    .dataframe tbody tr th:only-of-type {\n",
              "        vertical-align: middle;\n",
              "    }\n",
              "\n",
              "    .dataframe tbody tr th {\n",
              "        vertical-align: top;\n",
              "    }\n",
              "\n",
              "    .dataframe thead th {\n",
              "        text-align: right;\n",
              "    }\n",
              "</style>\n",
              "<table border=\"1\" class=\"dataframe\">\n",
              "  <thead>\n",
              "    <tr style=\"text-align: right;\">\n",
              "      <th></th>\n",
              "      <th>elementos</th>\n",
              "      <th>probabilidad</th>\n",
              "    </tr>\n",
              "  </thead>\n",
              "  <tbody>\n",
              "    <tr>\n",
              "      <th>0</th>\n",
              "      <td>2</td>\n",
              "      <td>0.027778</td>\n",
              "    </tr>\n",
              "    <tr>\n",
              "      <th>1</th>\n",
              "      <td>3</td>\n",
              "      <td>0.055556</td>\n",
              "    </tr>\n",
              "    <tr>\n",
              "      <th>2</th>\n",
              "      <td>4</td>\n",
              "      <td>0.083333</td>\n",
              "    </tr>\n",
              "    <tr>\n",
              "      <th>3</th>\n",
              "      <td>5</td>\n",
              "      <td>0.111111</td>\n",
              "    </tr>\n",
              "    <tr>\n",
              "      <th>4</th>\n",
              "      <td>6</td>\n",
              "      <td>0.138889</td>\n",
              "    </tr>\n",
              "    <tr>\n",
              "      <th>5</th>\n",
              "      <td>7</td>\n",
              "      <td>0.166667</td>\n",
              "    </tr>\n",
              "    <tr>\n",
              "      <th>6</th>\n",
              "      <td>8</td>\n",
              "      <td>0.138889</td>\n",
              "    </tr>\n",
              "    <tr>\n",
              "      <th>7</th>\n",
              "      <td>9</td>\n",
              "      <td>0.111111</td>\n",
              "    </tr>\n",
              "    <tr>\n",
              "      <th>8</th>\n",
              "      <td>10</td>\n",
              "      <td>0.083333</td>\n",
              "    </tr>\n",
              "    <tr>\n",
              "      <th>9</th>\n",
              "      <td>11</td>\n",
              "      <td>0.055556</td>\n",
              "    </tr>\n",
              "    <tr>\n",
              "      <th>10</th>\n",
              "      <td>12</td>\n",
              "      <td>0.027778</td>\n",
              "    </tr>\n",
              "  </tbody>\n",
              "</table>\n",
              "</div>"
            ],
            "text/plain": [
              "    elementos  probabilidad\n",
              "0           2      0.027778\n",
              "1           3      0.055556\n",
              "2           4      0.083333\n",
              "3           5      0.111111\n",
              "4           6      0.138889\n",
              "5           7      0.166667\n",
              "6           8      0.138889\n",
              "7           9      0.111111\n",
              "8          10      0.083333\n",
              "9          11      0.055556\n",
              "10         12      0.027778"
            ]
          },
          "metadata": {
            "tags": []
          },
          "execution_count": 19
        }
      ]
    },
    {
      "cell_type": "code",
      "metadata": {
        "colab": {
          "base_uri": "https://localhost:8080/"
        },
        "id": "tND3SHzwJloF",
        "outputId": "1b32d8c1-6a3e-4ad8-b919-123088c938bc"
      },
      "source": [
        "Ley_P_suma['probabilidad'].sum()"
      ],
      "execution_count": 27,
      "outputs": [
        {
          "output_type": "execute_result",
          "data": {
            "text/plain": [
              "1.0"
            ]
          },
          "metadata": {
            "tags": []
          },
          "execution_count": 27
        }
      ]
    },
    {
      "cell_type": "code",
      "metadata": {
        "colab": {
          "base_uri": "https://localhost:8080/",
          "height": 282
        },
        "id": "qOZfRNURIe-u",
        "outputId": "0d34cfc4-bd52-4ba7-e52f-0ae49eb8ef9b"
      },
      "source": [
        "grafica = sns.barplot(x = 'elementos', y= 'probabilidad', data=Ley_P_suma)\n",
        "grafica.set_xticklabels(grafica.get_xticklabels(), rotation=90)\n",
        "\n",
        "plt.show()"
      ],
      "execution_count": 21,
      "outputs": [
        {
          "output_type": "display_data",
          "data": {
            "image/png": "[encoded data removed]",
            "text/plain": [
              "<Figure size 432x288 with 1 Axes>"
            ]
          },
          "metadata": {
            "tags": [],
            "needs_background": "light"
          }
        }
      ]
    },
    {
      "cell_type": "markdown",
      "metadata": {
        "id": "a1D9mtQgk0pv"
      },
      "source": [
        "### 2.1.2 Distribución de frecuencias de la suma obtenida al lanzar dos dados (aproximación empírica)"
      ]
    },
    {
      "cell_type": "markdown",
      "metadata": {
        "id": "UMAT-YeKK79F"
      },
      "source": [
        "Simularemos que lanzamos dos dados al azar y sumamos el resultado *n* número de veces y graficaremos su distribución"
      ]
    },
    {
      "cell_type": "code",
      "metadata": {
        "id": "kVzmQyvfAKFJ",
        "colab": {
          "base_uri": "https://localhost:8080/",
          "height": 482
        },
        "outputId": "ecaf7a60-9842-4d31-d58e-6167abbb99d2"
      },
      "source": [
        "n =10000\n",
        "X = [1, 2, 3, 4, 5, 6]\n",
        "\n",
        "dado1 = []  \n",
        "dado2 = []   \n",
        "suma = []    #variable aleatoria ¿distribución?\n",
        "\n",
        "for _ in range (n):\n",
        "  tiro_d1 = np.random.choice(X)\n",
        "  tiro_d2 = np.random.choice(X)\n",
        "\n",
        "  dado1.append(tiro_d1)\n",
        "  dado2.append(tiro_d2)\n",
        "  suma.append(tiro_d1 + tiro_d2)\n",
        "\n",
        "cont = collections.Counter(np.array(suma))\n",
        "sum = [k for k in cont.keys()]\n",
        "frec_rel = [v/n for v in cont.values()]\n",
        "\n",
        "fig, ax = plt.subplots(figsize=(10, 8))\n",
        "\n",
        "sns.barplot(ax=ax,  x = sum,   y=frec_rel)\n",
        "plt.show()"
      ],
      "execution_count": 70,
      "outputs": [
        {
          "output_type": "display_data",
          "data": {
            "image/png": "[encoded data removed]",
            "text/plain": [
              "<Figure size 720x576 with 1 Axes>"
            ]
          },
          "metadata": {
            "tags": [],
            "needs_background": "light"
          }
        }
      ]
    },
    {
      "cell_type": "markdown",
      "metadata": {
        "id": "Iq3_n5ezS3El"
      },
      "source": [
        "#Ejercicio\r\n",
        "\r\n",
        "1. Variar n en el punto 1.1.2 , al menos usando n = 10, 100, 500, 1000, 10000\r\n",
        "2. Compara la distribución de frecuencia obtenida con la distribución de probabilidad del punto 1.1\r\n",
        "3. Realiza el mismo experimento de variar n pero ahora en el punto 2.1.2 y comparalo con la distribución de probabilidad del punto 2.1\r\n",
        "4. Describe tus observaciones \r\n"
      ]
    }
  ]
}