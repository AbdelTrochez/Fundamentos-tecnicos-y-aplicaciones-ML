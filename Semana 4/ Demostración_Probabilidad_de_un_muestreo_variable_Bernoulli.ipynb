{
  "nbformat": 4,
  "nbformat_minor": 0,
  "metadata": {
    "colab": {
      "name": "Probabilidad de un muestreo de una variable con distribución Bernoulli.ipynb",
      "provenance": [],
      "authorship_tag": "ABX9TyNJdi2XjAVMK0x1qa6+bKOC",
      "include_colab_link": true
    },
    "kernelspec": {
      "name": "python3",
      "display_name": "Python 3"
    }
  },
  "cells": [
    {
      "cell_type": "markdown",
      "metadata": {
        "id": "view-in-github",
        "colab_type": "text"
      },
      "source": [
        "<a href=\"https://colab.research.google.com/github/AnIsAsPe/Fundamentos-tecnicos-y-aplicaciones-ML/blob/main/Semana%204/%20Demostraci%C3%B3n_Probabilidad_de_un_muestreo_variable_Bernoulli.ipynb\" target=\"_parent\"><img src=\"https://colab.research.google.com/assets/colab-badge.svg\" alt=\"Open In Colab\"/></a>"
      ]
    },
    {
      "cell_type": "markdown",
      "metadata": {
        "id": "ESBLH1-5DN_o"
      },
      "source": [
        "# $(\\beta^*)^x (1-\\beta^*)^{1-x}$"
      ]
    },
    {
      "cell_type": "code",
      "metadata": {
        "colab": {
          "base_uri": "https://localhost:8080/"
        },
        "id": "l1EURnAn-2xB",
        "outputId": "ba5ecf62-61b5-468b-9169-4480ca8af923"
      },
      "source": [
        "import numpy\r\n",
        "from scipy.stats import bernoulli\r\n",
        "\r\n",
        "P_exito = 0.3\r\n",
        "\r\n",
        "n = 10\r\n",
        "muestra = bernoulli.rvs(size = n, p = P_exito)\r\n",
        "\r\n",
        "\r\n",
        "\r\n",
        "print('Elementos de la muestra: \\n{}'.format(muestra))\r\n"
      ],
      "execution_count": null,
      "outputs": [
        {
          "output_type": "stream",
          "text": [
            "Elementos de la muestra: \n",
            "[1 0 0 0 1 1 1 0 1 1]\n"
          ],
          "name": "stdout"
        }
      ]
    },
    {
      "cell_type": "markdown",
      "metadata": {
        "id": "Vdg-JZ81F07Q"
      },
      "source": [
        "$P(S)=\\displaystyle\\prod_{i\\leq{N}} (\\beta^*)^{x_{i}} (1-\\beta^*)^{1-x_{i}}$\r\n",
        "-\r\n",
        "\r\n"
      ]
    },
    {
      "cell_type": "code",
      "metadata": {
        "colab": {
          "base_uri": "https://localhost:8080/"
        },
        "id": "aizq7_xUAocc",
        "outputId": "a449ba23-b737-4f10-ff12-41c016746c7a"
      },
      "source": [
        "0.3 * 0.7 * 0.7 * 0.7 * 0.3 * 0.3 * 0.3 * 0.7 * 0.3 * 0.3"
      ],
      "execution_count": 1,
      "outputs": [
        {
          "output_type": "execute_result",
          "data": {
            "text/plain": [
              "0.00017503289999999994"
            ]
          },
          "metadata": {
            "tags": []
          },
          "execution_count": 1
        }
      ]
    },
    {
      "cell_type": "markdown",
      "metadata": {
        "id": "ZRNQnVpSg2R3"
      },
      "source": [
        "que es lo mismo que:\r\n",
        "\r\n",
        "$P(S)= (\\beta^*)^{\\sum_{i\\leq{N}}X_i} (1-\\beta^*)^{\\sum_{i\\leq{N}}(1-x_{i})}$\r\n"
      ]
    },
    {
      "cell_type": "code",
      "metadata": {
        "colab": {
          "base_uri": "https://localhost:8080/"
        },
        "id": "MLl1Fc7AAM4h",
        "outputId": "44282bde-a5dd-4103-d630-420dd4ff4d42"
      },
      "source": [
        "(0.3**6)*(0.7**4)"
      ],
      "execution_count": 2,
      "outputs": [
        {
          "output_type": "execute_result",
          "data": {
            "text/plain": [
              "0.00017503289999999991"
            ]
          },
          "metadata": {
            "tags": []
          },
          "execution_count": 2
        }
      ]
    },
    {
      "cell_type": "markdown",
      "metadata": {
        "id": "cf2xdS73kZLm"
      },
      "source": [
        "que es lo mismo que:\r\n",
        "\r\n",
        "$P(S)= (\\sum_{i\\leq{N}}x_i)~log(\\beta^*) + (\\sum_{i\\leq{N}}(1-x_{i}))~ log(1-\\beta^*)$\r\n"
      ]
    },
    {
      "cell_type": "code",
      "metadata": {
        "id": "FktWIfgloG9P"
      },
      "source": [
        "import numpy as np"
      ],
      "execution_count": 4,
      "outputs": []
    },
    {
      "cell_type": "code",
      "metadata": {
        "colab": {
          "base_uri": "https://localhost:8080/"
        },
        "id": "K2fB5r0l9SgY",
        "outputId": "68285c79-17e3-4193-9cbf-3adcc29d2e07"
      },
      "source": [
        "(6*np.log(.30)+4*np.log(.7))\r\n"
      ],
      "execution_count": 5,
      "outputs": [
        {
          "output_type": "execute_result",
          "data": {
            "text/plain": [
              "-8.650536601710547"
            ]
          },
          "metadata": {
            "tags": []
          },
          "execution_count": 5
        }
      ]
    },
    {
      "cell_type": "code",
      "metadata": {
        "colab": {
          "base_uri": "https://localhost:8080/"
        },
        "id": "r3dvxZTF8v9W",
        "outputId": "cb7633bf-3aba-472c-ec4b-aa13063f7a07"
      },
      "source": [
        "np.exp(6*np.log(.30)+4*np.log(.7))"
      ],
      "execution_count": 6,
      "outputs": [
        {
          "output_type": "execute_result",
          "data": {
            "text/plain": [
              "0.00017503289999999975"
            ]
          },
          "metadata": {
            "tags": []
          },
          "execution_count": 6
        }
      ]
    },
    {
      "cell_type": "markdown",
      "metadata": {
        "id": "D5DTmFohoW94"
      },
      "source": [
        "Compare las probabilidades de obtener las muestras siguientes, de una variable aleatoria con la misma distribución bernoulli (P_exito=3):"
      ]
    },
    {
      "cell_type": "code",
      "metadata": {
        "colab": {
          "base_uri": "https://localhost:8080/"
        },
        "id": "dAYBisMglxSL",
        "outputId": "296e480a-0522-4b20-bee9-57edabe72bca"
      },
      "source": [
        "# 3 éxitos, 7 fracasos\r\n",
        "np.exp(3*np.log(.30)+7*np.log(.7))"
      ],
      "execution_count": 7,
      "outputs": [
        {
          "output_type": "execute_result",
          "data": {
            "text/plain": [
              "0.0022235660999999976"
            ]
          },
          "metadata": {
            "tags": []
          },
          "execution_count": 7
        }
      ]
    },
    {
      "cell_type": "code",
      "metadata": {
        "colab": {
          "base_uri": "https://localhost:8080/"
        },
        "id": "X_NpYuW_oQz6",
        "outputId": "e8836813-131a-43cc-b9f3-b1b7210c285c"
      },
      "source": [
        "# 5 éxitos, 5 fracasos\r\n",
        "np.exp(5*np.log(.30)+5*np.log(.7))"
      ],
      "execution_count": 8,
      "outputs": [
        {
          "output_type": "execute_result",
          "data": {
            "text/plain": [
              "0.0004084100999999997"
            ]
          },
          "metadata": {
            "tags": []
          },
          "execution_count": 8
        }
      ]
    },
    {
      "cell_type": "code",
      "metadata": {
        "colab": {
          "base_uri": "https://localhost:8080/"
        },
        "id": "vofk6HCEl4R2",
        "outputId": "e9b2167c-14a7-400a-af0f-6a51c23b9c69"
      },
      "source": [
        "# 7 éxitos, 3 fracasos\r\n",
        "np.exp(7*np.log(.30)+3*np.log(.7))"
      ],
      "execution_count": 10,
      "outputs": [
        {
          "output_type": "execute_result",
          "data": {
            "text/plain": [
              "7.501409999999996e-05"
            ]
          },
          "metadata": {
            "tags": []
          },
          "execution_count": 10
        }
      ]
    }
  ]
}