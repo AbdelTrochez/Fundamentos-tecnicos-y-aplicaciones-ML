{
  "nbformat": 4,
  "nbformat_minor": 0,
  "metadata": {
    "colab": {
      "name": "Probabilidad de un muestreo de una variable con distribución Bernoulli.ipynb",
      "provenance": [],
      "authorship_tag": "ABX9TyO6H8QtCSqpwGaxgPf5JUW1",
      "include_colab_link": true
    },
    "kernelspec": {
      "name": "python3",
      "display_name": "Python 3"
    }
  },
  "cells": [
    {
      "cell_type": "markdown",
      "metadata": {
        "id": "view-in-github",
        "colab_type": "text"
      },
      "source": [
        "<a href=\"https://colab.research.google.com/github/AnIsAsPe/Fundamentos-tecnicos-y-aplicaciones-ML/blob/main/Semana%204/%20Demostraci%C3%B3n_Probabilidad_de_un_muestreo_variable_Bernoulli.ipynb\" target=\"_parent\"><img src=\"https://colab.research.google.com/assets/colab-badge.svg\" alt=\"Open In Colab\"/></a>"
      ]
    },
    {
      "cell_type": "markdown",
      "metadata": {
        "id": "ESBLH1-5DN_o"
      },
      "source": [
        "# $(\\beta^*)^x (1-\\beta^*)^{1-x}$"
      ]
    },
    {
      "cell_type": "code",
      "metadata": {
        "colab": {
          "base_uri": "https://localhost:8080/"
        },
        "id": "l1EURnAn-2xB",
        "outputId": "ba5ecf62-61b5-468b-9169-4480ca8af923"
      },
      "source": [
        "import numpy\r\n",
        "from scipy.stats import bernoulli\r\n",
        "\r\n",
        "P_exito = 0.3\r\n",
        "\r\n",
        "n = 10\r\n",
        "muestra = bernoulli.rvs(size = n, p = P_exito)\r\n",
        "\r\n",
        "\r\n",
        "\r\n",
        "print('Elementos de la muestra: \\n{}'.format(muestra))\r\n"
      ],
      "execution_count": null,
      "outputs": [
        {
          "output_type": "stream",
          "text": [
            "Elementos de la muestra: \n",
            "[1 0 0 0 1 1 1 0 1 1]\n"
          ],
          "name": "stdout"
        }
      ]
    },
    {
      "cell_type": "markdown",
      "metadata": {
        "id": "U93bWg1Jp4Oy"
      },
      "source": [
        "# Vamos a calcular la probabilidad de obtener la siguiente muestra"
      ]
    },
    {
      "cell_type": "code",
      "metadata": {
        "colab": {
          "base_uri": "https://localhost:8080/"
        },
        "id": "r3F8gqoZpcQs",
        "outputId": "8eab2502-b8f8-492f-fe87-8ae053d30e25"
      },
      "source": [
        "muestra = [1,0, 0, 0, 1, 1, 1, 0, 1, 1]\r\n",
        "muestra"
      ],
      "execution_count": 1,
      "outputs": [
        {
          "output_type": "execute_result",
          "data": {
            "text/plain": [
              "[1, 0, 0, 0, 1, 1, 1, 0, 1, 1]"
            ]
          },
          "metadata": {
            "tags": []
          },
          "execution_count": 1
        }
      ]
    },
    {
      "cell_type": "markdown",
      "metadata": {
        "id": "Vdg-JZ81F07Q"
      },
      "source": [
        "$P(S)=\\displaystyle\\prod_{i\\leq{N}} (\\beta^*)^{x_{i}} (1-\\beta^*)^{1-x_{i}}$\r\n",
        "-\r\n",
        "\r\n"
      ]
    },
    {
      "cell_type": "code",
      "metadata": {
        "colab": {
          "base_uri": "https://localhost:8080/"
        },
        "id": "aizq7_xUAocc",
        "outputId": "660d7061-a002-4dbb-f4f8-e284701ad0ed"
      },
      "source": [
        "0.3 * 0.7 * 0.7 * 0.7 * 0.3 * 0.3 * 0.3 * 0.7 * 0.3 * 0.3"
      ],
      "execution_count": 2,
      "outputs": [
        {
          "output_type": "execute_result",
          "data": {
            "text/plain": [
              "0.00017503289999999994"
            ]
          },
          "metadata": {
            "tags": []
          },
          "execution_count": 2
        }
      ]
    },
    {
      "cell_type": "markdown",
      "metadata": {
        "id": "ZRNQnVpSg2R3"
      },
      "source": [
        "que es lo mismo que:\r\n",
        "\r\n",
        "$P(S)= (\\beta^*)^{\\sum_{i\\leq{N}}X_i} (1-\\beta^*)^{\\sum_{i\\leq{N}}(1-x_{i})}$\r\n"
      ]
    },
    {
      "cell_type": "code",
      "metadata": {
        "colab": {
          "base_uri": "https://localhost:8080/"
        },
        "id": "MLl1Fc7AAM4h",
        "outputId": "acf5b510-e419-4775-cd33-9acefb99661c"
      },
      "source": [
        "(0.3**6)*(0.7**4)"
      ],
      "execution_count": 3,
      "outputs": [
        {
          "output_type": "execute_result",
          "data": {
            "text/plain": [
              "0.00017503289999999991"
            ]
          },
          "metadata": {
            "tags": []
          },
          "execution_count": 3
        }
      ]
    },
    {
      "cell_type": "markdown",
      "metadata": {
        "id": "cf2xdS73kZLm"
      },
      "source": [
        "que es lo mismo que:\r\n",
        "\r\n",
        "$P(S)= (\\sum_{i\\leq{N}}x_i)~log(\\beta^*) + (\\sum_{i\\leq{N}}(1-x_{i}))~ log(1-\\beta^*)$\r\n"
      ]
    },
    {
      "cell_type": "code",
      "metadata": {
        "colab": {
          "base_uri": "https://localhost:8080/"
        },
        "id": "K2fB5r0l9SgY",
        "outputId": "138854e2-4dd3-451f-a6ce-73c5220d41f3"
      },
      "source": [
        "(6*np.log(.30)+4*np.log(.7))\r\n"
      ],
      "execution_count": 5,
      "outputs": [
        {
          "output_type": "execute_result",
          "data": {
            "text/plain": [
              "-8.650536601710547"
            ]
          },
          "metadata": {
            "tags": []
          },
          "execution_count": 5
        }
      ]
    },
    {
      "cell_type": "code",
      "metadata": {
        "colab": {
          "base_uri": "https://localhost:8080/"
        },
        "id": "r3dvxZTF8v9W",
        "outputId": "89ddb8cf-8e5b-4016-9bef-730865e58345"
      },
      "source": [
        "np.exp(6*np.log(.30)+4*np.log(.7))"
      ],
      "execution_count": 6,
      "outputs": [
        {
          "output_type": "execute_result",
          "data": {
            "text/plain": [
              "0.00017503289999999975"
            ]
          },
          "metadata": {
            "tags": []
          },
          "execution_count": 6
        }
      ]
    },
    {
      "cell_type": "markdown",
      "metadata": {
        "id": "D5DTmFohoW94"
      },
      "source": [
        "Compare las probabilidades de obtener las muestras siguientes, de una variable aleatoria con la misma distribución bernoulli (P_exito=3):"
      ]
    },
    {
      "cell_type": "code",
      "metadata": {
        "colab": {
          "base_uri": "https://localhost:8080/"
        },
        "id": "dAYBisMglxSL",
        "outputId": "d6bae134-1213-4ffb-b3fb-b12c3fa2310c"
      },
      "source": [
        "# 3 éxitos, 7 fracasos\r\n",
        "np.exp(3*np.log(.30)+7*np.log(.7))"
      ],
      "execution_count": 7,
      "outputs": [
        {
          "output_type": "execute_result",
          "data": {
            "text/plain": [
              "0.0022235660999999976"
            ]
          },
          "metadata": {
            "tags": []
          },
          "execution_count": 7
        }
      ]
    },
    {
      "cell_type": "code",
      "metadata": {
        "colab": {
          "base_uri": "https://localhost:8080/"
        },
        "id": "X_NpYuW_oQz6",
        "outputId": "2786d31e-917d-446a-c677-900c89bc1fc0"
      },
      "source": [
        "# 5 éxitos, 5 fracasos\r\n",
        "np.exp(5*np.log(.30)+5*np.log(.7))"
      ],
      "execution_count": 8,
      "outputs": [
        {
          "output_type": "execute_result",
          "data": {
            "text/plain": [
              "0.0004084100999999997"
            ]
          },
          "metadata": {
            "tags": []
          },
          "execution_count": 8
        }
      ]
    },
    {
      "cell_type": "code",
      "metadata": {
        "colab": {
          "base_uri": "https://localhost:8080/"
        },
        "id": "vofk6HCEl4R2",
        "outputId": "06f7b852-231e-448c-c75a-b6c2c78a3572"
      },
      "source": [
        "# 7 éxitos, 3 fracasos\r\n",
        "np.exp(7*np.log(.30)+3*np.log(.7))"
      ],
      "execution_count": 9,
      "outputs": [
        {
          "output_type": "execute_result",
          "data": {
            "text/plain": [
              "7.501409999999996e-05"
            ]
          },
          "metadata": {
            "tags": []
          },
          "execution_count": 9
        }
      ]
    }
  ]
}