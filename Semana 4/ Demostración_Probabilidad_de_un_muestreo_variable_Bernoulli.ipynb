{
  "nbformat": 4,
  "nbformat_minor": 0,
  "metadata": {
    "colab": {
      "name": "Probabilidad de un muestreo de una variable con distribución Bernoulli.ipynb",
      "provenance": [],
      "authorship_tag": "ABX9TyNLKkg7rOEOUJPzS6Kz5l+i",
      "include_colab_link": true
    },
    "kernelspec": {
      "name": "python3",
      "display_name": "Python 3"
    }
  },
  "cells": [
    {
      "cell_type": "markdown",
      "metadata": {
        "id": "view-in-github",
        "colab_type": "text"
      },
      "source": [
        "<a href=\"https://colab.research.google.com/github/AnIsAsPe/Fundamentos-tecnicos-y-aplicaciones-ML/blob/main/Semana%204/%20Demostraci%C3%B3n_Probabilidad_de_un_muestreo_variable_Bernoulli.ipynb\" target=\"_parent\"><img src=\"https://colab.research.google.com/assets/colab-badge.svg\" alt=\"Open In Colab\"/></a>"
      ]
    },
    {
      "cell_type": "markdown",
      "metadata": {
        "id": "ESBLH1-5DN_o"
      },
      "source": [
        "# $(\\beta^*)^x (1-\\beta^*)^{1-x}$"
      ]
    },
    {
      "cell_type": "code",
      "metadata": {
        "colab": {
          "base_uri": "https://localhost:8080/"
        },
        "id": "l1EURnAn-2xB",
        "outputId": "ba5ecf62-61b5-468b-9169-4480ca8af923"
      },
      "source": [
        "import numpy\r\n",
        "from scipy.stats import bernoulli\r\n",
        "\r\n",
        "P_exito = 0.3\r\n",
        "\r\n",
        "n = 10\r\n",
        "muestra = bernoulli.rvs(size = n, p = P_exito)\r\n",
        "\r\n",
        "\r\n",
        "\r\n",
        "print('Elementos de la muestra: \\n{}'.format(muestra))\r\n"
      ],
      "execution_count": 90,
      "outputs": [
        {
          "output_type": "stream",
          "text": [
            "Elementos de la muestra: \n",
            "[1 0 0 0 1 1 1 0 1 1]\n"
          ],
          "name": "stdout"
        }
      ]
    },
    {
      "cell_type": "markdown",
      "metadata": {
        "id": "Vdg-JZ81F07Q"
      },
      "source": [
        "$P(S)=\\displaystyle\\prod_{i\\leq{N}} (\\beta^*)^{x_{i}} (1-\\beta^*)^{1-x_{i}}$\r\n",
        "-\r\n",
        "\r\n"
      ]
    },
    {
      "cell_type": "code",
      "metadata": {
        "colab": {
          "base_uri": "https://localhost:8080/"
        },
        "id": "aizq7_xUAocc",
        "outputId": "3d09d467-99b0-49ac-f922-e485ad06f27e"
      },
      "source": [
        "0.3 * 0.3 * 0.3 * 0.3 * 0.3 * 0.7 * 0.7 * 0.7 * 0.7 * 0.7"
      ],
      "execution_count": 20,
      "outputs": [
        {
          "output_type": "execute_result",
          "data": {
            "text/plain": [
              "0.0004084100999999999"
            ]
          },
          "metadata": {
            "tags": []
          },
          "execution_count": 20
        }
      ]
    },
    {
      "cell_type": "markdown",
      "metadata": {
        "id": "ZRNQnVpSg2R3"
      },
      "source": [
        "que es lo mismo que:\r\n",
        "\r\n",
        "$P(S)= (\\beta^*)^{\\sum_{i\\leq{N}}X_i} (1-\\beta^*)^{\\sum_{i\\leq{N}}(1-x_{i})}$\r\n"
      ]
    },
    {
      "cell_type": "code",
      "metadata": {
        "colab": {
          "base_uri": "https://localhost:8080/"
        },
        "id": "MLl1Fc7AAM4h",
        "outputId": "1b5b5879-4639-4200-a938-dad69a90466e"
      },
      "source": [
        "(0.3**5)*(0.7**5)"
      ],
      "execution_count": 47,
      "outputs": [
        {
          "output_type": "execute_result",
          "data": {
            "text/plain": [
              "0.00040841009999999976"
            ]
          },
          "metadata": {
            "tags": []
          },
          "execution_count": 47
        }
      ]
    },
    {
      "cell_type": "markdown",
      "metadata": {
        "id": "cf2xdS73kZLm"
      },
      "source": [
        "que es lo mismo que:\r\n",
        "\r\n",
        "$P(S)= (\\sum_{i\\leq{N}}x_i)~log(\\beta^*) + (\\sum_{i\\leq{N}}(1-x_{i}))~ log(1-\\beta^*)$\r\n"
      ]
    },
    {
      "cell_type": "code",
      "metadata": {
        "colab": {
          "base_uri": "https://localhost:8080/"
        },
        "id": "K2fB5r0l9SgY",
        "outputId": "a0708dfe-220b-498a-fdac-4bf483072661"
      },
      "source": [
        "(5*np.log(.30)+5*np.log(.7))\r\n"
      ],
      "execution_count": 23,
      "outputs": [
        {
          "output_type": "execute_result",
          "data": {
            "text/plain": [
              "-7.803238741323343"
            ]
          },
          "metadata": {
            "tags": []
          },
          "execution_count": 23
        }
      ]
    },
    {
      "cell_type": "code",
      "metadata": {
        "colab": {
          "base_uri": "https://localhost:8080/"
        },
        "id": "r3dvxZTF8v9W",
        "outputId": "7e9cc4a4-8784-42e3-bb19-b5902809d542"
      },
      "source": [
        "np.exp(5*np.log(.30)+5*np.log(.7))"
      ],
      "execution_count": 95,
      "outputs": [
        {
          "output_type": "execute_result",
          "data": {
            "text/plain": [
              "0.0004084100999999997"
            ]
          },
          "metadata": {
            "tags": []
          },
          "execution_count": 95
        }
      ]
    },
    {
      "cell_type": "code",
      "metadata": {
        "colab": {
          "base_uri": "https://localhost:8080/"
        },
        "id": "dAYBisMglxSL",
        "outputId": "194d5ec3-c172-47e4-b959-f299eb5c69a4"
      },
      "source": [
        "np.exp(3*np.log(.30)+7*np.log(.7))"
      ],
      "execution_count": 97,
      "outputs": [
        {
          "output_type": "execute_result",
          "data": {
            "text/plain": [
              "0.0022235660999999976"
            ]
          },
          "metadata": {
            "tags": []
          },
          "execution_count": 97
        }
      ]
    },
    {
      "cell_type": "code",
      "metadata": {
        "colab": {
          "base_uri": "https://localhost:8080/"
        },
        "id": "vofk6HCEl4R2",
        "outputId": "d94d2267-32e4-4c16-cc7a-1f05160e2251"
      },
      "source": [
        "np.exp(7*np.log(.30)+3*np.log(.7))"
      ],
      "execution_count": 98,
      "outputs": [
        {
          "output_type": "execute_result",
          "data": {
            "text/plain": [
              "7.501409999999996e-05"
            ]
          },
          "metadata": {
            "tags": []
          },
          "execution_count": 98
        }
      ]
    }
  ]
}